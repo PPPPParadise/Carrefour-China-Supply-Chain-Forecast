{
 "cells": [
  {
   "cell_type": "code",
   "execution_count": 74,
   "metadata": {},
   "outputs": [],
   "source": [
    "import datetime\n",
    "import os\n",
    "from datetime import timedelta\n",
    "from os.path import abspath\n",
    "import pandas as pd\n",
    "from pandas import ExcelWriter\n",
    "from openpyxl import Workbook\n",
    "\n",
    "from pyspark.sql import SQLContext\n",
    "from pyspark.sql import SparkSession\n",
    "from pyspark.sql import functions as F\n",
    "\n",
    "warehouse_location = abspath('spark-warehouse')\n",
    "os.environ[\"PYSPARK_SUBMIT_ARGS\"] = '--jars /data/jupyter/kudu-spark2_2.11-1.8.0.jar pyspark-shell'\n",
    "\n",
    "spark = SparkSession.builder \\\n",
    "    .appName(\"Data completeness check\") \\\n",
    "    .config(\"spark.sql.warehouse.dir\", warehouse_location) \\\n",
    "    .config(\"spark.driver.memory\", '8g') \\\n",
    "    .config(\"spark.executor.memory\", '8g') \\\n",
    "    .config(\"spark.num.executors\", '4') \\\n",
    "    .config(\"hive.exec.compress.output\", 'false') \\\n",
    "    .enableHiveSupport() \\\n",
    "    .getOrCreate()\n",
    "\n",
    "sc = spark.sparkContext\n",
    "\n",
    "sqlc = SQLContext(sc)"
   ]
  },
  {
   "cell_type": "code",
   "execution_count": 56,
   "metadata": {},
   "outputs": [],
   "source": [
    "pred_insert_date = '20190830'\n",
    "\n",
    "OOS_CHECK_DATE = '20190911'"
   ]
  },
  {
   "cell_type": "code",
   "execution_count": 57,
   "metadata": {},
   "outputs": [],
   "source": [
    "kudu_tables = [\n",
    "    'lfms.daily_dctrxn', 'lfms.daily_dcstock', 'lfms.ord', 'lfms.daily_shipment', 'lddb.calendar'\n",
    "]\n",
    "\n",
    "for tbl in kudu_tables:\n",
    "    spark.read.format('org.apache.kudu.spark.kudu') \\\n",
    "    .option('kudu.master', \"dtla1apps11:7051,dtla1apps12:7051,dtla1apps13:7051\") \\\n",
    "    .option('kudu.table', f'impala::{tbl}') \\\n",
    "    .load() \\\n",
    "    .registerTempTable('{}'.format(tbl.replace('.', '_')))"
   ]
  },
  {
   "cell_type": "code",
   "execution_count": 67,
   "metadata": {},
   "outputs": [],
   "source": [
    "def read_query_and_fetch(sql_path, create_table=False, get_query=False, kudu_replace=None, **query_params):\n",
    "    with open(sql_path, 'r') as f:\n",
    "        query = f.read()\n",
    "    if kudu_replace is not None:\n",
    "        for k, v in kudu_replace.items():\n",
    "            query = query.replace(k, v)\n",
    "    if not create_table:\n",
    "        ## remove lines with `table`\n",
    "        q0 = query\n",
    "        query = '\\n'.join([line for line in q0.split('\\n')\n",
    "                           if ('drop table' not in line.lower())\n",
    "                           and ('create table' not in line.lower())])\n",
    "    query = query.format(**query_params)\n",
    "    if get_query:\n",
    "        return query\n",
    "    return sqlc.sql(query)"
   ]
  },
  {
   "cell_type": "code",
   "execution_count": 91,
   "metadata": {},
   "outputs": [],
   "source": [
    "oos_item_list_dc = read_query_and_fetch(\n",
    "    'kpi_oos_item_list_dc.sql',\n",
    "    database_name='vartefact', oos_check_date=OOS_CHECK_DATE,\n",
    "    kudu_replace={'lfms.daily_dcstock': 'lfms_daily_dcstock'}\n",
    ")"
   ]
  },
  {
   "cell_type": "code",
   "execution_count": 92,
   "metadata": {},
   "outputs": [
    {
     "name": "stdout",
     "output_type": "stream",
     "text": [
      "23 out of stock items in DC\n"
     ]
    }
   ],
   "source": [
    "print(oos_item_list_dc.count(), \"out of stock items in DC\")"
   ]
  },
  {
   "cell_type": "code",
   "execution_count": 93,
   "metadata": {},
   "outputs": [],
   "source": [
    "oos_item_list_dc.createOrReplaceTempView(\"oos_item_list_dc\")"
   ]
  },
  {
   "cell_type": "code",
   "execution_count": 94,
   "metadata": {},
   "outputs": [],
   "source": [
    "order_check_sql = \\\n",
    "    \"\"\"\n",
    "with weekly_predict as (\n",
    "    select\n",
    "        cal.week_key, pred.item_id, pred.sub_id,\n",
    "        sum(daily_sales_pred_original) as weekly_pred\n",
    "    from\n",
    "        vartefact.forecast_regular_results_week_to_day_original_pred_all pred\n",
    "        join lddb_calendar cal on pred.date_key = cal.date_key\n",
    "        join oos_item_list_dc oild\n",
    "        on oild.item_id = pred.item_id\n",
    "        and oild.sub_id = pred.sub_id\n",
    "    where\n",
    "         pred.insert_date_key = {0}\n",
    "    group by\n",
    "        cal.week_key, pred.item_id, pred.sub_id\n",
    "),\n",
    "weekly_order as (\n",
    "    select\n",
    "        cal.week_key, ord.item_id, ord.sub_id,\n",
    "        sum(ord.order_qty) as weekly_order\n",
    "    from\n",
    "        vartefact.forecast_onstock_orders ord\n",
    "        join lddb_calendar cal on ord.order_day = cal.date_key\n",
    "        join oos_item_list_dc oild\n",
    "        on oild.item_id = ord.item_id\n",
    "        and oild.sub_id = ord.sub_id\n",
    "    group by\n",
    "        cal.week_key, ord.item_id, ord.sub_id\n",
    ")\n",
    "select\n",
    "    prd.item_id,\n",
    "    prd.sub_id,\n",
    "    prd.week_key,\n",
    "    cal2.date_key as week_start_day,\n",
    "    prd.weekly_pred,\n",
    "    ord.weekly_order\n",
    "from\n",
    "    weekly_predict prd\n",
    "    join weekly_order ord on prd.week_key = ord.week_key\n",
    "        and prd.item_id = ord.item_id\n",
    "        and prd.sub_id = ord.sub_id\n",
    "    join lddb_calendar cal2 on cal2.week_key = ord.week_key\n",
    "    and cal2.dow = 2\n",
    "order by\n",
    "    prd.sub_id,\n",
    "    prd.week_key\n",
    "    \"\"\".replace(\"\\n\", \" \").format(pred_insert_date)"
   ]
  },
  {
   "cell_type": "code",
   "execution_count": 95,
   "metadata": {},
   "outputs": [],
   "source": [
    "df = sqlc.sql(order_check_sql).toPandas()"
   ]
  },
  {
   "cell_type": "code",
   "execution_count": 96,
   "metadata": {},
   "outputs": [],
   "source": [
    "df.to_csv(f'{OOS_CHECK_DATE}_output.csv')"
   ]
  },
  {
   "cell_type": "code",
   "execution_count": null,
   "metadata": {},
   "outputs": [],
   "source": []
  }
 ],
 "metadata": {
  "kernelspec": {
   "display_name": "Python 3",
   "language": "python",
   "name": "python3"
  },
  "language_info": {
   "codemirror_mode": {
    "name": "ipython",
    "version": 3
   },
   "file_extension": ".py",
   "mimetype": "text/x-python",
   "name": "python",
   "nbconvert_exporter": "python",
   "pygments_lexer": "ipython3",
   "version": "3.6.6"
  }
 },
 "nbformat": 4,
 "nbformat_minor": 2
}
