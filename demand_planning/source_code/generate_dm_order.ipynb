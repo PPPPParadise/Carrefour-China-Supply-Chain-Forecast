{
 "cells": [
  {
   "cell_type": "code",
   "execution_count": 1,
   "metadata": {},
   "outputs": [],
   "source": [
    "import datetime\n",
    "from datetime import timedelta\n",
    "\n",
    "from load_spark import load_spark\n",
    "from pyspark.sql import SQLContext\n",
    "from pyspark.sql import functions as F\n",
    "\n",
    "spark = load_spark(\"generate_dm_order\")\n",
    "\n",
    "sc = spark.sparkContext\n",
    "\n",
    "sqlc = SQLContext(sc)"
   ]
  },
  {
   "cell_type": "code",
   "execution_count": 2,
   "metadata": {},
   "outputs": [
    {
     "name": "stdout",
     "output_type": "stream",
     "text": [
      "2019-07-30 12:00:59.626525 start\n"
     ]
    }
   ],
   "source": [
    "print(str(datetime.datetime.now()), \"start\")\n",
    "# The input\n",
    "date_str = '2019-01-08'\n",
    "\n",
    "# safety stock level\n",
    "safety_stock_level = 2;\n",
    "\n",
    "run_date = datetime.datetime.strptime(date_str, '%Y-%m-%d').date()\n",
    "\n",
    "# starting day of the DM calculation period\n",
    "start_date = run_date + timedelta(weeks=2)\n",
    "\n",
    "# end day of the DM calculation period\n",
    "end_date = run_date + timedelta(weeks=7)\n",
    "\n",
    "stock_date = run_date + timedelta(days=-1)"
   ]
  },
  {
   "cell_type": "code",
   "execution_count": 3,
   "metadata": {},
   "outputs": [],
   "source": [
    "#item_id = 1056574\n",
    "item_id = None\n",
    "\n",
    "# sub_id = 1431061\n",
    "sub_id = None\n",
    "\n",
    "# store_code = \"150\"\n",
    "store_code = None\n",
    "\n",
    "dm_theme_id = None"
   ]
  },
  {
   "cell_type": "code",
   "execution_count": 4,
   "metadata": {},
   "outputs": [],
   "source": [
    "spark.read.format('org.apache.kudu.spark.kudu') \\\n",
    "    .option('kudu.master', \"dtla1apps11:7051,dtla1apps12:7051,dtla1apps13:7051\") \\\n",
    "    .option('kudu.table', \"impala::nsa.dm_extract_log\") \\\n",
    "    .load() \\\n",
    "    .registerTempTable('dm_extract_log')"
   ]
  },
  {
   "cell_type": "code",
   "execution_count": 5,
   "metadata": {},
   "outputs": [],
   "source": [
    "dm_item_store_sql = \\\n",
    "    \"\"\"\n",
    "    select \n",
    "    ndt.dm_theme_id, ndt.theme_start_date, ndt.theme_end_date,\n",
    "    del.npp, del.ppp, del.ppp_start_date, del.ppp_end_date, \n",
    "    del.city_code, fsd.store_code, fsd.dept_code, fsd.dept,\n",
    "    icis.item_id, icis.sub_id, icis.item_code, icis.sub_code,\n",
    "    icis.date_key as run_date,\n",
    "    fdo.first_order_date as past_result\n",
    "    from \n",
    "    vartefact.nsa_dm_extraction_log del\n",
    "    join ods.nsa_dm_theme  ndt\n",
    "        on del.dm_theme_id = ndt.dm_theme_id\n",
    "    join ods.p4md_stogld ps\n",
    "        on del.city_code = ps.stocity\n",
    "    join vartefact.forecast_stores_dept fsd\n",
    "        on ps.stostocd = fsd.store_code\n",
    "    join vartefact.item_code_id_stock icis\n",
    "        on icis.date_key = '{0}'\n",
    "        AND del.item_code = concat(icis.dept_code, icis.item_code)\n",
    "        AND del.sub_code = icis.sub_code\n",
    "        AND fsd.dept_code = icis.dept_code\n",
    "        AND fsd.store_code = icis.store_code\n",
    "    left join vartefact.forecast_dm_orders fdo\n",
    "        ON ndt.dm_theme_id = fdo.dm_theme_id\n",
    "        AND icis.dept_code = fdo.dept_code\n",
    "        AND icis.item_code = fdo.item_code\n",
    "        AND icis.sub_code = fdo.sub_code\n",
    "        AND icis.store_code = fdo.store_code\n",
    "    where del.extract_order = 50\n",
    "     and ndt.theme_start_date >= '{1}' \n",
    "     and ndt.theme_end_date <= '{2}'\n",
    "    \"\"\".replace(\"\\n\", \" \")\n",
    "\n",
    "dm_item_store_sql = dm_item_store_sql.format(start_date.strftime(\"%Y%m%d\"), start_date.isoformat(),\n",
    "                                             end_date.isoformat())"
   ]
  },
  {
   "cell_type": "markdown",
   "metadata": {},
   "source": [
    "# Exclude the DM that already have orders"
   ]
  },
  {
   "cell_type": "code",
   "execution_count": 6,
   "metadata": {},
   "outputs": [
    {
     "name": "stdout",
     "output_type": "stream",
     "text": [
      "Before filtering already calculated DM  1\n",
      "After filtering already calculated DM  1\n"
     ]
    }
   ],
   "source": [
    "dm_item_store_df = sqlc.sql(dm_item_store_sql)\n",
    "\n",
    "if item_id != None:\n",
    "    dm_item_store_df = dm_item_store_df.filter(f\"item_id={item_id}\")\n",
    "\n",
    "if sub_id != None:\n",
    "    dm_item_store_df = dm_item_store_df.filter(f\"sub_id={sub_id}\")\n",
    "\n",
    "if store_code != None:\n",
    "    dm_item_store_df = dm_item_store_df.filter(f\"store_code='{store_code}'\")\n",
    "\n",
    "if dm_theme_id != None:\n",
    "    dm_item_store_df = dm_item_store_df.filter(f\"dm_theme_id={dm_theme_id}\")\n",
    "\n",
    "print(\"Before filtering already calculated DM \", dm_item_store_df.count())\n",
    "\n",
    "dm_item_store_df = dm_item_store_df.filter(\"past_result is null\")\n",
    "\n",
    "print(\"After filtering already calculated DM \", dm_item_store_df.count())"
   ]
  },
  {
   "cell_type": "markdown",
   "metadata": {},
   "source": [
    "# Only consider the nearest DM"
   ]
  },
  {
   "cell_type": "code",
   "execution_count": 7,
   "metadata": {},
   "outputs": [],
   "source": [
    "first_dm = dm_item_store_df. \\\n",
    "    groupBy(['item_id', 'sub_id', 'store_code']). \\\n",
    "    agg(F.min(\"theme_start_date\").alias(\"theme_start_date\"))"
   ]
  },
  {
   "cell_type": "code",
   "execution_count": 8,
   "metadata": {},
   "outputs": [],
   "source": [
    "dm_item_store_df = dm_item_store_df.join(first_dm, ['item_id', 'sub_id', 'store_code', 'theme_start_date'])"
   ]
  },
  {
   "cell_type": "code",
   "execution_count": 9,
   "metadata": {},
   "outputs": [
    {
     "name": "stdout",
     "output_type": "stream",
     "text": [
      "After getting only first DM  1\n"
     ]
    }
   ],
   "source": [
    "print(\"After getting only first DM \", dm_item_store_df.count())"
   ]
  },
  {
   "cell_type": "code",
   "execution_count": 10,
   "metadata": {},
   "outputs": [],
   "source": [
    "dm_item_store_df.write.mode(\"overwrite\").format(\"parquet\").saveAsTable(\"vartefact.tmp_dm_item_store\")"
   ]
  },
  {
   "cell_type": "code",
   "execution_count": 11,
   "metadata": {},
   "outputs": [],
   "source": [
    "sqlc.table(\"vartefact.tmp_dm_item_store\").createOrReplaceTempView(\"dm_item_store\")"
   ]
  },
  {
   "cell_type": "markdown",
   "metadata": {},
   "source": [
    "# The first order day within PPP period"
   ]
  },
  {
   "cell_type": "code",
   "execution_count": 12,
   "metadata": {},
   "outputs": [],
   "source": [
    "onstock_order_sql = \\\n",
    "    \"\"\"\n",
    "    SELECT \n",
    "        dis.item_id,\n",
    "        dis.sub_id,\n",
    "        dis.store_code,\n",
    "        id.pcb,\n",
    "        id.dc_supplier_code,\n",
    "        id.ds_supplier_code,\n",
    "        id.rotation,\n",
    "        ord.date_key AS order_date,\n",
    "        dev.date_key as delivery_date\n",
    "    from dm_item_store dis\n",
    "    join vartefact.forecast_item_details id \n",
    "        on id.item_code = dis.item_code\n",
    "        and id.sub_code = dis.sub_code\n",
    "        and id.dept_code = dis.dept_code\n",
    "    join vartefact.ordinary_onstock_order_deliver_mapping mp\n",
    "        on mp.dept = dis.dept \n",
    "        and id.rotation = mp.`class`\n",
    "        and mp.store_code = dis.store_code\n",
    "    join vartefact.forecast_calendar ord\n",
    "        on ord.weekday_short = mp.order_weekday\n",
    "    join  vartefact.forecast_calendar dev\n",
    "        on dev.weekday_short = mp.deliver_weekday and dev.week_index = ord.week_index + mp.week_shift\n",
    "    where to_date(ord.date_key, 'yyyyMMdd') >= to_date(dis.ppp_start_date, 'yyyy-MM-dd') and dev.date_key <='{0}'\n",
    "    \"\"\".replace(\"\\n\", \" \")\n",
    "\n",
    "onstock_order_sql = onstock_order_sql.format(end_date.strftime(\"%Y%m%d\"))"
   ]
  },
  {
   "cell_type": "code",
   "execution_count": 13,
   "metadata": {
    "lines_to_next_cell": 2
   },
   "outputs": [],
   "source": [
    "onstock_order_deliver_df = sqlc.sql(onstock_order_sql)\n",
    "\n",
    "if item_id != None:\n",
    "    onstock_order_deliver_df = onstock_order_deliver_df.filter(f\"item_id={item_id}\")\n",
    "\n",
    "if sub_id != None:\n",
    "    onstock_order_deliver_df = onstock_order_deliver_df.filter(f\"sub_id={sub_id}\")\n",
    "\n",
    "if store_code != None:\n",
    "    onstock_order_deliver_df = onstock_order_deliver_df.filter(f\"store_code='{store_code}'\")"
   ]
  },
  {
   "cell_type": "code",
   "execution_count": 14,
   "metadata": {},
   "outputs": [],
   "source": [
    "onstock_first_order_df = onstock_order_deliver_df. \\\n",
    "    groupBy(['item_id', 'sub_id', 'store_code', 'pcb','dc_supplier_code', 'ds_supplier_code', 'rotation']). \\\n",
    "    agg(F.min(\"order_date\").alias(\"first_order_date\"), F.min(\"delivery_date\").alias(\"first_delivery_date\"))"
   ]
  },
  {
   "cell_type": "code",
   "execution_count": 15,
   "metadata": {},
   "outputs": [],
   "source": [
    "xdock_order_sql = \\\n",
    "    \"\"\"\n",
    "    SELECT \n",
    "        dis.item_id,\n",
    "        dis.sub_id,\n",
    "        dis.store_code,\n",
    "        id.pcb,\n",
    "        id.dc_supplier_code,\n",
    "        id.ds_supplier_code,\n",
    "        id.rotation,\n",
    "        ord.date_key AS order_date,\n",
    "        dev.date_key as delivery_date\n",
    "    from dm_item_store dis\n",
    "    join vartefact.forecast_item_details id \n",
    "        on id.item_code = dis.item_code\n",
    "        and id.sub_code = dis.sub_code\n",
    "        and id.dept_code = dis.dept_code\n",
    "    join vartefact.ordinary_xrotation_order_deliver_mapping xo\n",
    "        on dis.item_code = xo.item_code and dis.sub_code = xo.sub_code \n",
    "        and dis.dept_code = xo.dept_code\n",
    "    join vartefact.forecast_calendar ord\n",
    "        on ord.iso_weekday = xo.order_weekday\n",
    "    join vartefact.forecast_calendar dev\n",
    "        on dev.iso_weekday = xo.deliver_weekday and dev.week_index = ord.week_index + xo.week_shift\n",
    "    where to_date(ord.date_key, 'yyyyMMdd') >= to_date(dis.ppp_start_date, 'yyyy-MM-dd') and dev.date_key <='{0}' \n",
    "    \"\"\".replace(\"\\n\", \" \")\n",
    "\n",
    "xdock_order_sql = xdock_order_sql.format(end_date.strftime(\"%Y%m%d\"))"
   ]
  },
  {
   "cell_type": "code",
   "execution_count": 16,
   "metadata": {},
   "outputs": [],
   "source": [
    "xdock_order_deliver_df = sqlc.sql(xdock_order_sql)\n",
    "\n",
    "if item_id is not None:\n",
    "    xdock_order_deliver_df = xdock_order_deliver_df.filter(f\"item_id={item_id}\")\n",
    "\n",
    "if sub_id is not None:\n",
    "    xdock_order_deliver_df = xdock_order_deliver_df.filter(f\"sub_id={sub_id}\")\n",
    "\n",
    "if store_code is not None:\n",
    "    xdock_order_deliver_df = xdock_order_deliver_df.filter(f\"store_code='{store_code}'\")"
   ]
  },
  {
   "cell_type": "code",
   "execution_count": 17,
   "metadata": {},
   "outputs": [],
   "source": [
    "xdock_first_order_df = xdock_order_deliver_df. \\\n",
    "    groupBy(['item_id', 'sub_id', 'store_code', 'pcb','dc_supplier_code', 'ds_supplier_code', 'rotation']). \\\n",
    "    agg(F.min(\"order_date\").alias(\"first_order_date\"), F.min(\"delivery_date\").alias(\"first_delivery_date\"))"
   ]
  },
  {
   "cell_type": "code",
   "execution_count": 18,
   "metadata": {},
   "outputs": [],
   "source": [
    "dm_item_store_order_df = dm_item_store_df \\\n",
    "    .join(onstock_first_order_df.union(xdock_first_order_df), \\\n",
    "          ['item_id', 'sub_id', 'store_code'])"
   ]
  },
  {
   "cell_type": "code",
   "execution_count": 19,
   "metadata": {},
   "outputs": [],
   "source": [
    "dm_item_store_order_df.createOrReplaceTempView(\"dm_item_store_order\")"
   ]
  },
  {
   "cell_type": "code",
   "execution_count": 20,
   "metadata": {},
   "outputs": [
    {
     "name": "stdout",
     "output_type": "stream",
     "text": [
      "Number of item stores that will have DM 1\n"
     ]
    }
   ],
   "source": [
    "print(\"Number of item stores that will have DM\", dm_item_store_order_df.count())"
   ]
  },
  {
   "cell_type": "markdown",
   "metadata": {},
   "source": [
    "# Get DM sales prediction"
   ]
  },
  {
   "cell_type": "code",
   "execution_count": 21,
   "metadata": {},
   "outputs": [],
   "source": [
    "dm_sales_predict_sql = \\\n",
    "    \"\"\"\n",
    "    \n",
    "    select \n",
    "      dm.*,\n",
    "      cast(pred.sales_prediction as double) as dm_sales\n",
    "    from \n",
    "        vartefact.dm_pred_results_simple pred\n",
    "        join dm_item_store_order dm\n",
    "        on cast(pred.item_id as int) = dm.item_id\n",
    "        and cast(pred.sub_id as int) = dm.sub_id\n",
    "        and cast(pred.current_dm_theme_id as int) = dm.dm_theme_id\n",
    "        and pred.store_code = dm.store_code\n",
    "    \"\"\".replace(\"\\n\", \" \")"
   ]
  },
  {
   "cell_type": "code",
   "execution_count": 22,
   "metadata": {},
   "outputs": [],
   "source": [
    "dm_prediction = sqlc.sql(dm_sales_predict_sql)"
   ]
  },
  {
   "cell_type": "code",
   "execution_count": 23,
   "metadata": {},
   "outputs": [],
   "source": [
    "dm_prediction.createOrReplaceTempView(\"dm_prediction\")"
   ]
  },
  {
   "cell_type": "code",
   "execution_count": 24,
   "metadata": {},
   "outputs": [],
   "source": [
    "dm_item_store_df.write.mode(\"overwrite\").format(\"parquet\").saveAsTable(\"vartefact.dm_prediction\")"
   ]
  },
  {
   "cell_type": "code",
   "execution_count": 25,
   "metadata": {},
   "outputs": [
    {
     "ename": "KeyboardInterrupt",
     "evalue": "",
     "output_type": "error",
     "traceback": [
      "\u001b[0;31m---------------------------------------------------------------------------\u001b[0m",
      "\u001b[0;31mKeyboardInterrupt\u001b[0m                         Traceback (most recent call last)",
      "\u001b[0;32m<ipython-input-25-34cac046b279>\u001b[0m in \u001b[0;36m<module>\u001b[0;34m\u001b[0m\n\u001b[0;32m----> 1\u001b[0;31m \u001b[0mprint\u001b[0m\u001b[0;34m(\u001b[0m\u001b[0;34m\"Number of item stores with DM prediction\"\u001b[0m\u001b[0;34m,\u001b[0m \u001b[0mdm_prediction\u001b[0m\u001b[0;34m.\u001b[0m\u001b[0mcount\u001b[0m\u001b[0;34m(\u001b[0m\u001b[0;34m)\u001b[0m\u001b[0;34m)\u001b[0m\u001b[0;34m\u001b[0m\u001b[0m\n\u001b[0m",
      "\u001b[0;32m/opt/cloudera/parcels/CDH/lib/spark/python/pyspark/sql/dataframe.py\u001b[0m in \u001b[0;36mcount\u001b[0;34m(self)\u001b[0m\n\u001b[1;32m    520\u001b[0m         \u001b[0;36m2\u001b[0m\u001b[0;34m\u001b[0m\u001b[0m\n\u001b[1;32m    521\u001b[0m         \"\"\"\n\u001b[0;32m--> 522\u001b[0;31m         \u001b[0;32mreturn\u001b[0m \u001b[0mint\u001b[0m\u001b[0;34m(\u001b[0m\u001b[0mself\u001b[0m\u001b[0;34m.\u001b[0m\u001b[0m_jdf\u001b[0m\u001b[0;34m.\u001b[0m\u001b[0mcount\u001b[0m\u001b[0;34m(\u001b[0m\u001b[0;34m)\u001b[0m\u001b[0;34m)\u001b[0m\u001b[0;34m\u001b[0m\u001b[0m\n\u001b[0m\u001b[1;32m    523\u001b[0m \u001b[0;34m\u001b[0m\u001b[0m\n\u001b[1;32m    524\u001b[0m     \u001b[0;34m@\u001b[0m\u001b[0mignore_unicode_prefix\u001b[0m\u001b[0;34m\u001b[0m\u001b[0m\n",
      "\u001b[0;32m/usr/lib/python3.6/site-packages/py4j/java_gateway.py\u001b[0m in \u001b[0;36m__call__\u001b[0;34m(self, *args)\u001b[0m\n\u001b[1;32m   1282\u001b[0m             \u001b[0mproto\u001b[0m\u001b[0;34m.\u001b[0m\u001b[0mEND_COMMAND_PART\u001b[0m\u001b[0;34m\u001b[0m\u001b[0m\n\u001b[1;32m   1283\u001b[0m \u001b[0;34m\u001b[0m\u001b[0m\n\u001b[0;32m-> 1284\u001b[0;31m         \u001b[0manswer\u001b[0m \u001b[0;34m=\u001b[0m \u001b[0mself\u001b[0m\u001b[0;34m.\u001b[0m\u001b[0mgateway_client\u001b[0m\u001b[0;34m.\u001b[0m\u001b[0msend_command\u001b[0m\u001b[0;34m(\u001b[0m\u001b[0mcommand\u001b[0m\u001b[0;34m)\u001b[0m\u001b[0;34m\u001b[0m\u001b[0m\n\u001b[0m\u001b[1;32m   1285\u001b[0m         return_value = get_return_value(\n\u001b[1;32m   1286\u001b[0m             answer, self.gateway_client, self.target_id, self.name)\n",
      "\u001b[0;32m/usr/lib/python3.6/site-packages/py4j/java_gateway.py\u001b[0m in \u001b[0;36msend_command\u001b[0;34m(self, command, retry, binary)\u001b[0m\n\u001b[1;32m   1012\u001b[0m         \u001b[0mconnection\u001b[0m \u001b[0;34m=\u001b[0m \u001b[0mself\u001b[0m\u001b[0;34m.\u001b[0m\u001b[0m_get_connection\u001b[0m\u001b[0;34m(\u001b[0m\u001b[0;34m)\u001b[0m\u001b[0;34m\u001b[0m\u001b[0m\n\u001b[1;32m   1013\u001b[0m         \u001b[0;32mtry\u001b[0m\u001b[0;34m:\u001b[0m\u001b[0;34m\u001b[0m\u001b[0m\n\u001b[0;32m-> 1014\u001b[0;31m             \u001b[0mresponse\u001b[0m \u001b[0;34m=\u001b[0m \u001b[0mconnection\u001b[0m\u001b[0;34m.\u001b[0m\u001b[0msend_command\u001b[0m\u001b[0;34m(\u001b[0m\u001b[0mcommand\u001b[0m\u001b[0;34m)\u001b[0m\u001b[0;34m\u001b[0m\u001b[0m\n\u001b[0m\u001b[1;32m   1015\u001b[0m             \u001b[0;32mif\u001b[0m \u001b[0mbinary\u001b[0m\u001b[0;34m:\u001b[0m\u001b[0;34m\u001b[0m\u001b[0m\n\u001b[1;32m   1016\u001b[0m                 \u001b[0;32mreturn\u001b[0m \u001b[0mresponse\u001b[0m\u001b[0;34m,\u001b[0m \u001b[0mself\u001b[0m\u001b[0;34m.\u001b[0m\u001b[0m_create_connection_guard\u001b[0m\u001b[0;34m(\u001b[0m\u001b[0mconnection\u001b[0m\u001b[0;34m)\u001b[0m\u001b[0;34m\u001b[0m\u001b[0m\n",
      "\u001b[0;32m/usr/lib/python3.6/site-packages/py4j/java_gateway.py\u001b[0m in \u001b[0;36msend_command\u001b[0;34m(self, command)\u001b[0m\n\u001b[1;32m   1179\u001b[0m \u001b[0;34m\u001b[0m\u001b[0m\n\u001b[1;32m   1180\u001b[0m         \u001b[0;32mtry\u001b[0m\u001b[0;34m:\u001b[0m\u001b[0;34m\u001b[0m\u001b[0m\n\u001b[0;32m-> 1181\u001b[0;31m             \u001b[0manswer\u001b[0m \u001b[0;34m=\u001b[0m \u001b[0msmart_decode\u001b[0m\u001b[0;34m(\u001b[0m\u001b[0mself\u001b[0m\u001b[0;34m.\u001b[0m\u001b[0mstream\u001b[0m\u001b[0;34m.\u001b[0m\u001b[0mreadline\u001b[0m\u001b[0;34m(\u001b[0m\u001b[0;34m)\u001b[0m\u001b[0;34m[\u001b[0m\u001b[0;34m:\u001b[0m\u001b[0;34m-\u001b[0m\u001b[0;36m1\u001b[0m\u001b[0;34m]\u001b[0m\u001b[0;34m)\u001b[0m\u001b[0;34m\u001b[0m\u001b[0m\n\u001b[0m\u001b[1;32m   1182\u001b[0m             \u001b[0mlogger\u001b[0m\u001b[0;34m.\u001b[0m\u001b[0mdebug\u001b[0m\u001b[0;34m(\u001b[0m\u001b[0;34m\"Answer received: {0}\"\u001b[0m\u001b[0;34m.\u001b[0m\u001b[0mformat\u001b[0m\u001b[0;34m(\u001b[0m\u001b[0manswer\u001b[0m\u001b[0;34m)\u001b[0m\u001b[0;34m)\u001b[0m\u001b[0;34m\u001b[0m\u001b[0m\n\u001b[1;32m   1183\u001b[0m             \u001b[0;32mif\u001b[0m \u001b[0manswer\u001b[0m\u001b[0;34m.\u001b[0m\u001b[0mstartswith\u001b[0m\u001b[0;34m(\u001b[0m\u001b[0mproto\u001b[0m\u001b[0;34m.\u001b[0m\u001b[0mRETURN_MESSAGE\u001b[0m\u001b[0;34m)\u001b[0m\u001b[0;34m:\u001b[0m\u001b[0;34m\u001b[0m\u001b[0m\n",
      "\u001b[0;32m/usr/lib64/python3.6/socket.py\u001b[0m in \u001b[0;36mreadinto\u001b[0;34m(self, b)\u001b[0m\n\u001b[1;32m    584\u001b[0m         \u001b[0;32mwhile\u001b[0m \u001b[0;32mTrue\u001b[0m\u001b[0;34m:\u001b[0m\u001b[0;34m\u001b[0m\u001b[0m\n\u001b[1;32m    585\u001b[0m             \u001b[0;32mtry\u001b[0m\u001b[0;34m:\u001b[0m\u001b[0;34m\u001b[0m\u001b[0m\n\u001b[0;32m--> 586\u001b[0;31m                 \u001b[0;32mreturn\u001b[0m \u001b[0mself\u001b[0m\u001b[0;34m.\u001b[0m\u001b[0m_sock\u001b[0m\u001b[0;34m.\u001b[0m\u001b[0mrecv_into\u001b[0m\u001b[0;34m(\u001b[0m\u001b[0mb\u001b[0m\u001b[0;34m)\u001b[0m\u001b[0;34m\u001b[0m\u001b[0m\n\u001b[0m\u001b[1;32m    587\u001b[0m             \u001b[0;32mexcept\u001b[0m \u001b[0mtimeout\u001b[0m\u001b[0;34m:\u001b[0m\u001b[0;34m\u001b[0m\u001b[0m\n\u001b[1;32m    588\u001b[0m                 \u001b[0mself\u001b[0m\u001b[0;34m.\u001b[0m\u001b[0m_timeout_occurred\u001b[0m \u001b[0;34m=\u001b[0m \u001b[0;32mTrue\u001b[0m\u001b[0;34m\u001b[0m\u001b[0m\n",
      "\u001b[0;31mKeyboardInterrupt\u001b[0m: "
     ]
    }
   ],
   "source": [
    "print(\"Number of item stores with DM prediction\", dm_prediction.count())"
   ]
  },
  {
   "cell_type": "markdown",
   "metadata": {},
   "source": [
    "# Get store stock level"
   ]
  },
  {
   "cell_type": "code",
   "execution_count": null,
   "metadata": {},
   "outputs": [],
   "source": [
    "actual_stock_sql = \\\n",
    "    \"\"\"\n",
    "    SELECT icis.item_id,\n",
    "     icis.sub_id,\n",
    "     icis.store_code,\n",
    "     cast(icis.balance_qty AS DOUBLE) current_store_stock\n",
    "    FROM dm_prediction dp\n",
    "    left JOIN vartefact.item_code_id_stock icis\n",
    "        on icis.item_id = dp.item_id\n",
    "        and icis.sub_id = dp.sub_id\n",
    "        and icis.store_code = dp.store_code \n",
    "        and icis.date_key = {0}\n",
    "    \"\"\".replace(\"\\n\", \" \")\n",
    "\n",
    "actual_stock_sql =  actual_stock_sql.format(stock_date.strftime(\"%Y%m%d\"))"
   ]
  },
  {
   "cell_type": "code",
   "execution_count": null,
   "metadata": {},
   "outputs": [],
   "source": [
    "actual_stock = sqlc.sql(actual_stock_sql)"
   ]
  },
  {
   "cell_type": "code",
   "execution_count": null,
   "metadata": {},
   "outputs": [],
   "source": [
    "dm_with_stock = dm_prediction.join(actual_stock, ['item_id', 'sub_id', 'store_code'], \"left\")"
   ]
  },
  {
   "cell_type": "markdown",
   "metadata": {},
   "source": [
    "# Regular sales before first delivery day"
   ]
  },
  {
   "cell_type": "code",
   "execution_count": null,
   "metadata": {},
   "outputs": [],
   "source": [
    "regular_sales_sql = \\\n",
    "    \"\"\"\n",
    "        SELECT dp.item_id,\n",
    "            dp.sub_id,\n",
    "            dp.store_code,\n",
    "            dp.dm_theme_id,\n",
    "            daily_sales_prediction as sales_prediction\n",
    "        FROM\n",
    "            vartefact.t_forecast_daily_sales_prediction fcst\n",
    "        join dm_prediction dp\n",
    "            on fcst.item_id = dp.item_id\n",
    "            and fcst.sub_id = dp.sub_id\n",
    "            and fcst.store_code = dp.store_code\n",
    "            and fcst.date_key >= {0}\n",
    "            and to_date(fcst.date_key, 'yyyyMMdd') <= to_date(dp.first_delivery_date, 'yyyy-MM-dd')\n",
    "    \"\"\".replace(\"\\n\", \" \")\n",
    "\n",
    "regular_sales_sql = regular_sales_sql.format(run_date.strftime(\"%Y%m%d\"))"
   ]
  },
  {
   "cell_type": "code",
   "execution_count": null,
   "metadata": {},
   "outputs": [],
   "source": [
    "regular_sales = sqlc.sql(regular_sales_sql)"
   ]
  },
  {
   "cell_type": "code",
   "execution_count": null,
   "metadata": {},
   "outputs": [],
   "source": [
    "agg_regular_sales = regular_sales.groupBy(['item_id', 'sub_id', 'store_code', 'dm_theme_id']). \\\n",
    "    agg(F.sum(\"sales_prediction\").alias(\"sales_before_order\"))"
   ]
  },
  {
   "cell_type": "code",
   "execution_count": null,
   "metadata": {},
   "outputs": [],
   "source": [
    "dm_with_sales = dm_with_stock.join(agg_regular_sales, ['item_id', 'sub_id', 'store_code', 'dm_theme_id'], \"left\")"
   ]
  },
  {
   "cell_type": "markdown",
   "metadata": {},
   "source": [
    "# Orders to be received before first order day"
   ]
  },
  {
   "cell_type": "code",
   "execution_count": null,
   "metadata": {},
   "outputs": [],
   "source": [
    "orders_received_sql = \\\n",
    "    \"\"\"\n",
    "    select * from (\n",
    "        SELECT dp.item_id,\n",
    "            dp.sub_id,\n",
    "            dp.store_code,\n",
    "            dp.dm_theme_id,\n",
    "            cast(foo.order_qty as double) order_qty\n",
    "        FROM\n",
    "            vartefact.forecast_onstock_orders foo\n",
    "        join dm_prediction dp\n",
    "            on foo.item_id = dp.item_id\n",
    "            and foo.sub_id = dp.sub_id\n",
    "            and foo.store_code = dp.store_code\n",
    "            and foo.order_day >= {0}\n",
    "            and to_date(foo.delivery_day, 'yyyyMMdd') <= to_date(dp.first_delivery_date, 'yyyy-MM-dd')\n",
    "        union\n",
    "        SELECT dp.item_id,\n",
    "            dp.sub_id,\n",
    "            dp.store_code,\n",
    "            dp.dm_theme_id,\n",
    "            cast(fxo.order_qty as double) order_qty\n",
    "        FROM\n",
    "            vartefact.forecast_xdock_orders fxo\n",
    "        join dm_prediction dp\n",
    "            on fxo.item_id = dp.item_id\n",
    "            and fxo.sub_id = dp.sub_id\n",
    "            and fxo.store_code = dp.store_code\n",
    "            and fxo.order_day >= {0}\n",
    "            and to_date(fxo.delivery_day, 'yyyyMMdd') <= to_date(dp.first_delivery_date, 'yyyy-MM-dd')\n",
    "    ) t\n",
    "    \"\"\".replace(\"\\n\", \" \")\n",
    "\n",
    "orders_received_sql = orders_received_sql.format(run_date.strftime(\"%Y%m%d\"))"
   ]
  },
  {
   "cell_type": "code",
   "execution_count": null,
   "metadata": {},
   "outputs": [],
   "source": [
    "orders_received = sqlc.sql(orders_received_sql)"
   ]
  },
  {
   "cell_type": "code",
   "execution_count": null,
   "metadata": {},
   "outputs": [],
   "source": [
    "agg_orders_received = orders_received.groupBy(['item_id', 'sub_id', 'store_code', 'dm_theme_id']). \\\n",
    "    agg(F.sum(\"order_qty\").alias(\"order_received\"))"
   ]
  },
  {
   "cell_type": "code",
   "execution_count": null,
   "metadata": {},
   "outputs": [],
   "source": [
    "dm_with_orders = dm_with_sales.join(agg_orders_received, ['item_id', 'sub_id', 'store_code', 'dm_theme_id'], \"left\")"
   ]
  },
  {
   "cell_type": "markdown",
   "metadata": {},
   "source": [
    "# Regular sales from first order day to DM start day"
   ]
  },
  {
   "cell_type": "code",
   "execution_count": null,
   "metadata": {},
   "outputs": [],
   "source": [
    "dm_regular_sales_sql = \\\n",
    "    \"\"\"\n",
    "        SELECT dp.item_id,\n",
    "            dp.sub_id,\n",
    "            dp.store_code,\n",
    "            dp.dm_theme_id,\n",
    "            daily_sales_prediction as sales_prediction\n",
    "        FROM\n",
    "            vartefact.t_forecast_daily_sales_prediction fcst\n",
    "        join dm_prediction dp\n",
    "            on fcst.item_id = dp.item_id\n",
    "            and fcst.sub_id = dp.sub_id\n",
    "            and fcst.store_code = dp.store_code\n",
    "            and fcst.date_key > dp.first_delivery_date\n",
    "            and to_date(fcst.date_key, 'yyyyMMdd') < to_date(dp.theme_start_date, 'yyyy-MM-dd')\n",
    "    \"\"\".replace(\"\\n\", \" \")"
   ]
  },
  {
   "cell_type": "code",
   "execution_count": null,
   "metadata": {},
   "outputs": [],
   "source": [
    "dm_regular_sales = sqlc.sql(dm_regular_sales_sql)"
   ]
  },
  {
   "cell_type": "code",
   "execution_count": null,
   "metadata": {},
   "outputs": [],
   "source": [
    "agg_dm_regular_sales = dm_regular_sales.groupBy(['item_id', 'sub_id', 'store_code', 'dm_theme_id']). \\\n",
    "    agg(F.sum(\"sales_prediction\").alias(\"regular_sales_before_dm\"))"
   ]
  },
  {
   "cell_type": "code",
   "execution_count": null,
   "metadata": {},
   "outputs": [],
   "source": [
    "dm_with_regular = dm_with_orders.join(agg_dm_regular_sales, ['item_id', 'sub_id', 'store_code', 'dm_theme_id'], \"left\")"
   ]
  },
  {
   "cell_type": "markdown",
   "metadata": {},
   "source": [
    "# For ppp <= 90% npp, get 4 weeks after sales for ROTATION A items"
   ]
  },
  {
   "cell_type": "code",
   "execution_count": null,
   "metadata": {},
   "outputs": [],
   "source": [
    "after_fourweek_sql = \\\n",
    "    \"\"\"\n",
    "        select \n",
    "            dp.item_id ,\n",
    "            dp.sub_id,\n",
    "            dp.store_code, \n",
    "            dp.dm_theme_id,\n",
    "            fcst.daily_sales_prediction as sales_prediction\n",
    "        FROM \n",
    "            dm_prediction dp\n",
    "        JOIN vartefact.t_forecast_daily_sales_prediction fcst\n",
    "            on fcst.item_id = dp.item_id\n",
    "            and fcst.sub_id = dp.sub_id\n",
    "            and fcst.store_code = dp.store_code\n",
    "            and to_date(fcst.date_key, 'yyyyMMdd') > to_date(dp.theme_end_date, 'yyyy-MM-dd')\n",
    "            and to_date(fcst.date_key, 'yyyyMMdd') < date_add(to_date(dp.theme_end_date, 'yyyy-MM-dd'), 28)\n",
    "        WHERE\n",
    "            dp.rotation ='A'\n",
    "             AND dp.ppp <= dp.npp * 0.9\n",
    "    \"\"\".replace(\"\\n\", \" \")"
   ]
  },
  {
   "cell_type": "code",
   "execution_count": null,
   "metadata": {},
   "outputs": [],
   "source": [
    "after_fourweek_sales = sqlc.sql(after_fourweek_sql.format(run_date.strftime(\"%Y%m%d\")))"
   ]
  },
  {
   "cell_type": "code",
   "execution_count": null,
   "metadata": {},
   "outputs": [],
   "source": [
    "agg_after_fourweek_sales = after_fourweek_sales.groupBy(['item_id', 'sub_id', 'store_code', 'dm_theme_id']). \\\n",
    "    agg(F.sum(\"sales_prediction\").alias(\"four_weeks_after_dm\"))"
   ]
  },
  {
   "cell_type": "code",
   "execution_count": null,
   "metadata": {},
   "outputs": [],
   "source": [
    "dm_with_fourweek = dm_with_regular.join(agg_after_fourweek_sales, ['item_id', 'sub_id', 'store_code', 'dm_theme_id'],\n",
    "                                        \"left\")"
   ]
  },
  {
   "cell_type": "markdown",
   "metadata": {},
   "source": [
    "# Fill NA"
   ]
  },
  {
   "cell_type": "code",
   "execution_count": null,
   "metadata": {},
   "outputs": [],
   "source": [
    "dm_with_fourweek = dm_with_fourweek.na.fill(0)"
   ]
  },
  {
   "cell_type": "markdown",
   "metadata": {},
   "source": [
    "# Final calculation"
   ]
  },
  {
   "cell_type": "code",
   "execution_count": null,
   "metadata": {},
   "outputs": [],
   "source": [
    "dm_final = dm_with_fourweek.withColumn(\"dm_order_qty\", dm_with_fourweek.sales_before_order\n",
    "                                       + dm_with_fourweek.regular_sales_before_dm\n",
    "                                       + dm_with_fourweek.four_weeks_after_dm\n",
    "                                       + dm_with_fourweek.dm_sales\n",
    "                                       - dm_with_fourweek.order_received\n",
    "                                       - dm_with_fourweek.current_store_stock)"
   ]
  },
  {
   "cell_type": "code",
   "execution_count": null,
   "metadata": {},
   "outputs": [],
   "source": [
    "dm_final_pcb = dm_final \\\n",
    "    .withColumn(\"dm_order_qty_with_pcb\", \\\n",
    "                F.when(dm_final.dm_order_qty > 0.0,\n",
    "                       F.ceil(dm_final.dm_order_qty / dm_final.pcb) * dm_final.pcb).otherwise(int(0)))"
   ]
  },
  {
   "cell_type": "code",
   "execution_count": null,
   "metadata": {},
   "outputs": [],
   "source": [
    "print(\"Number of final result\", dm_final_pcb.count())"
   ]
  },
  {
   "cell_type": "code",
   "execution_count": null,
   "metadata": {},
   "outputs": [],
   "source": [
    "dm_final_pcb.show()"
   ]
  },
  {
   "cell_type": "code",
   "execution_count": null,
   "metadata": {},
   "outputs": [],
   "source": [
    "dm_final_pcb.createOrReplaceTempView(\"dm_final_pcb\")"
   ]
  },
  {
   "cell_type": "code",
   "execution_count": null,
   "metadata": {},
   "outputs": [],
   "source": [
    "dm_sql = \\\n",
    "    \"\"\"\n",
    "    INSERT INTO vartefact.forecast_dm_orders partition(dm_theme_id)\n",
    "    SELECT \t\n",
    "        item_id,\n",
    "        sub_id,\n",
    "        store_code,\n",
    "        theme_start_date,\n",
    "        theme_end_date,\n",
    "        npp,\n",
    "        ppp,\n",
    "        ppp_start_date,\n",
    "        ppp_end_date,\n",
    "        city_code,\n",
    "        dept_code,\n",
    "        dept,\n",
    "        item_code,\n",
    "        sub_code,\n",
    "        pcb,\n",
    "        dc_supplier_code,\n",
    "        ds_supplier_code,\n",
    "        rotation,\n",
    "        run_date,\n",
    "        first_order_date,\n",
    "        first_delivery_date,\n",
    "        sales_before_order,\n",
    "        order_received,\n",
    "        regular_sales_before_dm,\n",
    "        four_weeks_after_dm,\n",
    "        dm_sales,\n",
    "        current_store_stock,\n",
    "        dm_order_qty_with_pcb,\n",
    "        dm_theme_id\n",
    "    FROM dm_final_pcb\n",
    "    \"\"\".replace(\"\\n\", \" \")\n",
    "\n",
    "sqlc.sql(dm_sql)"
   ]
  },
  {
   "cell_type": "code",
   "execution_count": null,
   "metadata": {},
   "outputs": [],
   "source": [
    "sqlc.sql(\"refresh table vartefact.forecast_dm_orders\")"
   ]
  },
  {
   "cell_type": "code",
   "execution_count": 26,
   "metadata": {},
   "outputs": [],
   "source": [
    "sc.stop()"
   ]
  },
  {
   "cell_type": "code",
   "execution_count": null,
   "metadata": {},
   "outputs": [],
   "source": []
  }
 ],
 "metadata": {
  "jupytext": {
   "formats": "ipynb,py"
  },
  "kernelspec": {
   "display_name": "Python 3",
   "language": "python",
   "name": "python3"
  },
  "language_info": {
   "codemirror_mode": {
    "name": "ipython",
    "version": 3
   },
   "file_extension": ".py",
   "mimetype": "text/x-python",
   "name": "python",
   "nbconvert_exporter": "python",
   "pygments_lexer": "ipython3",
   "version": "3.6.6"
  }
 },
 "nbformat": 4,
 "nbformat_minor": 2
}
