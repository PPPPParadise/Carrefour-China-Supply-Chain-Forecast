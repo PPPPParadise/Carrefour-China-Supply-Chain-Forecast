{
 "cells": [
  {
   "cell_type": "code",
   "execution_count": 1,
   "metadata": {},
   "outputs": [],
   "source": [
    "import datetime\n",
    "from datetime import timedelta\n",
    "\n",
    "from load_spark import load_spark\n",
    "from pyspark.sql import SQLContext\n",
    "from pyspark.sql import functions as F\n",
    "\n",
    "spark = load_spark(\"generate_dm_order\")\n",
    "\n",
    "sc = spark.sparkContext\n",
    "\n",
    "sqlc = SQLContext(sc)"
   ]
  },
  {
   "cell_type": "code",
   "execution_count": 2,
   "metadata": {},
   "outputs": [
    {
     "name": "stdout",
     "output_type": "stream",
     "text": [
      "2019-09-17 10:04:16.949167 start\n"
     ]
    }
   ],
   "source": [
    "print(str(datetime.datetime.now()), \"start\")\n",
    "# The input\n",
    "date_str = '20190916'\n",
    "\n",
    "run_date = datetime.datetime.strptime(date_str, '%Y%m%d').date()\n",
    "\n",
    "# starting day of the DM calculation period\n",
    "start_date = run_date + timedelta(weeks=4)\n",
    "\n",
    "# end day of the DM calculation period\n",
    "end_date = run_date + timedelta(weeks=5)\n",
    "\n",
    "stock_date = run_date + timedelta(days=-1)"
   ]
  },
  {
   "cell_type": "code",
   "execution_count": 41,
   "metadata": {},
   "outputs": [],
   "source": [
    "#item_id = 1056574\n",
    "item_id = None\n",
    "\n",
    "# sub_id = 1431061\n",
    "sub_id = None\n",
    "\n",
    "# store_code = \"150\"\n",
    "store_code = None\n",
    "\n",
    "dm_theme_id = None"
   ]
  },
  {
   "cell_type": "code",
   "execution_count": 71,
   "metadata": {},
   "outputs": [],
   "source": [
    "dm_item_store_sql = \\\n",
    "    \"\"\"\n",
    "    SELECT distinct ndt.dm_theme_id,\n",
    "        ndt.theme_start_date,\n",
    "        ndt.theme_end_date,\n",
    "        del.npp,\n",
    "        del.ppp,\n",
    "        del.ppp_start_date,\n",
    "        del.ppp_end_date,\n",
    "        del.city_code,\n",
    "        id.store_code,\n",
    "        del.dept_code,\n",
    "        id.con_holding,\n",
    "        id.risk_item_unilever,\n",
    "        cast(id.qty_per_unit as int) as pcb,\n",
    "        id.dc_supplier_code,\n",
    "        id.ds_supplier_code,\n",
    "        id.rotation,\n",
    "        icis.item_id,\n",
    "        icis.sub_id,\n",
    "        icis.item_code,\n",
    "        icis.sub_code,\n",
    "        icis.date_key AS run_date,\n",
    "        fdo.first_order_date AS past_result\n",
    "    FROM vartefact.forecast_nsa_dm_extract_log del\n",
    "    JOIN ods.nsa_dm_theme ndt ON del.dm_theme_id = ndt.dm_theme_id\n",
    "    JOIN ods.p4md_stogld ps ON del.city_code = ps.stocity\n",
    "    JOIN vartefact.forecast_store_item_details id ON ps.stostocd = id.store_code\n",
    "        AND del.item_code = CONCAT (\n",
    "            id.dept_code,\n",
    "            id.item_code\n",
    "            )\n",
    "        AND del.sub_code = id.sub_code\n",
    "        AND del.dept_code = id.dept_code\n",
    "        AND id.store_status != 'Stop'\n",
    "        AND id.item_type not in ('New','Company Purchase','Seasonal')\n",
    "    JOIN vartefact.forecast_item_code_id_stock icis ON icis.date_key = '{0}'\n",
    "        AND id.item_code = icis.item_code\n",
    "        AND id.sub_code = icis.sub_code\n",
    "        AND id.dept_code = icis.dept_code\n",
    "        AND id.store_code = icis.store_code\n",
    "    LEFT JOIN vartefact.forecast_dm_orders fdo ON ndt.dm_theme_id = fdo.dm_theme_id\n",
    "        AND icis.dept_code = fdo.dept_code\n",
    "        AND icis.item_code = fdo.item_code\n",
    "        AND icis.sub_code = fdo.sub_code\n",
    "        AND icis.store_code = fdo.store_code\n",
    "    WHERE del.extract_order >= 40\n",
    "        AND del.date_key = '{1}'\n",
    "        AND to_timestamp(ndt.theme_start_date, 'yyyy-MM-dd') >= to_timestamp('{2}', 'yyyyMMdd')\n",
    "        AND to_timestamp(ndt.theme_start_date, 'yyyy-MM-dd') < to_timestamp('{3}', 'yyyyMMdd')\n",
    "    \"\"\".replace(\"\\n\", \" \")\n",
    "\n",
    "dm_item_store_sql = dm_item_store_sql.format(stock_date.strftime(\"%Y%m%d\"), run_date.strftime(\"%Y%m%d\"),\n",
    "                                                 start_date.strftime(\"%Y%m%d\"), end_date.strftime(\"%Y%m%d\"))"
   ]
  },
  {
   "cell_type": "markdown",
   "metadata": {},
   "source": [
    "# Exclude the DM that already have orders"
   ]
  },
  {
   "cell_type": "code",
   "execution_count": 72,
   "metadata": {},
   "outputs": [
    {
     "name": "stdout",
     "output_type": "stream",
     "text": [
      "Before filtering already calculated DM  3514\n",
      "After filtering already calculated DM  0\n"
     ]
    }
   ],
   "source": [
    "dm_item_store_df = sqlc.sql(dm_item_store_sql)\n",
    "\n",
    "if item_id != None:\n",
    "    dm_item_store_df = dm_item_store_df.filter(f\"item_id={item_id}\")\n",
    "\n",
    "if sub_id != None:\n",
    "    dm_item_store_df = dm_item_store_df.filter(f\"sub_id={sub_id}\")\n",
    "\n",
    "if store_code != None:\n",
    "    dm_item_store_df = dm_item_store_df.filter(f\"store_code='{store_code}'\")\n",
    "\n",
    "if dm_theme_id != None:\n",
    "    dm_item_store_df = dm_item_store_df.filter(f\"dm_theme_id={dm_theme_id}\")\n",
    "\n",
    "print(\"Before filtering already calculated DM \", dm_item_store_df.count())\n",
    "\n",
    "dm_item_store_df = dm_item_store_df.filter(\"past_result is null\")\n",
    "\n",
    "print(\"After filtering already calculated DM \", dm_item_store_df.count())"
   ]
  },
  {
   "cell_type": "markdown",
   "metadata": {},
   "source": [
    "# Only consider the nearest DM"
   ]
  },
  {
   "cell_type": "code",
   "execution_count": 44,
   "metadata": {},
   "outputs": [],
   "source": [
    "first_dm = dm_item_store_df. \\\n",
    "        groupBy(['item_id', 'sub_id', 'store_code']). \\\n",
    "        agg(F.min(\"theme_start_date\").alias(\"theme_start_date\"))"
   ]
  },
  {
   "cell_type": "code",
   "execution_count": 45,
   "metadata": {},
   "outputs": [],
   "source": [
    "dm_item_store_df = dm_item_store_df.join(first_dm, ['item_id', 'sub_id', 'store_code', 'theme_start_date'])"
   ]
  },
  {
   "cell_type": "code",
   "execution_count": 46,
   "metadata": {},
   "outputs": [
    {
     "name": "stdout",
     "output_type": "stream",
     "text": [
      "After getting only first DM  3514\n"
     ]
    }
   ],
   "source": [
    "print(\"After getting only first DM \", dm_item_store_df.count())"
   ]
  },
  {
   "cell_type": "code",
   "execution_count": 47,
   "metadata": {},
   "outputs": [],
   "source": [
    "dm_item_store_df.createOrReplaceTempView(\"dm_item_store\")"
   ]
  },
  {
   "cell_type": "markdown",
   "metadata": {},
   "source": [
    "# The first order day within PPP period"
   ]
  },
  {
   "cell_type": "code",
   "execution_count": 48,
   "metadata": {},
   "outputs": [],
   "source": [
    "onstock_order_sql = \\\n",
    "    \"\"\"\n",
    "    SELECT dis.item_id,\n",
    "        dis.sub_id,\n",
    "        dis.store_code,\n",
    "        ord.date_key AS first_order_date,\n",
    "        dev.date_key AS first_delivery_date\n",
    "    FROM dm_item_store dis\n",
    "    JOIN vartefact.forecast_onstock_order_delivery_mapping mp ON dis.dept_code = mp.dept_code\n",
    "        AND dis.rotation = mp.rotation\n",
    "        AND dis.store_code = mp.store_code\n",
    "    JOIN vartefact.forecast_calendar ord ON ord.iso_weekday = mp.order_iso_weekday\n",
    "    JOIN vartefact.forecast_calendar dev ON dev.iso_weekday = mp.delivery_iso_weekday\n",
    "        AND dev.week_index = ord.week_index + mp.week_shift\n",
    "    WHERE to_timestamp(ord.date_key, 'yyyyMMdd') >= to_timestamp(dis.ppp_start_date, 'yyyy-MM-dd')\n",
    "        AND to_timestamp(dev.date_key, 'yyyyMMdd') >= date_add(to_timestamp(dis.theme_start_date, 'yyyy-MM-dd'), -7)\n",
    "        AND dev.date_key <= '{0}'\n",
    "    \"\"\".replace(\"\\n\", \" \")\n",
    "\n",
    "onstock_order_sql = onstock_order_sql.format(end_date.strftime(\"%Y%m%d\"))"
   ]
  },
  {
   "cell_type": "code",
   "execution_count": 49,
   "metadata": {
    "lines_to_next_cell": 2
   },
   "outputs": [],
   "source": [
    "onstock_order_deliver_df = sqlc.sql(onstock_order_sql)\n",
    "\n",
    "if item_id != None:\n",
    "    onstock_order_deliver_df = onstock_order_deliver_df.filter(f\"item_id={item_id}\")\n",
    "\n",
    "if sub_id != None:\n",
    "    onstock_order_deliver_df = onstock_order_deliver_df.filter(f\"sub_id={sub_id}\")\n",
    "\n",
    "if store_code != None:\n",
    "    onstock_order_deliver_df = onstock_order_deliver_df.filter(f\"store_code='{store_code}'\")"
   ]
  },
  {
   "cell_type": "code",
   "execution_count": 50,
   "metadata": {},
   "outputs": [],
   "source": [
    "xdock_order_sql = \\\n",
    "    \"\"\"\n",
    "    SELECT dis.item_id,\n",
    "        dis.sub_id,\n",
    "        dis.store_code,\n",
    "        ord.date_key AS first_order_date,\n",
    "        date_format(\n",
    "            date_add(\n",
    "                to_timestamp(dodm.delivery_date, 'yyyyMMdd'), xo.dc_to_store_time\n",
    "                ),\n",
    "            'yyyyMMdd'\n",
    "        ) AS first_delivery_date\n",
    "    FROM dm_item_store dis\n",
    "    JOIN vartefact.forecast_xdock_order_mapping xo ON dis.item_code = xo.item_code\n",
    "        AND dis.sub_code = xo.sub_code\n",
    "        AND dis.dept_code = xo.dept_code\n",
    "        AND dis.store_code = xo.store_code\n",
    "    JOIN vartefact.forecast_calendar ord ON ord.iso_weekday = xo.order_iso_weekday\n",
    "    JOIN vartefact.forecast_dc_order_delivery_mapping dodm ON dodm.con_holding = dis.con_holding\n",
    "        AND dodm.order_date = ord.date_key\n",
    "        AND dis.risk_item_unilever = dodm.risk_item_unilever\n",
    "    WHERE to_timestamp(ord.date_key, 'yyyyMMdd') >= to_timestamp(dis.ppp_start_date, 'yyyy-MM-dd')\n",
    "        AND date_add(to_timestamp(dodm.delivery_date, 'yyyyMMdd'), xo.dc_to_store_time)  <= to_timestamp('{0}', 'yyyyMMdd')\n",
    "    \"\"\".replace(\"\\n\", \" \")\n",
    "\n",
    "xdock_order_sql = xdock_order_sql.format(end_date.strftime(\"%Y%m%d\"))"
   ]
  },
  {
   "cell_type": "code",
   "execution_count": 51,
   "metadata": {},
   "outputs": [],
   "source": [
    "xdock_order_deliver_df = sqlc.sql(xdock_order_sql)\n",
    "\n",
    "if item_id is not None:\n",
    "    xdock_order_deliver_df = xdock_order_deliver_df.filter(f\"item_id={item_id}\")\n",
    "\n",
    "if sub_id is not None:\n",
    "    xdock_order_deliver_df = xdock_order_deliver_df.filter(f\"sub_id={sub_id}\")\n",
    "\n",
    "if store_code is not None:\n",
    "    xdock_order_deliver_df = xdock_order_deliver_df.filter(f\"store_code='{store_code}'\")"
   ]
  },
  {
   "cell_type": "code",
   "execution_count": 52,
   "metadata": {},
   "outputs": [],
   "source": [
    "order_deliver_df = onstock_order_deliver_df.union(xdock_order_deliver_df)\n",
    "\n",
    "first_order_df = order_deliver_df.groupBy(['item_id', 'sub_id', 'store_code']). \\\n",
    "        agg(F.min(\"first_order_date\").alias(\"first_order_date\"))"
   ]
  },
  {
   "cell_type": "code",
   "execution_count": 53,
   "metadata": {},
   "outputs": [],
   "source": [
    "first_order_deliver_df = order_deliver_df \\\n",
    "        .join(first_order_df, ['item_id', 'sub_id', 'store_code', 'first_order_date'])"
   ]
  },
  {
   "cell_type": "code",
   "execution_count": 54,
   "metadata": {},
   "outputs": [],
   "source": [
    "dm_item_store_order_df = dm_item_store_df \\\n",
    "    .join(first_order_deliver_df, \\\n",
    "          ['item_id', 'sub_id', 'store_code'])"
   ]
  },
  {
   "cell_type": "code",
   "execution_count": 55,
   "metadata": {},
   "outputs": [],
   "source": [
    "dm_item_store_order_df.createOrReplaceTempView(\"dm_item_store_order\")"
   ]
  },
  {
   "cell_type": "code",
   "execution_count": 56,
   "metadata": {},
   "outputs": [
    {
     "name": "stdout",
     "output_type": "stream",
     "text": [
      "Number of item stores that will have DM 3514\n"
     ]
    }
   ],
   "source": [
    "print(\"Number of item stores that will have DM\", dm_item_store_order_df.count())"
   ]
  },
  {
   "cell_type": "markdown",
   "metadata": {},
   "source": [
    "# Get DM sales prediction"
   ]
  },
  {
   "cell_type": "code",
   "execution_count": 57,
   "metadata": {},
   "outputs": [],
   "source": [
    "dm_sales_predict_sql = \\\n",
    "    \"\"\"\n",
    "    select \n",
    "      dm.*,\n",
    "      cast(coalesce(pred.sales_prediction, '0', pred.sales_prediction) as double) as dm_sales,\n",
    "      coalesce(pred.sales_prediction, 'no', 'yes') as having_dm_prediction\n",
    "    from \n",
    "        dm_item_store_order dm\n",
    "    left join vartefact.forecast_weekly_dm_view pred\n",
    "        on cast(pred.item_id as int) = dm.item_id\n",
    "        and cast(pred.sub_id as int) = dm.sub_id\n",
    "        and cast(pred.current_dm_theme_id as int) = dm.dm_theme_id\n",
    "        and pred.store_code = dm.store_code\n",
    "    \"\"\".replace(\"\\n\", \" \")"
   ]
  },
  {
   "cell_type": "code",
   "execution_count": 58,
   "metadata": {},
   "outputs": [],
   "source": [
    "dm_prediction = sqlc.sql(dm_sales_predict_sql)"
   ]
  },
  {
   "cell_type": "code",
   "execution_count": 59,
   "metadata": {},
   "outputs": [],
   "source": [
    "dm_prediction.filter(\"having_dm_prediction = 'no' \").write.mode(\"overwrite\").format(\"parquet\").saveAsTable(\"vartefact.forecast_no_dm_prediction\")"
   ]
  },
  {
   "cell_type": "code",
   "execution_count": 60,
   "metadata": {},
   "outputs": [],
   "source": [
    "dm_prediction.createOrReplaceTempView(\"dm_prediction\")"
   ]
  },
  {
   "cell_type": "code",
   "execution_count": 61,
   "metadata": {},
   "outputs": [
    {
     "name": "stdout",
     "output_type": "stream",
     "text": [
      "Number of item stores with DM prediction 3514\n"
     ]
    }
   ],
   "source": [
    "print(\"Number of item stores with DM prediction\", dm_prediction.count())"
   ]
  },
  {
   "cell_type": "markdown",
   "metadata": {},
   "source": [
    "# Regular sales from first order day to DM start day"
   ]
  },
  {
   "cell_type": "code",
   "execution_count": 62,
   "metadata": {
    "lines_to_next_cell": 2
   },
   "outputs": [],
   "source": [
    "dm_regular_sales_sql = \\\n",
    "    \"\"\"\n",
    "    SELECT dp.item_id,\n",
    "        dp.sub_id,\n",
    "        dp.store_code,\n",
    "        dp.dm_theme_id,\n",
    "        case when\n",
    "          fcst.daily_sales_prediction_original < 0.2 and dp.rotation != 'A'\n",
    "        then 0\n",
    "        when\n",
    "          fcst.daily_sales_prediction_original < 0\n",
    "        then 0\n",
    "        else fcst.daily_sales_prediction_original \n",
    "        end AS sales_prediction\n",
    "    FROM vartefact.t_forecast_daily_sales_prediction fcst\n",
    "    JOIN dm_prediction dp ON fcst.item_id = dp.item_id\n",
    "        AND fcst.sub_id = dp.sub_id\n",
    "        AND fcst.store_code = dp.store_code\n",
    "        AND fcst.date_key > dp.first_delivery_date\n",
    "        AND to_timestamp(fcst.date_key, 'yyyyMMdd') < to_timestamp(dp.theme_start_date, 'yyyy-MM-dd')\n",
    "    \"\"\".replace(\"\\n\", \" \")"
   ]
  },
  {
   "cell_type": "code",
   "execution_count": 63,
   "metadata": {},
   "outputs": [],
   "source": [
    "dm_regular_sales = sqlc.sql(dm_regular_sales_sql)"
   ]
  },
  {
   "cell_type": "code",
   "execution_count": 64,
   "metadata": {},
   "outputs": [],
   "source": [
    "agg_dm_regular_sales = dm_regular_sales.groupBy(['item_id', 'sub_id', 'store_code', 'dm_theme_id']). \\\n",
    "    agg(F.sum(\"sales_prediction\").alias(\"regular_sales_before_dm\"))"
   ]
  },
  {
   "cell_type": "code",
   "execution_count": 65,
   "metadata": {},
   "outputs": [],
   "source": [
    "dm_with_regular = dm_prediction.join(agg_dm_regular_sales, ['item_id', 'sub_id', 'store_code', 'dm_theme_id'], \"left\")"
   ]
  },
  {
   "cell_type": "markdown",
   "metadata": {},
   "source": [
    "# For ppp <= 90% npp, get 4 weeks after sales for ROTATION A items"
   ]
  },
  {
   "cell_type": "code",
   "execution_count": 66,
   "metadata": {},
   "outputs": [],
   "source": [
    "after_fourweek_sql = \\\n",
    "    \"\"\"\n",
    "    SELECT dp.item_id,\n",
    "        dp.sub_id,\n",
    "        dp.store_code,\n",
    "        dp.dm_theme_id,\n",
    "        case when\n",
    "          fcst.daily_sales_prediction_original < 0.2 and dp.rotation != 'A'\n",
    "        then 0\n",
    "        when\n",
    "          fcst.daily_sales_prediction_original < 0\n",
    "        then 0\n",
    "        else fcst.daily_sales_prediction_original \n",
    "        end AS sales_prediction\n",
    "    FROM dm_prediction dp\n",
    "    JOIN vartefact.t_forecast_daily_sales_prediction fcst ON fcst.item_id = dp.item_id\n",
    "        AND fcst.sub_id = dp.sub_id\n",
    "        AND fcst.store_code = dp.store_code\n",
    "        AND to_timestamp(fcst.date_key, 'yyyyMMdd') > to_timestamp(dp.theme_end_date, 'yyyy-MM-dd')\n",
    "        AND to_timestamp(fcst.date_key, 'yyyyMMdd') < date_add(to_timestamp(dp.theme_end_date, 'yyyy-MM-dd'), 28)\n",
    "    WHERE dp.rotation = 'A'\n",
    "        AND dp.ppp <= dp.npp * 0.9\n",
    "    \"\"\".replace(\"\\n\", \" \")"
   ]
  },
  {
   "cell_type": "code",
   "execution_count": 67,
   "metadata": {},
   "outputs": [],
   "source": [
    "after_fourweek_sales = sqlc.sql(after_fourweek_sql.format(run_date.strftime(\"%Y%m%d\")))"
   ]
  },
  {
   "cell_type": "code",
   "execution_count": 68,
   "metadata": {},
   "outputs": [],
   "source": [
    "agg_after_fourweek_sales = after_fourweek_sales.groupBy(['item_id', 'sub_id', 'store_code', 'dm_theme_id']). \\\n",
    "    agg(F.sum(\"sales_prediction\").alias(\"four_weeks_after_dm\"))"
   ]
  },
  {
   "cell_type": "code",
   "execution_count": 69,
   "metadata": {},
   "outputs": [],
   "source": [
    "dm_with_fourweek = dm_with_regular.join(agg_after_fourweek_sales, ['item_id', 'sub_id', 'store_code', 'dm_theme_id'],\n",
    "                                        \"left\")"
   ]
  },
  {
   "cell_type": "markdown",
   "metadata": {},
   "source": [
    "# Fill NA"
   ]
  },
  {
   "cell_type": "code",
   "execution_count": 70,
   "metadata": {},
   "outputs": [],
   "source": [
    "dm_with_fourweek = dm_with_fourweek.na.fill(0)"
   ]
  },
  {
   "cell_type": "markdown",
   "metadata": {},
   "source": [
    "# Final calculation"
   ]
  },
  {
   "cell_type": "code",
   "execution_count": 34,
   "metadata": {},
   "outputs": [],
   "source": [
    "dm_final = dm_with_fourweek.withColumn(\"dm_order_qty_without_pcb\",\n",
    "                                       dm_with_fourweek.regular_sales_before_dm\n",
    "                                       + dm_with_fourweek.four_weeks_after_dm\n",
    "                                       + dm_with_fourweek.dm_sales)"
   ]
  },
  {
   "cell_type": "code",
   "execution_count": 35,
   "metadata": {},
   "outputs": [],
   "source": [
    "dm_final = dm_final \\\n",
    "        .withColumn(\"first_dm_order_qty_without_pcb\",\n",
    "                F.when(dm_final.rotation != 'X', 0.75 * dm_final.dm_order_qty_without_pcb)\n",
    "                .otherwise(dm_final.dm_order_qty_without_pcb))"
   ]
  },
  {
   "cell_type": "code",
   "execution_count": 36,
   "metadata": {},
   "outputs": [],
   "source": [
    "dm_final = dm_final \\\n",
    "        .withColumn(\"first_dm_order_qty\",\n",
    "                    F.when(dm_final.first_dm_order_qty_without_pcb > 0.0,\n",
    "                           F.ceil(dm_final.first_dm_order_qty_without_pcb / dm_final.pcb) * dm_final.pcb)\n",
    "                    .otherwise(0))"
   ]
  },
  {
   "cell_type": "code",
   "execution_count": 37,
   "metadata": {},
   "outputs": [],
   "source": [
    "dm_final_pcb = dm_final \\\n",
    "        .withColumn(\"dm_order_qty\",\n",
    "                    F.when(dm_final.dm_order_qty_without_pcb > 0.0,\n",
    "                           F.ceil(dm_final.dm_order_qty_without_pcb / dm_final.pcb) * dm_final.pcb)\n",
    "                    .otherwise(0))"
   ]
  },
  {
   "cell_type": "code",
   "execution_count": 38,
   "metadata": {},
   "outputs": [],
   "source": [
    "dm_final_pcb = dm_final_pcb.withColumn(\"first_dm_order_qty\", dm_final_pcb[\"first_dm_order_qty\"].cast(\"Int\"))\n",
    "\n",
    "dm_final_pcb = dm_final_pcb.withColumn(\"dm_order_qty\", dm_final_pcb[\"dm_order_qty\"].cast(\"Int\"))"
   ]
  },
  {
   "cell_type": "code",
   "execution_count": 39,
   "metadata": {},
   "outputs": [
    {
     "name": "stdout",
     "output_type": "stream",
     "text": [
      "Number of final result 48\n"
     ]
    }
   ],
   "source": [
    "print(\"Number of final result\", dm_final_pcb.count())"
   ]
  },
  {
   "cell_type": "code",
   "execution_count": 40,
   "metadata": {},
   "outputs": [],
   "source": [
    "dm_final_pcb.createOrReplaceTempView(\"dm_final_pcb\")"
   ]
  },
  {
   "cell_type": "code",
   "execution_count": null,
   "metadata": {},
   "outputs": [],
   "source": [
    "dm_sql = \\\n",
    "    \"\"\"\n",
    "    INSERT INTO vartefact.forecast_dm_orders\n",
    "    PARTITION (dm_theme_id)\n",
    "    SELECT \n",
    "        item_id,\n",
    "        sub_id,\n",
    "        store_code,\n",
    "        con_holding,\n",
    "        theme_start_date,\n",
    "        theme_end_date,\n",
    "        npp,\n",
    "        ppp,\n",
    "        ppp_start_date,\n",
    "        ppp_end_date,\n",
    "        city_code,\n",
    "        dept_code,\n",
    "        item_code,\n",
    "        sub_code,\n",
    "        pcb,\n",
    "        dc_supplier_code,\n",
    "        ds_supplier_code,\n",
    "        rotation,\n",
    "        run_date,\n",
    "        first_order_date,\n",
    "        first_delivery_date,\n",
    "        regular_sales_before_dm,\n",
    "        four_weeks_after_dm,\n",
    "        dm_sales,\n",
    "        dm_order_qty,\n",
    "        first_dm_order_qty,\n",
    "        dm_order_qty_without_pcb,\n",
    "        dm_theme_id\n",
    "    FROM dm_final_pcb\n",
    "    \"\"\".replace(\"\\n\", \" \")"
   ]
  },
  {
   "cell_type": "code",
   "execution_count": 42,
   "metadata": {},
   "outputs": [],
   "source": [
    "#sqlc.sql(dm_sql)"
   ]
  },
  {
   "cell_type": "code",
   "execution_count": 43,
   "metadata": {},
   "outputs": [
    {
     "data": {
      "text/plain": [
       "DataFrame[]"
      ]
     },
     "execution_count": 43,
     "metadata": {},
     "output_type": "execute_result"
    }
   ],
   "source": [
    "sqlc.sql(\"refresh table vartefact.forecast_dm_orders\")"
   ]
  },
  {
   "cell_type": "markdown",
   "metadata": {},
   "source": [
    "# DC Order"
   ]
  },
  {
   "cell_type": "code",
   "execution_count": 77,
   "metadata": {},
   "outputs": [],
   "source": [
    "dm_item_dc_sql = \\\n",
    "    \"\"\"\n",
    "    SELECT distinct ndt.dm_theme_id,\n",
    "        ndt.theme_start_date,\n",
    "        ndt.theme_end_date,\n",
    "        del.npp,\n",
    "        del.ppp,\n",
    "        del.ppp_start_date,\n",
    "        del.ppp_end_date,\n",
    "        del.dept_code,\n",
    "        dcid.holding_code,\n",
    "        dcid.risk_item_unilever,\n",
    "        dcid.primary_ds_supplier as ds_supplier_code,\n",
    "        cast(dcid.qty_per_unit as int) as pcb,\n",
    "        dcid.rotation,\n",
    "        dcid.qty_per_unit,\n",
    "        icis.item_id,\n",
    "        icis.sub_id,\n",
    "        icis.item_code,\n",
    "        icis.sub_code,\n",
    "        icis.date_key AS run_date,\n",
    "        fdo.first_order_date AS past_result\n",
    "    FROM vartefact.forecast_nsa_dm_extract_log del\n",
    "    JOIN ods.nsa_dm_theme ndt ON del.dm_theme_id = ndt.dm_theme_id\n",
    "    JOIN ods.p4md_stogld ps ON del.city_code = ps.stocity\n",
    "    JOIN vartefact.forecast_item_code_id_stock icis ON icis.date_key = '{0}'\n",
    "        AND del.item_code = CONCAT (\n",
    "            icis.dept_code,\n",
    "            icis.item_code\n",
    "            )\n",
    "        AND del.sub_code = icis.sub_code\n",
    "        AND del.dept_code = icis.dept_code\n",
    "    JOIN vartefact.forecast_dc_item_details dcid ON dcid.item_code =icis.item_code\n",
    "        AND dcid.sub_code = icis.sub_code\n",
    "        AND dcid.dept_code = icis.dept_code\n",
    "        AND dcid.rotation != 'X'\n",
    "        AND dcid.dc_status != 'Stop'\n",
    "        AND dcid.seasonal = 'No'\n",
    "        AND dcid.item_type not in ('New','Company Purchase','Seasonal')\n",
    "    JOIN vartefact.forecast_store_item_details id ON ps.stostocd = id.store_code\n",
    "        AND dcid.dept_code = id.dept_code\n",
    "        AND dcid.item_code = id.item_code\n",
    "        AND dcid.sub_code = id.sub_code\n",
    "    LEFT JOIN vartefact.forecast_dm_dc_orders fdo ON ndt.dm_theme_id = fdo.dm_theme_id\n",
    "        AND icis.dept_code = fdo.dept_code\n",
    "        AND icis.item_code = fdo.item_code\n",
    "        AND icis.sub_code = fdo.sub_code\n",
    "    WHERE del.extract_order >= 40\n",
    "        AND del.date_key = '{1}'\n",
    "        AND to_timestamp(ndt.theme_start_date, 'yyyy-MM-dd') >= to_timestamp('{2}', 'yyyyMMdd')\n",
    "        AND to_timestamp(ndt.theme_start_date, 'yyyy-MM-dd') < to_timestamp('{3}', 'yyyyMMdd')\n",
    "    \"\"\".replace(\"\\n\", \" \")\n",
    "\n",
    "dm_item_dc_sql = dm_item_dc_sql.format(stock_date.strftime(\"%Y%m%d\"), run_date.strftime(\"%Y%m%d\"),\n",
    "                                           start_date.strftime(\"%Y%m%d\"), end_date.strftime(\"%Y%m%d\"))"
   ]
  },
  {
   "cell_type": "code",
   "execution_count": 78,
   "metadata": {},
   "outputs": [],
   "source": [
    "dm_item_dc_df = sqlc.sql(dm_item_dc_sql)"
   ]
  },
  {
   "cell_type": "markdown",
   "metadata": {},
   "source": [
    "# First order day for DC"
   ]
  },
  {
   "cell_type": "code",
   "execution_count": 79,
   "metadata": {},
   "outputs": [
    {
     "name": "stdout",
     "output_type": "stream",
     "text": [
      "Items in DC that has DM  43\n"
     ]
    }
   ],
   "source": [
    "print(\"Items in DC that has DM \", dm_item_dc_df.count())"
   ]
  },
  {
   "cell_type": "code",
   "execution_count": null,
   "metadata": {},
   "outputs": [],
   "source": [
    "first_dc_dm = dm_item_dc_df. \\\n",
    "        groupBy(['item_id', 'sub_id']). \\\n",
    "        agg(F.min(\"theme_start_date\").alias(\"theme_start_date\"))\n",
    "\n",
    "dm_item_dc_df = dm_item_dc_df.join(first_dc_dm, ['item_id', 'sub_id', 'theme_start_date'])\n",
    "\n",
    "dm_item_dc_df.cache()\n",
    "\n",
    "dm_item_dc_df.createOrReplaceTempView(\"dm_item_dc\")"
   ]
  },
  {
   "cell_type": "code",
   "execution_count": null,
   "metadata": {},
   "outputs": [],
   "source": [
    "print(\"After getting only first DM \", dm_item_dc_df.count())"
   ]
  },
  {
   "cell_type": "code",
   "execution_count": 127,
   "metadata": {},
   "outputs": [],
   "source": [
    "dc_order_sql = \\\n",
    "        \"\"\"\n",
    "        SELECT distinct dis.item_id,\n",
    "            dis.sub_id,\n",
    "            ord.date_key AS first_order_date,\n",
    "            dev.date_key AS first_delivery_date\n",
    "        FROM dm_item_dc dis\n",
    "        JOIN vartefact.forecast_dc_order_delivery_mapping dodm\n",
    "            ON dis.holding_code = dodm.con_holding\n",
    "            AND dis.risk_item_unilever = dodm.risk_item_unilever\n",
    "        JOIN vartefact.forecast_calendar ord\n",
    "            ON ord.date_key = dodm.order_date\n",
    "        JOIN vartefact.forecast_calendar dev\n",
    "            ON dev.weekday_short = dodm.delivery_weekday and dev.week_index = ord.week_index + dodm.week_shift\n",
    "        WHERE to_timestamp(ord.date_key, 'yyyyMMdd') >= to_timestamp(dis.ppp_start_date, 'yyyy-MM-dd')\n",
    "            AND dev.date_key <= '{0}'\n",
    "            AND dis.rotation != 'X'\n",
    "        \"\"\".replace(\"\\n\", \" \")\n",
    "\n",
    "dc_order_sql = dc_order_sql.format(end_date.strftime(\"%Y%m%d\"))"
   ]
  },
  {
   "cell_type": "code",
   "execution_count": 128,
   "metadata": {},
   "outputs": [],
   "source": [
    "dc_order_deliver_df = sqlc.sql(dc_order_sql)\n",
    "\n",
    "dc_first_order_df = dc_order_deliver_df.groupBy(['item_id', 'sub_id']). \\\n",
    "    agg(F.min(\"first_order_date\").alias(\"first_order_date\"))\n",
    "\n",
    "dc_first_order_deliver_df = dc_order_deliver_df \\\n",
    "    .select(['item_id', 'sub_id', 'first_order_date', 'first_delivery_date']) \\\n",
    "    .join(dc_first_order_df, ['item_id', 'sub_id', 'first_order_date'])"
   ]
  },
  {
   "cell_type": "code",
   "execution_count": 129,
   "metadata": {},
   "outputs": [],
   "source": [
    "dm_item_dc_order_df = dm_item_dc_df \\\n",
    "        .join(dc_first_order_deliver_df, \\\n",
    "              ['item_id', 'sub_id'])\n",
    "\n",
    "dm_item_dc_order_df.createOrReplaceTempView(\"dm_item_dc_order\")"
   ]
  },
  {
   "cell_type": "code",
   "execution_count": 119,
   "metadata": {},
   "outputs": [],
   "source": [
    "dm_store_to_dc_sql = \\\n",
    "    \"\"\"\n",
    "    select \n",
    "      dm.item_id,\n",
    "      dm.sub_id,\n",
    "      dm.holding_code,\n",
    "      dm.theme_start_date,\n",
    "      dm.theme_end_date,\n",
    "      dm.npp,\n",
    "      dm.ppp,\n",
    "      dm.ppp_start_date,\n",
    "      dm.ppp_end_date,\n",
    "      dm.dept_code,\n",
    "      dm.item_code,\n",
    "      dm.sub_code,\n",
    "      dm.pcb,\n",
    "      dm.ds_supplier_code,\n",
    "      dm.rotation,\n",
    "      dm.run_date,\n",
    "      dm.first_order_date,\n",
    "      dm.first_delivery_date,\n",
    "      sum(sod.regular_sales_before_dm) as regular_sales_before_dm,\n",
    "      sum(sod.four_weeks_after_dm) as four_weeks_after_dm,\n",
    "      sum(sod.dm_sales) as dm_sales,\n",
    "      sum(sod.order_qty) as dm_order_qty_without_pcb,\n",
    "      dm.dm_theme_id\n",
    "    FROM \n",
    "        vartefact.forecast_dm_orders sod\n",
    "    JOIN dm_item_dc_order dm\n",
    "        on sod.item_id = dm.item_id\n",
    "        and sod.sub_id = dm.sub_id\n",
    "        and sod.dm_theme_id = dm.dm_theme_id\n",
    "    GROUP BY\n",
    "      dm.dm_theme_id,\n",
    "      dm.item_id,\n",
    "      dm.sub_id,\n",
    "      dm.holding_code,\n",
    "      dm.theme_start_date,\n",
    "      dm.theme_end_date,\n",
    "      dm.npp,\n",
    "      dm.ppp,\n",
    "      dm.ppp_start_date,\n",
    "      dm.ppp_end_date,\n",
    "      dm.dept_code,\n",
    "      dm.item_code,\n",
    "      dm.sub_code,\n",
    "      dm.pcb,\n",
    "      dm.ds_supplier_code,\n",
    "      dm.rotation,\n",
    "      dm.run_date,\n",
    "      dm.first_order_date,\n",
    "      dm.first_delivery_date\n",
    "    \"\"\".replace(\"\\n\", \" \")"
   ]
  },
  {
   "cell_type": "code",
   "execution_count": 120,
   "metadata": {},
   "outputs": [],
   "source": [
    "dm_dc_order = sqlc.sql(dm_store_to_dc_sql)"
   ]
  },
  {
   "cell_type": "code",
   "execution_count": 121,
   "metadata": {},
   "outputs": [],
   "source": [
    "dm_dc_pcb = dm_dc_order \\\n",
    "        .withColumn(\"dm_order_qty\",\n",
    "                    F.when(dm_dc_order.dm_order_qty_without_pcb > 0.0,\n",
    "                           F.ceil(dm_dc_order.dm_order_qty_without_pcb / dm_dc_order.pcb) * dm_dc_order.pcb)\n",
    "                    .otherwise(int(0)))\n",
    "\n",
    "dm_dc_pcb.createOrReplaceTempView(\"dm_dc_final\")"
   ]
  },
  {
   "cell_type": "code",
   "execution_count": 122,
   "metadata": {},
   "outputs": [],
   "source": [
    "dm_dc_sql = \\\n",
    "    \"\"\"\n",
    "    INSERT INTO vartefact.forecast_dm_dc_orders\n",
    "    PARTITION (dm_theme_id)\n",
    "    SELECT \n",
    "      item_id,\n",
    "      sub_id,\n",
    "      holding_code,\n",
    "      theme_start_date,\n",
    "      theme_end_date,\n",
    "      npp,\n",
    "      ppp,\n",
    "      ppp_start_date,\n",
    "      ppp_end_date,\n",
    "      dept_code,\n",
    "      item_code,\n",
    "      sub_code,\n",
    "      pcb,\n",
    "      ds_supplier_code,\n",
    "      rotation,\n",
    "      run_date,\n",
    "      first_order_date,\n",
    "      first_delivery_date,\n",
    "      regular_sales_before_dm,\n",
    "      four_weeks_after_dm,\n",
    "      dm_sales,\n",
    "      dm_order_qty,\n",
    "      dm_order_qty_without_pcb,\n",
    "      dm_theme_id\n",
    "    FROM dm_dc_final\n",
    "    \"\"\".replace(\"\\n\", \" \")"
   ]
  },
  {
   "cell_type": "code",
   "execution_count": 55,
   "metadata": {},
   "outputs": [],
   "source": [
    "#sqlc.sql(dm_dc_sql)"
   ]
  },
  {
   "cell_type": "code",
   "execution_count": 56,
   "metadata": {},
   "outputs": [
    {
     "data": {
      "text/plain": [
       "DataFrame[]"
      ]
     },
     "execution_count": 56,
     "metadata": {},
     "output_type": "execute_result"
    }
   ],
   "source": [
    "sqlc.sql(\"refresh table vartefact.forecast_dm_dc_orders\")"
   ]
  },
  {
   "cell_type": "code",
   "execution_count": 57,
   "metadata": {},
   "outputs": [],
   "source": [
    "sc.stop()"
   ]
  }
 ],
 "metadata": {
  "jupytext": {
   "formats": "ipynb,py"
  },
  "kernelspec": {
   "display_name": "Python 3",
   "language": "python",
   "name": "python3"
  },
  "language_info": {
   "codemirror_mode": {
    "name": "ipython",
    "version": 3
   },
   "file_extension": ".py",
   "mimetype": "text/x-python",
   "name": "python",
   "nbconvert_exporter": "python",
   "pygments_lexer": "ipython3",
   "version": "3.6.6"
  }
 },
 "nbformat": 4,
 "nbformat_minor": 2
}
