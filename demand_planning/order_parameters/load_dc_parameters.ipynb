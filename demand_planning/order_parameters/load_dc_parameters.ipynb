{
 "cells": [
  {
   "cell_type": "code",
   "execution_count": 1,
   "metadata": {},
   "outputs": [],
   "source": [
    "import math\n",
    "import warnings\n",
    "import pandas as pd"
   ]
  },
  {
   "cell_type": "code",
   "execution_count": 2,
   "metadata": {},
   "outputs": [],
   "source": [
    "def get_qty_per_unit(row):\n",
    "\n",
    "    if row['order_uint'] == 'box':\n",
    "        return int(row['qty_per_pack']) * int(row['pack_per_box'])\n",
    "\n",
    "    if row['order_uint'] == 'layer':\n",
    "        return int(row['qty_per_pack']) * int(row['pack_per_box']) * int(row['box_per_layer_ti'])\n",
    "\n",
    "    if row['order_uint'] == 'pallet':\n",
    "        return int(row['qty_per_pack']) * int(row['pack_per_box']) \\\n",
    "               * int(row['box_per_layer_ti']) * int(row['layer_per_pallet_hi'])\n",
    "    \n",
    "    return int(row['qty_per_pack']) * int(row['pack_per_box'])    \n",
    "\n",
    "def get_risk_item_unilever(row):\n",
    "    if row['risk_item_unilever'] == 'Y':\n",
    "        return \"Y\"\n",
    "    return \"N\"\n",
    "\n",
    "\n",
    "def get_conholding(ds_supplier_code):\n",
    "    if ds_supplier_code == \"06WC\" or ds_supplier_code == \"1GTB\":\n",
    "        return \"002\"\n",
    "    if ds_supplier_code == \"ZB09\":\n",
    "        return \"693\"\n",
    "    if ds_supplier_code == \"0031\" or ds_supplier_code == \"N389\":\n",
    "        return \"700\"\n",
    "    return \"\""
   ]
  },
  {
   "cell_type": "markdown",
   "metadata": {},
   "source": [
    "# Info"
   ]
  },
  {
   "cell_type": "markdown",
   "metadata": {
    "lines_to_next_cell": 2
   },
   "source": [
    "Use this file to load the list of all in scope DC items and their information. Such as order unit."
   ]
  },
  {
   "cell_type": "code",
   "execution_count": 6,
   "metadata": {},
   "outputs": [],
   "source": [
    "warnings.filterwarnings('ignore')\n",
    "\n",
    "dc_items = pd.read_excel('East 3 Supps DC Item list 20190830.xlsx', 'Item Detail', header=0, dtype=str).fillna('')"
   ]
  },
  {
   "cell_type": "code",
   "execution_count": 7,
   "metadata": {},
   "outputs": [],
   "source": [
    "dc_items.drop(\"dummy\", axis=1, inplace=True)"
   ]
  },
  {
   "cell_type": "code",
   "execution_count": 8,
   "metadata": {},
   "outputs": [],
   "source": [
    "dc_items.rename(columns={'Item code':'Full item code'}, inplace=True)"
   ]
  },
  {
   "cell_type": "code",
   "execution_count": 9,
   "metadata": {},
   "outputs": [],
   "source": [
    "dc_items[\"Dept code\"] = dc_items[\"Full item code\"].str.slice(0, 2)\n",
    "dc_items[\"Item code\"] = dc_items[\"Full item code\"].str.slice(2, 8)\n",
    "dc_items[\"Sub code\"] = dc_items[\"Full item code\"].str.slice(8)"
   ]
  },
  {
   "cell_type": "code",
   "execution_count": 10,
   "metadata": {},
   "outputs": [],
   "source": [
    "dc_items.columns = ['dc', 'dc_site', 'full_item_code', 'dc_status', 'item_name_english',\n",
    "'item_name_local', 'current_warehouse', 'primary_ds_supplier',\n",
    "'primary_ds_supplier_name', 'qty_per_box', 'primary_barcode',\n",
    "'rotation', 'box_per_layer_ti', 'layer_per_pallet_hi',\n",
    "'stop_start_date', 'stop_reason', 'qty_per_pack', 'pack_per_box',\n",
    "'holding_supplier_code', 'holding_code', 'risk_item_unilever',\n",
    "'order_uint', 'seasonal', 'item_type', 'dept_code', 'item_code', 'sub_code']"
   ]
  },
  {
   "cell_type": "code",
   "execution_count": 11,
   "metadata": {},
   "outputs": [],
   "source": [
    "dc_items[\"holding_code\"] = dc_items.apply(\n",
    "    lambda r: get_conholding(r.primary_ds_supplier), axis=1)"
   ]
  },
  {
   "cell_type": "code",
   "execution_count": 12,
   "metadata": {},
   "outputs": [],
   "source": [
    "dc_items[\"rotation\"] = dc_items[\"rotation\"].str.strip()\n",
    "dc_items[\"rotation\"] = dc_items[\"rotation\"].str.upper()"
   ]
  },
  {
   "cell_type": "code",
   "execution_count": 13,
   "metadata": {},
   "outputs": [],
   "source": [
    "dc_items['qty_per_unit'] = dc_items.apply(get_qty_per_unit, axis = 1)"
   ]
  },
  {
   "cell_type": "code",
   "execution_count": 14,
   "metadata": {},
   "outputs": [],
   "source": [
    "dc_items['risk_item_unilever'] = dc_items.apply(get_risk_item_unilever, axis = 1)"
   ]
  },
  {
   "cell_type": "markdown",
   "metadata": {},
   "source": [
    "# Write to datalake"
   ]
  },
  {
   "cell_type": "code",
   "execution_count": null,
   "metadata": {},
   "outputs": [],
   "source": [
    "from load_spark import load_spark\n",
    "from pyspark.sql import HiveContext\n",
    "\n",
    "sc = load_spark(\"Load DC parameter\")\n",
    "\n",
    "sqlc = HiveContext(sc)"
   ]
  },
  {
   "cell_type": "code",
   "execution_count": null,
   "metadata": {},
   "outputs": [],
   "source": [
    "dc_items_df = sqlc.createDataFrame(dc_items)\n",
    "\n",
    "dc_items_df = dc_items_df.withColumn(\"qty_per_unit\", dc_items_df[\"qty_per_unit\"].cast(\"Int\"))\n",
    "\n",
    "dc_items_df = dc_items_df.withColumn(\"qty_per_box\", dc_items_df[\"qty_per_box\"].cast(\"Int\"))\n",
    "\n",
    "dc_items_df = dc_items_df.withColumn(\"box_per_layer_ti\", dc_items_df[\"box_per_layer_ti\"].cast(\"Int\"))\n",
    "\n",
    "dc_items_df = dc_items_df.withColumn(\"layer_per_pallet_hi\", dc_items_df[\"layer_per_pallet_hi\"].cast(\"Int\"))\n",
    "\n",
    "dc_items_df = dc_items_df.withColumn(\"qty_per_pack\", dc_items_df[\"qty_per_pack\"].cast(\"Int\"))\n",
    "\n",
    "dc_items_df = dc_items_df.withColumn(\"pack_per_box\", dc_items_df[\"pack_per_box\"].cast(\"Int\"))\n",
    "\n",
    "dc_items_df.write.mode(\"overwrite\").saveAsTable(\"vartefact.forecast_dc_item_details\")"
   ]
  },
  {
   "cell_type": "code",
   "execution_count": null,
   "metadata": {},
   "outputs": [],
   "source": [
    "sc.stop()"
   ]
  }
 ],
 "metadata": {
  "jupytext": {
   "formats": "ipynb,py"
  },
  "kernelspec": {
   "display_name": "Python 3",
   "language": "python",
   "name": "python3"
  },
  "language_info": {
   "codemirror_mode": {
    "name": "ipython",
    "version": 3
   },
   "file_extension": ".py",
   "mimetype": "text/x-python",
   "name": "python",
   "nbconvert_exporter": "python",
   "pygments_lexer": "ipython3",
   "version": "3.6.6"
  }
 },
 "nbformat": 4,
 "nbformat_minor": 2
}
