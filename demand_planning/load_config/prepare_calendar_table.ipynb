{
 "cells": [
  {
   "cell_type": "code",
   "execution_count": 1,
   "metadata": {},
   "outputs": [
    {
     "data": {
      "text/plain": [
       "DataFrame[]"
      ]
     },
     "execution_count": 1,
     "metadata": {},
     "output_type": "execute_result"
    }
   ],
   "source": [
    "import calendar\n",
    "import datetime\n",
    "from datetime import timedelta\n",
    "from load_spark import load_spark\n",
    "from pyspark.sql import HiveContext\n",
    "\n",
    "sc = load_spark(\"generate_calendar_table\")\n",
    "\n",
    "sqlc = HiveContext(sc)\n",
    "\n",
    "sqlc.sql(\"drop table if exists vartefact.forecast_calendar\")\n",
    "\n",
    "sqlc.sql(\"drop table if exists vartefact.forecast_dc_order_deliver_mapping\")"
   ]
  },
  {
   "cell_type": "markdown",
   "metadata": {},
   "source": [
    "# Calendar"
   ]
  },
  {
   "cell_type": "code",
   "execution_count": 4,
   "metadata": {},
   "outputs": [],
   "source": [
    "nestle_skip_order_day = [datetime.date(2019, 9, 13),datetime.date(2010, 10, 1),datetime.date(2010, 10, 4)]\n",
    "\n",
    "pg_skip_order_day = [datetime.date(2010, 10, 3),datetime.date(2010, 10, 7)]\n",
    "\n",
    "un_skip_order_day = [datetime.date(2019, 9, 13)]"
   ]
  },
  {
   "cell_type": "code",
   "execution_count": 11,
   "metadata": {},
   "outputs": [],
   "source": [
    "start_day = datetime.date(2017, 1, 1)\n",
    "end_day = datetime.date(2025, 1, 1)\n",
    "weekday_names = calendar.weekheader\n",
    "\n",
    "day_i = start_day\n",
    "week_id = 1\n",
    "calendar_list = []\n",
    "dc_list = []\n",
    "\n",
    "while day_i < end_day:\n",
    "    calendar_list.append([week_id, day_i.strftime(\"%Y%m%d\"), day_i.isoformat(), day_i.weekday(),\n",
    "                          day_i.isoweekday(), day_i.strftime(\"%a\"), day_i.strftime(\"%A\")])\n",
    "        \n",
    "    delvier_day = day_i + timedelta(days=2)\n",
    "    # Tuesday\n",
    "    if day_i.weekday() == 1:\n",
    "        if day_i not in nestle_skip_order_day:\n",
    "            dc_list.append([\"002\", \"Shanghai Nestle products Service Co.,Ltd\", \n",
    "                        day_i.strftime(\"%Y%m%d\"), day_i.strftime(\"%a\"), \n",
    "                        delvier_day.strftime(\"%Y%m%d\"), delvier_day.strftime(\"%a\"), 0]) \n",
    "\n",
    "        if day_i not in un_skip_order_day:\n",
    "            dc_list.append([\"700\", \"Unilever Services (Hefei) Co. Ltd.\", \n",
    "                        day_i.strftime(\"%Y%m%d\"), day_i.strftime(\"%a\"), \n",
    "                        delvier_day.strftime(\"%Y%m%d\"), delvier_day.strftime(\"%a\"), 0]) \n",
    "\n",
    "        \n",
    "    # Friday    \n",
    "    if day_i.weekday() == 4:\n",
    "        # Sunday not receving\n",
    "        delvier_day = delvier_day + timedelta(days=1)\n",
    "        if day_i not in nestle_skip_order_day:\n",
    "            dc_list.append([\"002\", \"Shanghai Nestle products Service Co.,Ltd\", \n",
    "                        day_i.strftime(\"%Y%m%d\"), day_i.strftime(\"%a\"), \n",
    "                        delvier_day.strftime(\"%Y%m%d\"), delvier_day.strftime(\"%a\"), 1]) \n",
    "        if day_i not in un_skip_order_day:\n",
    "            dc_list.append([\"700\", \"Unilever Services (Hefei) Co. Ltd.\", \n",
    "                        day_i.strftime(\"%Y%m%d\"), day_i.strftime(\"%a\"), \n",
    "                        delvier_day.strftime(\"%Y%m%d\"), delvier_day.strftime(\"%a\"), 1]) \n",
    "        \n",
    "    # Monday\n",
    "    if day_i.weekday() == 0:\n",
    "        if day_i not in pg_skip_order_day:\n",
    "            dc_list.append([\"693\", \"Procter&Gamble (China) Sales Co.,Ltd.\", \n",
    "                day_i.strftime(\"%Y%m%d\"), day_i.strftime(\"%a\"), \n",
    "                delvier_day.strftime(\"%Y%m%d\"), delvier_day.strftime(\"%a\"), 0]) \n",
    "\n",
    "    # Thursday    \n",
    "    if day_i.weekday() == 3:\n",
    "        if day_i not in pg_skip_order_day:\n",
    "            dc_list.append([\"693\", \"Procter&Gamble (China) Sales Co.,Ltd.\", \n",
    "                day_i.strftime(\"%Y%m%d\"), day_i.strftime(\"%a\"), \n",
    "                delvier_day.strftime(\"%Y%m%d\"), delvier_day.strftime(\"%a\"), 0]) \n",
    "\n",
    "        \n",
    "    day_i = day_i + timedelta(days=1)\n",
    "    \n",
    "    if day_i.weekday() == 0:\n",
    "        week_id = week_id + 1\n",
    "        \n",
    "extra_order_day = datetime.date(2019, 9, 9)\n",
    "extra_delivery_day = datetime.date(2019, 9, 11)\n",
    "dc_list.append([\"700\", \"Unilever Services (Hefei) Co. Ltd.\", \n",
    "                extra_order_day.strftime(\"%Y%m%d\"), extra_order_day.strftime(\"%a\"), \n",
    "                extra_delivery_day.strftime(\"%Y%m%d\"), extra_delivery_day.strftime(\"%a\"), 0]) \n",
    "\n",
    "extra_order_day = datetime.date(2019, 9, 11)\n",
    "extra_delivery_day = datetime.date(2019, 9, 13)\n",
    "dc_list.append([\"700\", \"Unilever Services (Hefei) Co. Ltd.\", \n",
    "                extra_order_day.strftime(\"%Y%m%d\"), extra_order_day.strftime(\"%a\"), \n",
    "                extra_delivery_day.strftime(\"%Y%m%d\"), extra_delivery_day.strftime(\"%a\"), 0])  \n",
    "\n",
    "extra_order_day = datetime.date(2019, 9, 12)\n",
    "extra_delivery_day = datetime.date(2019, 9, 16)\n",
    "dc_list.append([\"700\", \"Unilever Services (Hefei) Co. Ltd.\", \n",
    "                extra_order_day.strftime(\"%Y%m%d\"), extra_order_day.strftime(\"%a\"), \n",
    "                extra_delivery_day.strftime(\"%Y%m%d\"), extra_delivery_day.strftime(\"%a\"), 0]) \n",
    "\n",
    "extra_order_day = datetime.date(2019, 9, 16)\n",
    "extra_delivery_day = datetime.date(2019, 9, 18)\n",
    "dc_list.append([\"700\", \"Unilever Services (Hefei) Co. Ltd.\", \n",
    "                extra_order_day.strftime(\"%Y%m%d\"), extra_order_day.strftime(\"%a\"), \n",
    "                extra_delivery_day.strftime(\"%Y%m%d\"), extra_delivery_day.strftime(\"%a\"), 0]) \n",
    "\n",
    "extra_order_day = datetime.date(2019, 9, 18)\n",
    "extra_delivery_day = datetime.date(2019, 9, 20)\n",
    "dc_list.append([\"700\", \"Unilever Services (Hefei) Co. Ltd.\", \n",
    "                extra_order_day.strftime(\"%Y%m%d\"), extra_order_day.strftime(\"%a\"), \n",
    "                extra_delivery_day.strftime(\"%Y%m%d\"), extra_delivery_day.strftime(\"%a\"), 0]) \n",
    "\n",
    "\n",
    "df = sqlc.createDataFrame(calendar_list,\n",
    "                          [\"week_index\", \"date_key\", \"iso_day\", \"weekday\", \"iso_weekday\", \"weekday_short\", \"weekday_long\"])\n",
    "\n",
    "\n",
    "dc_df = sqlc.createDataFrame(dc_list,\n",
    "                          [\"con_holding\", \"holding_name\", \"order_date\", \"order_weekday\", \"delivery_date\", \"delivery_weekday\", \"week_shift\"])\n"
   ]
  },
  {
   "cell_type": "code",
   "execution_count": 12,
   "metadata": {},
   "outputs": [],
   "source": [
    "df.write.mode(\"overwrite\").saveAsTable(\"vartefact.forecast_calendar\")"
   ]
  },
  {
   "cell_type": "code",
   "execution_count": 13,
   "metadata": {},
   "outputs": [],
   "source": [
    "dc_df.write.mode(\"overwrite\").saveAsTable(\"vartefact.forecast_dc_order_deliver_mapping\")"
   ]
  },
  {
   "cell_type": "code",
   "execution_count": 14,
   "metadata": {},
   "outputs": [],
   "source": [
    "sc.stop()"
   ]
  },
  {
   "cell_type": "code",
   "execution_count": null,
   "metadata": {},
   "outputs": [],
   "source": []
  }
 ],
 "metadata": {
  "jupytext": {
   "formats": "ipynb,py"
  },
  "kernelspec": {
   "display_name": "Python 3",
   "language": "python",
   "name": "python3"
  },
  "language_info": {
   "codemirror_mode": {
    "name": "ipython",
    "version": 3
   },
   "file_extension": ".py",
   "mimetype": "text/x-python",
   "name": "python",
   "nbconvert_exporter": "python",
   "pygments_lexer": "ipython3",
   "version": "3.6.6"
  }
 },
 "nbformat": 4,
 "nbformat_minor": 2
}
