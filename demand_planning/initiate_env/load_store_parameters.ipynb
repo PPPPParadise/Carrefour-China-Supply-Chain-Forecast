{
 "cells": [
  {
   "cell_type": "code",
   "execution_count": 1,
   "metadata": {},
   "outputs": [],
   "source": [
    "import math\n",
    "import warnings\n",
    "import pandas as pd"
   ]
  },
  {
   "cell_type": "code",
   "execution_count": 2,
   "metadata": {},
   "outputs": [],
   "source": [
    "def get_deliver_weekday(order_day, lead_time):\n",
    "    if (order_day + lead_time) > 7:\n",
    "        return (order_day + lead_time) % 7\n",
    "    return (order_day + lead_time)\n",
    "\n",
    "\n",
    "def get_week_shift(order_day, lead_time):\n",
    "    if (order_day + lead_time) > 7:\n",
    "        return math.floor((order_day + lead_time) / 7)\n",
    "    return 0\n",
    "\n",
    "\n",
    "def get_conholding(ds_supplier_code):\n",
    "    if ds_supplier_code == \"06WC\" or ds_supplier_code == \"1GTB\":\n",
    "        return \"002\"\n",
    "    if ds_supplier_code == \"ZB09\":\n",
    "        return \"693\"\n",
    "    if ds_supplier_code == \"0031\" or ds_supplier_code == \"N389\":\n",
    "        return \"700\"\n",
    "    return \"\"\n",
    "\n",
    "\n",
    "def get_qty_per_unit(row):\n",
    "\n",
    "    if row['order_by'] == 'S':\n",
    "        return int(row['qty_per_pack'])\n",
    "    \n",
    "    return int(row['qty_per_pack']) * int(row['pack_per_box'])      \n",
    "\n",
    "def get_store_to_dc_day(row):\n",
    "    if row['risk_item_unilever'] == 'Y':\n",
    "        return int(row[\"lead_time\"]) - 3\n",
    "    \n",
    "    return int(row[\"lead_time\"]) - 2"
   ]
  },
  {
   "cell_type": "markdown",
   "metadata": {},
   "source": [
    "# Read Excel"
   ]
  },
  {
   "cell_type": "code",
   "execution_count": 3,
   "metadata": {},
   "outputs": [],
   "source": [
    "warnings.filterwarnings('ignore')\n",
    "\n",
    "excel_input = pd.read_excel('East Parameter 20190820.xlsx', 'Detail', header=0, dtype=str).fillna(\"\")"
   ]
  },
  {
   "cell_type": "markdown",
   "metadata": {},
   "source": [
    "# Get store item list"
   ]
  },
  {
   "cell_type": "code",
   "execution_count": 4,
   "metadata": {},
   "outputs": [],
   "source": [
    "store_items = excel_input[[\"Store\", \"Dept\", \"Item code\", \"sub code\", \"CN Name\", \"EN Name\", \"Store Status\",\n",
    "                   \"Main Supplier\", \"DS Supplier\", \"Repl type\", \"Order day\", \"LT\" ,\"Min\", \"Order by\",\n",
    "                   \"Qty/Pack\", \"Pack/Box\", \"DC Status\", \"Rotation\", \"Seasonal\", \"Risk Item (Unilever)\"]].drop_duplicates().reset_index(drop=True)"
   ]
  },
  {
   "cell_type": "code",
   "execution_count": 5,
   "metadata": {},
   "outputs": [],
   "source": [
    "store_items.columns = [\"store_code\", \"dept_code\", \"item_code\", \"sub_code\", \"cn_name\", \"en_name\", \"store_status\",\n",
    "                   \"dc_supplier_code\", \"ds_supplier_code\", \"repl_type\", \"order_day\", \"lead_time\", \"min_stock\", \"order_by\",\n",
    "                   \"qty_per_pack\", \"pack_per_box\", \"dc_status\", \"rotation\", \"seasonal\", \"risk_item_unilever\"]"
   ]
  },
  {
   "cell_type": "code",
   "execution_count": 6,
   "metadata": {},
   "outputs": [],
   "source": [
    "store_items[\"store_code\"] = store_items[\"store_code\"].str[0:3]"
   ]
  },
  {
   "cell_type": "code",
   "execution_count": 7,
   "metadata": {},
   "outputs": [],
   "source": [
    "store_items['qty_per_unit'] = store_items.apply(get_qty_per_unit, axis = 1)"
   ]
  },
  {
   "cell_type": "code",
   "execution_count": 8,
   "metadata": {},
   "outputs": [],
   "source": [
    "store_items[\"con_holding\"] = store_items.apply(\n",
    "    lambda r: get_conholding(r.ds_supplier_code), axis=1)"
   ]
  },
  {
   "cell_type": "markdown",
   "metadata": {},
   "source": [
    "# Get order delivery mapping for on stock"
   ]
  },
  {
   "cell_type": "code",
   "execution_count": 9,
   "metadata": {},
   "outputs": [],
   "source": [
    "order_frequency = store_items[[\"store_code\", \"dept_code\", \"order_day\", \"lead_time\", \"rotation\"]]"
   ]
  },
  {
   "cell_type": "code",
   "execution_count": 10,
   "metadata": {},
   "outputs": [],
   "source": [
    "order_frequency = order_frequency[order_frequency[\"rotation\"] != \"X\"].drop_duplicates().reset_index(drop=True)"
   ]
  },
  {
   "cell_type": "code",
   "execution_count": 11,
   "metadata": {},
   "outputs": [],
   "source": [
    "order_frequency_mapping = []\n",
    "\n",
    "for index, freq in order_frequency.iterrows():\n",
    "    if freq.order_day.find('1') >= 0:\n",
    "        order_frequency_mapping.append([freq.store_code, freq.dept_code, \n",
    "                                        freq.rotation, freq.lead_time, freq.order_day, \"1\" , \"Mon\"])\n",
    "    if freq.order_day.find('2') >= 0:\n",
    "        order_frequency_mapping.append([freq.store_code, freq.dept_code, \n",
    "                                        freq.rotation, freq.lead_time, freq.order_day, \"2\" , \"Tue\"])\n",
    "    if freq.order_day.find('3') >= 0:\n",
    "        order_frequency_mapping.append([freq.store_code, freq.dept_code, \n",
    "                                        freq.rotation, freq.lead_time, freq.order_day, \"3\" , \"Wed\"])\n",
    "    if freq.order_day.find('4') >= 0:\n",
    "        order_frequency_mapping.append([freq.store_code, freq.dept_code, \n",
    "                                        freq.rotation, freq.lead_time, freq.order_day, \"4\" , \"Thu\"])\n",
    "    if freq.order_day.find('5') >= 0:\n",
    "        order_frequency_mapping.append([freq.store_code, freq.dept_code, \n",
    "                                        freq.rotation, freq.lead_time, freq.order_day, \"5\", \"Fri\"])\n",
    "    if freq.order_day.find('6') >= 0:\n",
    "        order_frequency_mapping.append([freq.store_code, freq.dept_code, \n",
    "                                        freq.rotation, freq.lead_time, freq.order_day, \"6\", \"Sat\"])\n",
    "    if freq.order_day.find('7') >= 0:\n",
    "        order_frequency_mapping.append([freq.store_code, freq.dept_code, \n",
    "                                        freq.rotation, freq.lead_time, freq.order_day, \"7\", \"Sun\"])"
   ]
  },
  {
   "cell_type": "code",
   "execution_count": 12,
   "metadata": {},
   "outputs": [],
   "source": [
    "order_days_mapping = pd.DataFrame(order_frequency_mapping)"
   ]
  },
  {
   "cell_type": "code",
   "execution_count": 13,
   "metadata": {},
   "outputs": [],
   "source": [
    "order_days_mapping.columns = [\"store_code\", \"dept_code\", \"rotation\", \"lead_time\", \"order_days\", \n",
    "                              \"order_iso_weekday\", \"order_weekday_short\"]"
   ]
  },
  {
   "cell_type": "code",
   "execution_count": 14,
   "metadata": {},
   "outputs": [],
   "source": [
    "order_days_mapping[\"delivery_iso_weekday\"] = order_days_mapping.apply(\n",
    "    lambda r: get_deliver_weekday(int(r.order_iso_weekday), int(r.lead_time)), axis=1)\n",
    "\n",
    "order_days_mapping[\"week_shift\"] = order_days_mapping.apply(lambda r: get_week_shift(int(r.order_iso_weekday), int(r.lead_time)), axis=1)"
   ]
  },
  {
   "cell_type": "markdown",
   "metadata": {},
   "source": [
    "# Get order delivery mapping for cross docking"
   ]
  },
  {
   "cell_type": "code",
   "execution_count": 15,
   "metadata": {},
   "outputs": [],
   "source": [
    "order_x_frequency = store_items[[\"store_code\", \"dept_code\", \"item_code\", \"sub_code\", \n",
    "                                 \"order_day\", \"lead_time\", \"rotation\", \"risk_item_unilever\"]]"
   ]
  },
  {
   "cell_type": "code",
   "execution_count": 16,
   "metadata": {},
   "outputs": [],
   "source": [
    "order_x_frequency = order_x_frequency[order_x_frequency[\"rotation\"] == \"X\"].drop_duplicates().reset_index(drop=True)"
   ]
  },
  {
   "cell_type": "code",
   "execution_count": 17,
   "metadata": {},
   "outputs": [],
   "source": [
    "order_x_frequency[\"dc_to_store_time\"] = order_x_frequency.apply(get_store_to_dc_day, axis = 1)"
   ]
  },
  {
   "cell_type": "code",
   "execution_count": 18,
   "metadata": {},
   "outputs": [],
   "source": [
    "order_x_frequency_mapping = []\n",
    "\n",
    "for index, freq in order_x_frequency.iterrows():\n",
    "    if freq.order_day.find('1') >= 0:\n",
    "        order_x_frequency_mapping.append([freq.store_code, freq.dept_code, freq.item_code, freq.sub_code,\n",
    "                                        freq.lead_time, freq.dc_to_store_time, freq.order_day, \"1\" , \"Mon\"])\n",
    "    if freq.order_day.find('2') >= 0:\n",
    "        order_x_frequency_mapping.append([freq.store_code, freq.dept_code, freq.item_code, freq.sub_code,\n",
    "                                        freq.lead_time, freq.dc_to_store_time, freq.order_day, \"2\" , \"Tue\"])\n",
    "    if freq.order_day.find('3') >= 0:\n",
    "        order_x_frequency_mapping.append([freq.store_code, freq.dept_code, freq.item_code, freq.sub_code,\n",
    "                                        freq.lead_time, freq.dc_to_store_time, freq.order_day, \"3\" , \"Wed\"])\n",
    "    if freq.order_day.find('4') >= 0:\n",
    "        order_x_frequency_mapping.append([freq.store_code, freq.dept_code, freq.item_code, freq.sub_code,\n",
    "                                        freq.lead_time, freq.dc_to_store_time, freq.order_day, \"4\" , \"Thu\"])\n",
    "    if freq.order_day.find('5') >= 0:\n",
    "        order_x_frequency_mapping.append([freq.store_code, freq.dept_code, freq.item_code, freq.sub_code,\n",
    "                                        freq.lead_time, freq.dc_to_store_time, freq.order_day, \"5\", \"Fri\"])\n",
    "    if freq.order_day.find('6') >= 0:\n",
    "        order_x_frequency_mapping.append([freq.store_code, freq.dept_code, freq.item_code, freq.sub_code,\n",
    "                                        freq.lead_time, freq.dc_to_store_time, freq.order_day, \"6\", \"Sat\"])\n",
    "    if freq.order_day.find('7') >= 0:\n",
    "        order_x_frequency_mapping.append([freq.store_code, freq.dept_code, freq.item_code, freq.sub_code,\n",
    "                                        freq.lead_time, freq.dc_to_store_time, freq.order_day, \"7\", \"Sun\"])"
   ]
  },
  {
   "cell_type": "code",
   "execution_count": null,
   "metadata": {},
   "outputs": [],
   "source": []
  },
  {
   "cell_type": "code",
   "execution_count": 19,
   "metadata": {},
   "outputs": [],
   "source": [
    "xdock_order_mapping = pd.DataFrame(order_x_frequency_mapping)"
   ]
  },
  {
   "cell_type": "code",
   "execution_count": 20,
   "metadata": {},
   "outputs": [],
   "source": [
    "xdock_order_mapping.columns = [\"store_code\", \"dept_code\", \"item_code\", \"sub_code\", \"lead_time\", \n",
    "                               \"dc_to_store_time\", \"order_days\", \"order_iso_weekday\", \"order_weekday_short\"]"
   ]
  },
  {
   "cell_type": "code",
   "execution_count": 21,
   "metadata": {},
   "outputs": [
    {
     "data": {
      "text/html": [
       "<div>\n",
       "<style scoped>\n",
       "    .dataframe tbody tr th:only-of-type {\n",
       "        vertical-align: middle;\n",
       "    }\n",
       "\n",
       "    .dataframe tbody tr th {\n",
       "        vertical-align: top;\n",
       "    }\n",
       "\n",
       "    .dataframe thead th {\n",
       "        text-align: right;\n",
       "    }\n",
       "</style>\n",
       "<table border=\"1\" class=\"dataframe\">\n",
       "  <thead>\n",
       "    <tr style=\"text-align: right;\">\n",
       "      <th></th>\n",
       "      <th>store_code</th>\n",
       "      <th>dept_code</th>\n",
       "      <th>item_code</th>\n",
       "      <th>sub_code</th>\n",
       "      <th>cn_name</th>\n",
       "      <th>en_name</th>\n",
       "      <th>store_status</th>\n",
       "      <th>dc_supplier_code</th>\n",
       "      <th>ds_supplier_code</th>\n",
       "      <th>repl_type</th>\n",
       "      <th>...</th>\n",
       "      <th>min_stock</th>\n",
       "      <th>order_by</th>\n",
       "      <th>qty_per_pack</th>\n",
       "      <th>pack_per_box</th>\n",
       "      <th>dc_status</th>\n",
       "      <th>rotation</th>\n",
       "      <th>seasonal</th>\n",
       "      <th>risk_item_unilever</th>\n",
       "      <th>qty_per_unit</th>\n",
       "      <th>con_holding</th>\n",
       "    </tr>\n",
       "  </thead>\n",
       "  <tbody>\n",
       "    <tr>\n",
       "      <th>0</th>\n",
       "      <td>101</td>\n",
       "      <td>12</td>\n",
       "      <td>300859</td>\n",
       "      <td>001</td>\n",
       "      <td>Olay美肌清爽沐浴露亮爽珍珠200毫升</td>\n",
       "      <td>Lipton Peach Mango Black S10 24X10X1.8g</td>\n",
       "      <td>Active</td>\n",
       "      <td>KXB1</td>\n",
       "      <td>ZB09</td>\n",
       "      <td>3</td>\n",
       "      <td>...</td>\n",
       "      <td>2</td>\n",
       "      <td>B</td>\n",
       "      <td>24</td>\n",
       "      <td>1</td>\n",
       "      <td>Active</td>\n",
       "      <td>X</td>\n",
       "      <td>No</td>\n",
       "      <td>N</td>\n",
       "      <td>24</td>\n",
       "      <td>693</td>\n",
       "    </tr>\n",
       "    <tr>\n",
       "      <th>1</th>\n",
       "      <td>101</td>\n",
       "      <td>12</td>\n",
       "      <td>300863</td>\n",
       "      <td>001</td>\n",
       "      <td>Olay美肌清爽沐浴露亮爽珍珠360ml</td>\n",
       "      <td></td>\n",
       "      <td>Active</td>\n",
       "      <td>KXB1</td>\n",
       "      <td>ZB09</td>\n",
       "      <td>1</td>\n",
       "      <td>...</td>\n",
       "      <td>2</td>\n",
       "      <td>B</td>\n",
       "      <td>12</td>\n",
       "      <td>1</td>\n",
       "      <td>Stop</td>\n",
       "      <td>X</td>\n",
       "      <td>No</td>\n",
       "      <td>N</td>\n",
       "      <td>12</td>\n",
       "      <td>693</td>\n",
       "    </tr>\n",
       "    <tr>\n",
       "      <th>2</th>\n",
       "      <td>101</td>\n",
       "      <td>12</td>\n",
       "      <td>300907</td>\n",
       "      <td>001</td>\n",
       "      <td>Olay美肌清爽沐浴露亮爽珍珠900毫升</td>\n",
       "      <td></td>\n",
       "      <td>Active</td>\n",
       "      <td>KXB1</td>\n",
       "      <td>ZB09</td>\n",
       "      <td>3</td>\n",
       "      <td>...</td>\n",
       "      <td>2</td>\n",
       "      <td>B</td>\n",
       "      <td>6</td>\n",
       "      <td>1</td>\n",
       "      <td>Active</td>\n",
       "      <td>X</td>\n",
       "      <td>No</td>\n",
       "      <td>N</td>\n",
       "      <td>6</td>\n",
       "      <td>693</td>\n",
       "    </tr>\n",
       "    <tr>\n",
       "      <th>3</th>\n",
       "      <td>101</td>\n",
       "      <td>12</td>\n",
       "      <td>300923</td>\n",
       "      <td>001</td>\n",
       "      <td>Olay美肌清爽沐浴露舒缓清爽200毫升</td>\n",
       "      <td></td>\n",
       "      <td>Stop</td>\n",
       "      <td>KXB1</td>\n",
       "      <td>ZB09</td>\n",
       "      <td>3</td>\n",
       "      <td>...</td>\n",
       "      <td>2</td>\n",
       "      <td>B</td>\n",
       "      <td>24</td>\n",
       "      <td>1</td>\n",
       "      <td>Stop</td>\n",
       "      <td>X</td>\n",
       "      <td>No</td>\n",
       "      <td>N</td>\n",
       "      <td>24</td>\n",
       "      <td>693</td>\n",
       "    </tr>\n",
       "    <tr>\n",
       "      <th>4</th>\n",
       "      <td>101</td>\n",
       "      <td>12</td>\n",
       "      <td>300983</td>\n",
       "      <td>001</td>\n",
       "      <td>Olay美肌清爽沐浴露舒缓清爽360毫升</td>\n",
       "      <td></td>\n",
       "      <td>Stop</td>\n",
       "      <td>KXB1</td>\n",
       "      <td>ZB09</td>\n",
       "      <td>1</td>\n",
       "      <td>...</td>\n",
       "      <td>2</td>\n",
       "      <td>B</td>\n",
       "      <td>12</td>\n",
       "      <td>1</td>\n",
       "      <td>Stop</td>\n",
       "      <td>X</td>\n",
       "      <td>No</td>\n",
       "      <td>N</td>\n",
       "      <td>12</td>\n",
       "      <td>693</td>\n",
       "    </tr>\n",
       "  </tbody>\n",
       "</table>\n",
       "<p>5 rows × 22 columns</p>\n",
       "</div>"
      ],
      "text/plain": [
       "  store_code dept_code item_code sub_code               cn_name  \\\n",
       "0        101        12    300859      001  Olay美肌清爽沐浴露亮爽珍珠200毫升   \n",
       "1        101        12    300863      001  Olay美肌清爽沐浴露亮爽珍珠360ml   \n",
       "2        101        12    300907      001  Olay美肌清爽沐浴露亮爽珍珠900毫升   \n",
       "3        101        12    300923      001  Olay美肌清爽沐浴露舒缓清爽200毫升   \n",
       "4        101        12    300983      001  Olay美肌清爽沐浴露舒缓清爽360毫升   \n",
       "\n",
       "                                   en_name store_status dc_supplier_code  \\\n",
       "0  Lipton Peach Mango Black S10 24X10X1.8g       Active             KXB1   \n",
       "1                                                Active             KXB1   \n",
       "2                                                Active             KXB1   \n",
       "3                                                  Stop             KXB1   \n",
       "4                                                  Stop             KXB1   \n",
       "\n",
       "  ds_supplier_code repl_type  ... min_stock order_by qty_per_pack  \\\n",
       "0             ZB09         3  ...         2        B           24   \n",
       "1             ZB09         1  ...         2        B           12   \n",
       "2             ZB09         3  ...         2        B            6   \n",
       "3             ZB09         3  ...         2        B           24   \n",
       "4             ZB09         1  ...         2        B           12   \n",
       "\n",
       "  pack_per_box dc_status rotation seasonal risk_item_unilever qty_per_unit  \\\n",
       "0            1    Active        X       No                  N           24   \n",
       "1            1      Stop        X       No                  N           12   \n",
       "2            1    Active        X       No                  N            6   \n",
       "3            1      Stop        X       No                  N           24   \n",
       "4            1      Stop        X       No                  N           12   \n",
       "\n",
       "  con_holding  \n",
       "0         693  \n",
       "1         693  \n",
       "2         693  \n",
       "3         693  \n",
       "4         693  \n",
       "\n",
       "[5 rows x 22 columns]"
      ]
     },
     "execution_count": 21,
     "metadata": {},
     "output_type": "execute_result"
    }
   ],
   "source": [
    "store_items.head()"
   ]
  },
  {
   "cell_type": "code",
   "execution_count": 22,
   "metadata": {},
   "outputs": [
    {
     "data": {
      "text/html": [
       "<div>\n",
       "<style scoped>\n",
       "    .dataframe tbody tr th:only-of-type {\n",
       "        vertical-align: middle;\n",
       "    }\n",
       "\n",
       "    .dataframe tbody tr th {\n",
       "        vertical-align: top;\n",
       "    }\n",
       "\n",
       "    .dataframe thead th {\n",
       "        text-align: right;\n",
       "    }\n",
       "</style>\n",
       "<table border=\"1\" class=\"dataframe\">\n",
       "  <thead>\n",
       "    <tr style=\"text-align: right;\">\n",
       "      <th></th>\n",
       "      <th>store_code</th>\n",
       "      <th>dept_code</th>\n",
       "      <th>rotation</th>\n",
       "      <th>lead_time</th>\n",
       "      <th>order_days</th>\n",
       "      <th>order_iso_weekday</th>\n",
       "      <th>order_weekday_short</th>\n",
       "      <th>delivery_iso_weekday</th>\n",
       "      <th>week_shift</th>\n",
       "    </tr>\n",
       "  </thead>\n",
       "  <tbody>\n",
       "    <tr>\n",
       "      <th>0</th>\n",
       "      <td>101</td>\n",
       "      <td>12</td>\n",
       "      <td>A</td>\n",
       "      <td>1</td>\n",
       "      <td>246</td>\n",
       "      <td>2</td>\n",
       "      <td>Tue</td>\n",
       "      <td>3</td>\n",
       "      <td>0</td>\n",
       "    </tr>\n",
       "    <tr>\n",
       "      <th>1</th>\n",
       "      <td>101</td>\n",
       "      <td>12</td>\n",
       "      <td>A</td>\n",
       "      <td>1</td>\n",
       "      <td>246</td>\n",
       "      <td>4</td>\n",
       "      <td>Thu</td>\n",
       "      <td>5</td>\n",
       "      <td>0</td>\n",
       "    </tr>\n",
       "    <tr>\n",
       "      <th>2</th>\n",
       "      <td>101</td>\n",
       "      <td>12</td>\n",
       "      <td>A</td>\n",
       "      <td>1</td>\n",
       "      <td>246</td>\n",
       "      <td>6</td>\n",
       "      <td>Sat</td>\n",
       "      <td>7</td>\n",
       "      <td>0</td>\n",
       "    </tr>\n",
       "    <tr>\n",
       "      <th>3</th>\n",
       "      <td>101</td>\n",
       "      <td>12</td>\n",
       "      <td>B</td>\n",
       "      <td>2</td>\n",
       "      <td>25</td>\n",
       "      <td>2</td>\n",
       "      <td>Tue</td>\n",
       "      <td>4</td>\n",
       "      <td>0</td>\n",
       "    </tr>\n",
       "    <tr>\n",
       "      <th>4</th>\n",
       "      <td>101</td>\n",
       "      <td>12</td>\n",
       "      <td>B</td>\n",
       "      <td>2</td>\n",
       "      <td>25</td>\n",
       "      <td>5</td>\n",
       "      <td>Fri</td>\n",
       "      <td>7</td>\n",
       "      <td>0</td>\n",
       "    </tr>\n",
       "  </tbody>\n",
       "</table>\n",
       "</div>"
      ],
      "text/plain": [
       "  store_code dept_code rotation lead_time order_days order_iso_weekday  \\\n",
       "0        101        12        A         1        246                 2   \n",
       "1        101        12        A         1        246                 4   \n",
       "2        101        12        A         1        246                 6   \n",
       "3        101        12        B         2         25                 2   \n",
       "4        101        12        B         2         25                 5   \n",
       "\n",
       "  order_weekday_short  delivery_iso_weekday  week_shift  \n",
       "0                 Tue                     3           0  \n",
       "1                 Thu                     5           0  \n",
       "2                 Sat                     7           0  \n",
       "3                 Tue                     4           0  \n",
       "4                 Fri                     7           0  "
      ]
     },
     "execution_count": 22,
     "metadata": {},
     "output_type": "execute_result"
    }
   ],
   "source": [
    "order_days_mapping.head()"
   ]
  },
  {
   "cell_type": "code",
   "execution_count": 23,
   "metadata": {},
   "outputs": [
    {
     "data": {
      "text/html": [
       "<div>\n",
       "<style scoped>\n",
       "    .dataframe tbody tr th:only-of-type {\n",
       "        vertical-align: middle;\n",
       "    }\n",
       "\n",
       "    .dataframe tbody tr th {\n",
       "        vertical-align: top;\n",
       "    }\n",
       "\n",
       "    .dataframe thead th {\n",
       "        text-align: right;\n",
       "    }\n",
       "</style>\n",
       "<table border=\"1\" class=\"dataframe\">\n",
       "  <thead>\n",
       "    <tr style=\"text-align: right;\">\n",
       "      <th></th>\n",
       "      <th>store_code</th>\n",
       "      <th>dept_code</th>\n",
       "      <th>item_code</th>\n",
       "      <th>sub_code</th>\n",
       "      <th>lead_time</th>\n",
       "      <th>dc_to_store_time</th>\n",
       "      <th>order_days</th>\n",
       "      <th>order_iso_weekday</th>\n",
       "      <th>order_weekday_short</th>\n",
       "    </tr>\n",
       "  </thead>\n",
       "  <tbody>\n",
       "    <tr>\n",
       "      <th>0</th>\n",
       "      <td>101</td>\n",
       "      <td>12</td>\n",
       "      <td>300859</td>\n",
       "      <td>001</td>\n",
       "      <td>3</td>\n",
       "      <td>1</td>\n",
       "      <td>14</td>\n",
       "      <td>1</td>\n",
       "      <td>Mon</td>\n",
       "    </tr>\n",
       "    <tr>\n",
       "      <th>1</th>\n",
       "      <td>101</td>\n",
       "      <td>12</td>\n",
       "      <td>300859</td>\n",
       "      <td>001</td>\n",
       "      <td>3</td>\n",
       "      <td>1</td>\n",
       "      <td>14</td>\n",
       "      <td>4</td>\n",
       "      <td>Thu</td>\n",
       "    </tr>\n",
       "    <tr>\n",
       "      <th>2</th>\n",
       "      <td>101</td>\n",
       "      <td>12</td>\n",
       "      <td>300863</td>\n",
       "      <td>001</td>\n",
       "      <td>3</td>\n",
       "      <td>1</td>\n",
       "      <td>14</td>\n",
       "      <td>1</td>\n",
       "      <td>Mon</td>\n",
       "    </tr>\n",
       "    <tr>\n",
       "      <th>3</th>\n",
       "      <td>101</td>\n",
       "      <td>12</td>\n",
       "      <td>300863</td>\n",
       "      <td>001</td>\n",
       "      <td>3</td>\n",
       "      <td>1</td>\n",
       "      <td>14</td>\n",
       "      <td>4</td>\n",
       "      <td>Thu</td>\n",
       "    </tr>\n",
       "    <tr>\n",
       "      <th>4</th>\n",
       "      <td>101</td>\n",
       "      <td>12</td>\n",
       "      <td>300907</td>\n",
       "      <td>001</td>\n",
       "      <td>3</td>\n",
       "      <td>1</td>\n",
       "      <td>14</td>\n",
       "      <td>1</td>\n",
       "      <td>Mon</td>\n",
       "    </tr>\n",
       "  </tbody>\n",
       "</table>\n",
       "</div>"
      ],
      "text/plain": [
       "  store_code dept_code item_code sub_code lead_time  dc_to_store_time  \\\n",
       "0        101        12    300859      001         3                 1   \n",
       "1        101        12    300859      001         3                 1   \n",
       "2        101        12    300863      001         3                 1   \n",
       "3        101        12    300863      001         3                 1   \n",
       "4        101        12    300907      001         3                 1   \n",
       "\n",
       "  order_days order_iso_weekday order_weekday_short  \n",
       "0         14                 1                 Mon  \n",
       "1         14                 4                 Thu  \n",
       "2         14                 1                 Mon  \n",
       "3         14                 4                 Thu  \n",
       "4         14                 1                 Mon  "
      ]
     },
     "execution_count": 23,
     "metadata": {},
     "output_type": "execute_result"
    }
   ],
   "source": [
    "xdock_order_mapping.head()"
   ]
  },
  {
   "cell_type": "code",
   "execution_count": 24,
   "metadata": {},
   "outputs": [],
   "source": [
    "from load_spark import load_spark\n",
    "from pyspark.sql import HiveContext\n",
    "\n",
    "sc = load_spark(\"Load store parameter\")\n",
    "\n",
    "sqlc = HiveContext(sc)"
   ]
  },
  {
   "cell_type": "code",
   "execution_count": 25,
   "metadata": {},
   "outputs": [],
   "source": [
    "store_items_df = sqlc.createDataFrame(store_items)\n",
    "\n",
    "store_items_df = store_items_df.withColumn(\"qty_per_unit\", store_items_df[\"qty_per_unit\"].cast(\"Int\"))\n",
    "\n",
    "store_items_df = store_items_df.withColumn(\"pack_per_box\", store_items_df[\"pack_per_box\"].cast(\"Int\"))\n",
    "\n",
    "store_items_df = store_items_df.withColumn(\"qty_per_pack\", store_items_df[\"qty_per_pack\"].cast(\"Int\"))\n",
    "\n",
    "store_items_df = store_items_df.withColumn(\"min_stock\", store_items_df[\"min_stock\"].cast(\"Int\"))\n",
    "\n",
    "store_items_df = store_items_df.withColumn(\"lead_time\", store_items_df[\"lead_time\"].cast(\"Int\"))\n",
    "\n",
    "store_items_df.write.mode(\"overwrite\").saveAsTable(\"vartefact.forecast_store_item_details\")"
   ]
  },
  {
   "cell_type": "code",
   "execution_count": 26,
   "metadata": {},
   "outputs": [],
   "source": [
    "order_days_mapping_df = sqlc.createDataFrame(order_days_mapping)\n",
    "order_days_mapping_df.write.mode(\"overwrite\").saveAsTable(\"vartefact.forecast_onstock_order_delivery_mapping\")"
   ]
  },
  {
   "cell_type": "code",
   "execution_count": 27,
   "metadata": {},
   "outputs": [],
   "source": [
    "xdock_order_mapping_df = sqlc.createDataFrame(xdock_order_mapping)\n",
    "xdock_order_mapping_df.write.mode(\"overwrite\").saveAsTable(\"vartefact.forecast_xdock_order_mapping\")"
   ]
  },
  {
   "cell_type": "code",
   "execution_count": 28,
   "metadata": {},
   "outputs": [],
   "source": [
    "sc.stop()"
   ]
  },
  {
   "cell_type": "code",
   "execution_count": null,
   "metadata": {},
   "outputs": [],
   "source": []
  }
 ],
 "metadata": {
  "jupytext": {
   "encoding": "# -*- coding: utf-8 -*-",
   "formats": "ipynb,py"
  },
  "kernelspec": {
   "display_name": "Python 3",
   "language": "python",
   "name": "python3"
  },
  "language_info": {
   "codemirror_mode": {
    "name": "ipython",
    "version": 3
   },
   "file_extension": ".py",
   "mimetype": "text/x-python",
   "name": "python",
   "nbconvert_exporter": "python",
   "pygments_lexer": "ipython3",
   "version": "3.6.6"
  }
 },
 "nbformat": 4,
 "nbformat_minor": 2
}
