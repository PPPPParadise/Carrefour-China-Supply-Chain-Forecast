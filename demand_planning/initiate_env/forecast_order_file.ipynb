{
 "cells": [
  {
   "cell_type": "code",
   "execution_count": 1,
   "metadata": {},
   "outputs": [],
   "source": [
    "import calendar\n",
    "import datetime\n",
    "import os\n",
    "from datetime import timedelta\n",
    "from pyspark.sql import SQLContext\n",
    "from pyspark.sql import SparkSession\n",
    "from openpyxl import Workbook\n",
    "from os.path import abspath\n",
    "import numpy as np\n",
    "\n",
    "\n",
    "warehouse_location = abspath('spark-warehouse')\n",
    "os.environ[\"PYSPARK_SUBMIT_ARGS\"] = '--jars /data/jupyter/kudu-spark2_2.11-1.8.0.jar pyspark-shell'\n",
    "\n",
    "\n",
    "spark = SparkSession.builder \\\n",
    "    .appName(\"Forecast process for DM\") \\\n",
    "    .config(\"spark.sql.warehouse.dir\", warehouse_location) \\\n",
    "    .config(\"spark.driver.memory\", '8g') \\\n",
    "    .config(\"spark.executor.memory\", '8g') \\\n",
    "    .config(\"spark.num.executors\", '8') \\\n",
    "    .config(\"hive.exec.compress.output\", 'false') \\\n",
    "    .enableHiveSupport() \\\n",
    "    .getOrCreate()\n",
    "\n",
    "sc = spark.sparkContext\n",
    "\n",
    "sqlc = SQLContext(sc)"
   ]
  },
  {
   "cell_type": "markdown",
   "metadata": {},
   "source": [
    "# On Stock Store"
   ]
  },
  {
   "cell_type": "code",
   "execution_count": 2,
   "metadata": {},
   "outputs": [],
   "source": [
    "date_str = '2019-08-08'\n",
    "\n",
    "run_date = datetime.datetime.strptime(date_str, '%Y-%m-%d').date()"
   ]
  },
  {
   "cell_type": "code",
   "execution_count": 3,
   "metadata": {},
   "outputs": [],
   "source": [
    "onstock_store_items_sql = \"\"\"\n",
    "SELECT DISTINCT\n",
    "    store_code,\n",
    "\tdept_code,\n",
    "    item_code,\n",
    "    sub_code,\n",
    "    supplier_code\n",
    "FROM\n",
    "(\n",
    "    SELECT\n",
    "    ord.store_code,\n",
    "\tord.dept_code,\n",
    "\tord.supplier_code,\n",
    "\tord.item_code,\n",
    "\tord.sub_code\n",
    "    FROM vartefact.forecast_onstock_orders ord\n",
    "    WHERE ord.order_day = '{0}'\n",
    "    \n",
    "    UNION\n",
    "    \n",
    "    SELECT\n",
    "    dm.store_code,\n",
    "\tdm.dept_code,\n",
    "\tCASE WHEN (dm.rotation='X')\n",
    "\t    THEN dm.ds_supplier_code\n",
    "\tELSE\n",
    "\t    dm.dc_supplier_code\n",
    "\tEND as supplier_code,\n",
    "\tdm.item_code,\n",
    "\tdm.sub_code\n",
    "    FROM vartefact.forecast_dm_orders dm\n",
    "    WHERE dm.first_order_date = '{0}'\n",
    ") ords\n",
    "    \"\"\".replace(\"\\n\", \" \").format(run_date.strftime(\"%Y%m%d\"))"
   ]
  },
  {
   "cell_type": "code",
   "execution_count": 4,
   "metadata": {},
   "outputs": [],
   "source": [
    "onstock_store_items = sqlc.sql(onstock_store_items_sql)\n",
    "onstock_store_items.createOrReplaceTempView('onstock_store_items')"
   ]
  },
  {
   "cell_type": "code",
   "execution_count": 5,
   "metadata": {},
   "outputs": [],
   "source": [
    "onstock_store_sql = \"\"\"\n",
    "SELECT osi.store_code,\n",
    "\tosi.dept_code,\n",
    "\tosi.supplier_code,\n",
    "\tosi.item_code,\n",
    "\tosi.sub_code,\n",
    "\tord.order_qty,\n",
    "\tord.order_without_pcb,\n",
    "\tord.delivery_day,\n",
    "\t0.75 * dm.order_qty as dm_order_qty,\n",
    "\tdm.order_without_pcb as dm_order_qty_without_pcb,\n",
    "\tdm.ppp,\n",
    "\tdm.npp,\n",
    "\tdm.four_weeks_after_dm,\n",
    "\tcast(sl.service_level as DOUBLE) service_level\n",
    "FROM onstock_store_items osi\n",
    "LEFT JOIN vartefact.forecast_onstock_orders ord\n",
    "\tON osi.store_code = ord.store_code\n",
    "\tAND osi.dept_code = ord.dept_code\n",
    "\tAND osi.item_code = ord.item_code\n",
    "\tAND osi.sub_code =  ord.sub_code\n",
    "    AND ord.order_day = '{0}'\n",
    "LEFT JOIN vartefact.forecast_dm_orders dm \n",
    "\tON osi.store_code = dm.store_code\n",
    "\tAND osi.dept_code = dm.dept_code\n",
    "\tAND osi.item_code = dm.item_code\n",
    "\tAND osi.sub_code =  dm.sub_code\n",
    "    AND dm.first_order_date = '{0}'\n",
    "LEFT JOIN vartefact.monitor_service_level_item_dc sl\n",
    "    on ord.item_code = sl.item_code\n",
    "    and  ord.sub_code = sl.sub_code\n",
    "    and  ord.dept_code = sl.dept_code\n",
    "    and  sl.date_key='{0}'\n",
    "    \"\"\".replace(\"\\n\", \" \").format(run_date.strftime(\"%Y%m%d\"))"
   ]
  },
  {
   "cell_type": "code",
   "execution_count": 6,
   "metadata": {
    "lines_to_next_cell": 2
   },
   "outputs": [],
   "source": [
    "onstock_store_df = sqlc.sql(onstock_store_sql)"
   ]
  },
  {
   "cell_type": "code",
   "execution_count": 7,
   "metadata": {},
   "outputs": [],
   "source": [
    "onstock_store = onstock_store_df.toPandas()"
   ]
  },
  {
   "cell_type": "code",
   "execution_count": 9,
   "metadata": {},
   "outputs": [
    {
     "ename": "TypeError",
     "evalue": "unsupported operand type(s) for +: 'float' and 'decimal.Decimal'",
     "output_type": "error",
     "traceback": [
      "\u001b[0;31m---------------------------------------------------------------------------\u001b[0m",
      "\u001b[0;31mTypeError\u001b[0m                                 Traceback (most recent call last)",
      "\u001b[0;32m/usr/lib64/python3.6/site-packages/pandas/core/ops.py\u001b[0m in \u001b[0;36mna_op\u001b[0;34m(x, y)\u001b[0m\n\u001b[1;32m   1504\u001b[0m         \u001b[0;32mtry\u001b[0m\u001b[0;34m:\u001b[0m\u001b[0;34m\u001b[0m\u001b[0m\n\u001b[0;32m-> 1505\u001b[0;31m             \u001b[0mresult\u001b[0m \u001b[0;34m=\u001b[0m \u001b[0mexpressions\u001b[0m\u001b[0;34m.\u001b[0m\u001b[0mevaluate\u001b[0m\u001b[0;34m(\u001b[0m\u001b[0mop\u001b[0m\u001b[0;34m,\u001b[0m \u001b[0mstr_rep\u001b[0m\u001b[0;34m,\u001b[0m \u001b[0mx\u001b[0m\u001b[0;34m,\u001b[0m \u001b[0my\u001b[0m\u001b[0;34m,\u001b[0m \u001b[0;34m**\u001b[0m\u001b[0meval_kwargs\u001b[0m\u001b[0;34m)\u001b[0m\u001b[0;34m\u001b[0m\u001b[0m\n\u001b[0m\u001b[1;32m   1506\u001b[0m         \u001b[0;32mexcept\u001b[0m \u001b[0mTypeError\u001b[0m\u001b[0;34m:\u001b[0m\u001b[0;34m\u001b[0m\u001b[0m\n",
      "\u001b[0;32m/usr/lib64/python3.6/site-packages/pandas/core/computation/expressions.py\u001b[0m in \u001b[0;36mevaluate\u001b[0;34m(op, op_str, a, b, use_numexpr, **eval_kwargs)\u001b[0m\n\u001b[1;32m    207\u001b[0m     \u001b[0;32mif\u001b[0m \u001b[0muse_numexpr\u001b[0m\u001b[0;34m:\u001b[0m\u001b[0;34m\u001b[0m\u001b[0m\n\u001b[0;32m--> 208\u001b[0;31m         \u001b[0;32mreturn\u001b[0m \u001b[0m_evaluate\u001b[0m\u001b[0;34m(\u001b[0m\u001b[0mop\u001b[0m\u001b[0;34m,\u001b[0m \u001b[0mop_str\u001b[0m\u001b[0;34m,\u001b[0m \u001b[0ma\u001b[0m\u001b[0;34m,\u001b[0m \u001b[0mb\u001b[0m\u001b[0;34m,\u001b[0m \u001b[0;34m**\u001b[0m\u001b[0meval_kwargs\u001b[0m\u001b[0;34m)\u001b[0m\u001b[0;34m\u001b[0m\u001b[0m\n\u001b[0m\u001b[1;32m    209\u001b[0m     \u001b[0;32mreturn\u001b[0m \u001b[0m_evaluate_standard\u001b[0m\u001b[0;34m(\u001b[0m\u001b[0mop\u001b[0m\u001b[0;34m,\u001b[0m \u001b[0mop_str\u001b[0m\u001b[0;34m,\u001b[0m \u001b[0ma\u001b[0m\u001b[0;34m,\u001b[0m \u001b[0mb\u001b[0m\u001b[0;34m)\u001b[0m\u001b[0;34m\u001b[0m\u001b[0m\n",
      "\u001b[0;32m/usr/lib64/python3.6/site-packages/pandas/core/computation/expressions.py\u001b[0m in \u001b[0;36m_evaluate_standard\u001b[0;34m(op, op_str, a, b, **eval_kwargs)\u001b[0m\n\u001b[1;32m     67\u001b[0m     \u001b[0;32mwith\u001b[0m \u001b[0mnp\u001b[0m\u001b[0;34m.\u001b[0m\u001b[0merrstate\u001b[0m\u001b[0;34m(\u001b[0m\u001b[0mall\u001b[0m\u001b[0;34m=\u001b[0m\u001b[0;34m'ignore'\u001b[0m\u001b[0;34m)\u001b[0m\u001b[0;34m:\u001b[0m\u001b[0;34m\u001b[0m\u001b[0m\n\u001b[0;32m---> 68\u001b[0;31m         \u001b[0;32mreturn\u001b[0m \u001b[0mop\u001b[0m\u001b[0;34m(\u001b[0m\u001b[0ma\u001b[0m\u001b[0;34m,\u001b[0m \u001b[0mb\u001b[0m\u001b[0;34m)\u001b[0m\u001b[0;34m\u001b[0m\u001b[0m\n\u001b[0m\u001b[1;32m     69\u001b[0m \u001b[0;34m\u001b[0m\u001b[0m\n",
      "\u001b[0;31mTypeError\u001b[0m: unsupported operand type(s) for +: 'float' and 'decimal.Decimal'",
      "\nDuring handling of the above exception, another exception occurred:\n",
      "\u001b[0;31mTypeError\u001b[0m                                 Traceback (most recent call last)",
      "\u001b[0;32m<ipython-input-9-afeb572055ce>\u001b[0m in \u001b[0;36m<module>\u001b[0;34m\u001b[0m\n\u001b[1;32m     11\u001b[0m \u001b[0monstock_store\u001b[0m\u001b[0;34m[\u001b[0m\u001b[0;34m'service_level'\u001b[0m\u001b[0;34m]\u001b[0m \u001b[0;34m=\u001b[0m \u001b[0monstock_store\u001b[0m\u001b[0;34m[\u001b[0m\u001b[0;34m'service_level'\u001b[0m\u001b[0;34m]\u001b[0m\u001b[0;34m.\u001b[0m\u001b[0mfillna\u001b[0m\u001b[0;34m(\u001b[0m\u001b[0;36m1\u001b[0m\u001b[0;34m)\u001b[0m\u001b[0;34m\u001b[0m\u001b[0m\n\u001b[1;32m     12\u001b[0m \u001b[0;34m\u001b[0m\u001b[0m\n\u001b[0;32m---> 13\u001b[0;31m \u001b[0monstock_store\u001b[0m\u001b[0;34m[\u001b[0m\u001b[0;34m'total_order'\u001b[0m\u001b[0;34m]\u001b[0m \u001b[0;34m=\u001b[0m \u001b[0monstock_store\u001b[0m\u001b[0;34m[\u001b[0m\u001b[0;34m'order_qty'\u001b[0m\u001b[0;34m]\u001b[0m  \u001b[0;34m+\u001b[0m \u001b[0monstock_store\u001b[0m\u001b[0;34m[\u001b[0m\u001b[0;34m'dm_order_qty'\u001b[0m\u001b[0;34m]\u001b[0m\u001b[0;34m\u001b[0m\u001b[0m\n\u001b[0m",
      "\u001b[0;32m/usr/lib64/python3.6/site-packages/pandas/core/ops.py\u001b[0m in \u001b[0;36mwrapper\u001b[0;34m(left, right)\u001b[0m\n\u001b[1;32m   1581\u001b[0m             \u001b[0mrvalues\u001b[0m \u001b[0;34m=\u001b[0m \u001b[0mrvalues\u001b[0m\u001b[0;34m.\u001b[0m\u001b[0mvalues\u001b[0m\u001b[0;34m\u001b[0m\u001b[0m\n\u001b[1;32m   1582\u001b[0m \u001b[0;34m\u001b[0m\u001b[0m\n\u001b[0;32m-> 1583\u001b[0;31m         \u001b[0mresult\u001b[0m \u001b[0;34m=\u001b[0m \u001b[0msafe_na_op\u001b[0m\u001b[0;34m(\u001b[0m\u001b[0mlvalues\u001b[0m\u001b[0;34m,\u001b[0m \u001b[0mrvalues\u001b[0m\u001b[0;34m)\u001b[0m\u001b[0;34m\u001b[0m\u001b[0m\n\u001b[0m\u001b[1;32m   1584\u001b[0m         return construct_result(left, result,\n\u001b[1;32m   1585\u001b[0m                                 index=left.index, name=res_name, dtype=None)\n",
      "\u001b[0;32m/usr/lib64/python3.6/site-packages/pandas/core/ops.py\u001b[0m in \u001b[0;36msafe_na_op\u001b[0;34m(lvalues, rvalues)\u001b[0m\n\u001b[1;32m   1527\u001b[0m         \u001b[0;32mtry\u001b[0m\u001b[0;34m:\u001b[0m\u001b[0;34m\u001b[0m\u001b[0m\n\u001b[1;32m   1528\u001b[0m             \u001b[0;32mwith\u001b[0m \u001b[0mnp\u001b[0m\u001b[0;34m.\u001b[0m\u001b[0merrstate\u001b[0m\u001b[0;34m(\u001b[0m\u001b[0mall\u001b[0m\u001b[0;34m=\u001b[0m\u001b[0;34m'ignore'\u001b[0m\u001b[0;34m)\u001b[0m\u001b[0;34m:\u001b[0m\u001b[0;34m\u001b[0m\u001b[0m\n\u001b[0;32m-> 1529\u001b[0;31m                 \u001b[0;32mreturn\u001b[0m \u001b[0mna_op\u001b[0m\u001b[0;34m(\u001b[0m\u001b[0mlvalues\u001b[0m\u001b[0;34m,\u001b[0m \u001b[0mrvalues\u001b[0m\u001b[0;34m)\u001b[0m\u001b[0;34m\u001b[0m\u001b[0m\n\u001b[0m\u001b[1;32m   1530\u001b[0m         \u001b[0;32mexcept\u001b[0m \u001b[0mException\u001b[0m\u001b[0;34m:\u001b[0m\u001b[0;34m\u001b[0m\u001b[0m\n\u001b[1;32m   1531\u001b[0m             \u001b[0;32mif\u001b[0m \u001b[0mis_object_dtype\u001b[0m\u001b[0;34m(\u001b[0m\u001b[0mlvalues\u001b[0m\u001b[0;34m)\u001b[0m\u001b[0;34m:\u001b[0m\u001b[0;34m\u001b[0m\u001b[0m\n",
      "\u001b[0;32m/usr/lib64/python3.6/site-packages/pandas/core/ops.py\u001b[0m in \u001b[0;36mna_op\u001b[0;34m(x, y)\u001b[0m\n\u001b[1;32m   1505\u001b[0m             \u001b[0mresult\u001b[0m \u001b[0;34m=\u001b[0m \u001b[0mexpressions\u001b[0m\u001b[0;34m.\u001b[0m\u001b[0mevaluate\u001b[0m\u001b[0;34m(\u001b[0m\u001b[0mop\u001b[0m\u001b[0;34m,\u001b[0m \u001b[0mstr_rep\u001b[0m\u001b[0;34m,\u001b[0m \u001b[0mx\u001b[0m\u001b[0;34m,\u001b[0m \u001b[0my\u001b[0m\u001b[0;34m,\u001b[0m \u001b[0;34m**\u001b[0m\u001b[0meval_kwargs\u001b[0m\u001b[0;34m)\u001b[0m\u001b[0;34m\u001b[0m\u001b[0m\n\u001b[1;32m   1506\u001b[0m         \u001b[0;32mexcept\u001b[0m \u001b[0mTypeError\u001b[0m\u001b[0;34m:\u001b[0m\u001b[0;34m\u001b[0m\u001b[0m\n\u001b[0;32m-> 1507\u001b[0;31m             \u001b[0mresult\u001b[0m \u001b[0;34m=\u001b[0m \u001b[0mmasked_arith_op\u001b[0m\u001b[0;34m(\u001b[0m\u001b[0mx\u001b[0m\u001b[0;34m,\u001b[0m \u001b[0my\u001b[0m\u001b[0;34m,\u001b[0m \u001b[0mop\u001b[0m\u001b[0;34m)\u001b[0m\u001b[0;34m\u001b[0m\u001b[0m\n\u001b[0m\u001b[1;32m   1508\u001b[0m \u001b[0;34m\u001b[0m\u001b[0m\n\u001b[1;32m   1509\u001b[0m         \u001b[0mresult\u001b[0m \u001b[0;34m=\u001b[0m \u001b[0mmissing\u001b[0m\u001b[0;34m.\u001b[0m\u001b[0mfill_zeros\u001b[0m\u001b[0;34m(\u001b[0m\u001b[0mresult\u001b[0m\u001b[0;34m,\u001b[0m \u001b[0mx\u001b[0m\u001b[0;34m,\u001b[0m \u001b[0my\u001b[0m\u001b[0;34m,\u001b[0m \u001b[0mop_name\u001b[0m\u001b[0;34m,\u001b[0m \u001b[0mfill_zeros\u001b[0m\u001b[0;34m)\u001b[0m\u001b[0;34m\u001b[0m\u001b[0m\n",
      "\u001b[0;32m/usr/lib64/python3.6/site-packages/pandas/core/ops.py\u001b[0m in \u001b[0;36mmasked_arith_op\u001b[0;34m(x, y, op)\u001b[0m\n\u001b[1;32m   1007\u001b[0m             \u001b[0;32mwith\u001b[0m \u001b[0mnp\u001b[0m\u001b[0;34m.\u001b[0m\u001b[0merrstate\u001b[0m\u001b[0;34m(\u001b[0m\u001b[0mall\u001b[0m\u001b[0;34m=\u001b[0m\u001b[0;34m'ignore'\u001b[0m\u001b[0;34m)\u001b[0m\u001b[0;34m:\u001b[0m\u001b[0;34m\u001b[0m\u001b[0m\n\u001b[1;32m   1008\u001b[0m                 result[mask] = op(xrav[mask],\n\u001b[0;32m-> 1009\u001b[0;31m                                   com.values_from_object(yrav[mask]))\n\u001b[0m\u001b[1;32m   1010\u001b[0m \u001b[0;34m\u001b[0m\u001b[0m\n\u001b[1;32m   1011\u001b[0m     \u001b[0;32melse\u001b[0m\u001b[0;34m:\u001b[0m\u001b[0;34m\u001b[0m\u001b[0m\n",
      "\u001b[0;31mTypeError\u001b[0m: unsupported operand type(s) for +: 'float' and 'decimal.Decimal'"
     ]
    }
   ],
   "source": [
    "onstock_store['order_qty'] = onstock_store['order_qty'].fillna(0)\n",
    "\n",
    "onstock_store['order_qty_without_pcb'] = onstock_store['order_without_pcb'].fillna(0)\n",
    "\n",
    "onstock_store['dm_order_qty'] = onstock_store['dm_order_qty'].fillna(0)\n",
    "\n",
    "onstock_store['dm_order_qty_without_pcb'] = onstock_store['dm_order_qty_without_pcb'].fillna(0)\n",
    "\n",
    "onstock_store['four_weeks_after_dm'] = onstock_store['four_weeks_after_dm'].fillna(0)\n",
    "\n",
    "onstock_store['service_level'] = onstock_store['service_level'].fillna(1)\n",
    "\n",
    "onstock_store['total_order'] = onstock_store['order_qty']  + onstock_store['dm_order_qty'] "
   ]
  },
  {
   "cell_type": "code",
   "execution_count": null,
   "metadata": {},
   "outputs": [],
   "source": [
    "xdock_items_sql = \"\"\"\n",
    "SELECT DISTINCT\n",
    "    store_code,\n",
    "\tdept_code,\n",
    "    item_code,\n",
    "    sub_code,\n",
    "    supplier_code\n",
    "FROM\n",
    "(\n",
    "    SELECT\n",
    "    ord.store_code,\n",
    "\tord.dept_code,\n",
    "\tord.supplier_code,\n",
    "\tord.item_code,\n",
    "\tord.sub_code\n",
    "    FROM vartefact.forecast_xdock_orders ord\n",
    "    WHERE ord.order_day = '{0}'\n",
    "    \n",
    "    UNION\n",
    "    \n",
    "    SELECT\n",
    "    dm.store_code,\n",
    "\tdm.dept_code,\n",
    "\tCASE WHEN (dm.rotation='X')\n",
    "\t    THEN dm.ds_supplier_code\n",
    "\tELSE\n",
    "\t    dm.dc_supplier_code\n",
    "\tEND as supplier_code,\n",
    "\tdm.item_code,\n",
    "\tdm.sub_code\n",
    "    FROM vartefact.forecast_dm_orders dm\n",
    "    WHERE dm.first_order_date = '{0}'\n",
    ") ords\n",
    "    \"\"\".replace(\"\\n\", \" \").format(run_date.strftime(\"%Y%m%d\"))"
   ]
  },
  {
   "cell_type": "code",
   "execution_count": null,
   "metadata": {},
   "outputs": [],
   "source": [
    "xdock_items = sqlc.sql(xdock_items_sql)\n",
    "xdock_items.createOrReplaceTempView('xdock_items')"
   ]
  },
  {
   "cell_type": "code",
   "execution_count": null,
   "metadata": {},
   "outputs": [],
   "source": [
    "xdock_sql = \"\"\"\n",
    "SELECT osi.store_code,\n",
    "\tosi.dept_code,\n",
    "\tosi.supplier_code,\n",
    "\tosi.item_code,\n",
    "\tosi.sub_code,\n",
    "\tord.order_qty,\n",
    "\tord.order_without_pcb,\n",
    "\tord.delivery_day,\n",
    "\tdm.order_qty as dm_order_qty,\n",
    "\tdm.order_without_pcb as dm_order_qty_without_pcb,\n",
    "\tdm.ppp,\n",
    "\tdm.npp,\n",
    "\tdm.four_weeks_after_dm,\n",
    "\tcast(sl.service_level as DOUBLE) service_level,\n",
    "    cast(dc.qty_per_pack as DOUBLE) AS qty_per_pack\n",
    "FROM xdock_items osi\n",
    "LEFT JOIN vartefact.forecast_xdock_orders ord\n",
    "\tON osi.store_code = ord.store_code\n",
    "\tAND osi.dept_code = ord.dept_code\n",
    "\tAND osi.item_code = ord.item_code\n",
    "\tAND osi.sub_code =  ord.sub_code\n",
    "    AND ord.order_day = '{0}'\n",
    "LEFT JOIN vartefact.forecast_dm_orders dm \n",
    "\tON osi.store_code = dm.store_code\n",
    "\tAND osi.dept_code = dm.dept_code\n",
    "\tAND osi.item_code = dm.item_code\n",
    "\tAND osi.sub_code =  dm.sub_code\n",
    "    AND dm.first_order_date = '{0}'\n",
    "LEFT JOIN vartefact.monitor_service_level_item_dc sl\n",
    "    on ord.item_code = sl.item_code\n",
    "    and  ord.sub_code = sl.sub_code\n",
    "    and  ord.dept_code = sl.dept_code\n",
    "    and  sl.date_key='{0}'\n",
    "JOIN vartefact.forecast_dc_item_details dc \n",
    "    ON ord.item_code = dc.item_code\n",
    "\tAND ord.sub_code = dc.sub_code\n",
    "\tAND ord.dept_code = dc.dept_code\n",
    "    \"\"\".replace(\"\\n\", \" \").format(run_date.strftime(\"%Y%m%d\"))"
   ]
  },
  {
   "cell_type": "code",
   "execution_count": null,
   "metadata": {},
   "outputs": [],
   "source": [
    "xdock_sql = xdock_sql.format(run_date.strftime(\"%Y%m%d\"))"
   ]
  },
  {
   "cell_type": "code",
   "execution_count": null,
   "metadata": {},
   "outputs": [],
   "source": [
    "xdock_df = sqlc.sql(xdock_sql)"
   ]
  },
  {
   "cell_type": "code",
   "execution_count": null,
   "metadata": {},
   "outputs": [],
   "source": [
    "xdock_order = xdock_df.toPandas()"
   ]
  },
  {
   "cell_type": "code",
   "execution_count": null,
   "metadata": {},
   "outputs": [],
   "source": [
    "onstock_store['order_qty'] = onstock_store['order_qty'].fillna(0)\n",
    "\n",
    "onstock_store['order_qty_without_pcb'] = onstock_store['order_without_pcb'].fillna(0)\n",
    "\n",
    "xdock_order['dm_order_qty'] = xdock_order['dm_order_qty'].fillna(0)\n",
    "\n",
    "xdock_order['dm_order_qty_without_pcb'] = xdock_order['dm_order_qty_without_pcb'].fillna(0)\n",
    "\n",
    "xdock_order['four_weeks_after_dm'] = xdock_order['four_weeks_after_dm'].fillna(0)\n",
    "\n",
    "xdock_order['service_level'] = xdock_order['service_level'].fillna(1)\n",
    "\n",
    "xdock_order['order_qty_with_sl'] = np.round(( xdock_order['order_qty']  + xdock_order['dm_order_qty'] ) \n",
    "                                            * (2 - xdock_order['service_level']), 2)\n",
    "\n",
    "xdock_order['total_order'] = np.ceil(xdock_order['order_qty_with_sl'] / xdock_order['qty_per_pack']) * xdock_order['qty_per_pack']"
   ]
  },
  {
   "cell_type": "code",
   "execution_count": null,
   "metadata": {
    "lines_to_next_cell": 0
   },
   "outputs": [],
   "source": [
    "wb = Workbook()\n",
    "ws = wb.active\n",
    "ws.append(['Store_Code', 'Dept_Code', 'Supplier_Code', 'Item_Code', 'Sub_code', 'Order_Qty', 'Delv_yyyymmdd',\n",
    "               'Regular_Order', 'Regular_Order_Without_PCB', 'DM_Order', 'DM_Order_Without_PCB',\n",
    "           'PPP', 'NPP', '4_Weeks_After_DM_Order'])\n",
    "\n",
    "for index, ord in onstock_store.iterrows():\n",
    "     ws.append([ord.store_code, ord.dept_code, ord.supplier_code, ord.item_code,\n",
    "            ord.sub_code, ord.total_order, ord.delivery_day, ord.order_qty,\n",
    "            ord.order_without_pcb, ord.dm_order_qty, ord.dm_order_qty_without_pcb,\n",
    "                ord.ppp, ord.npp, ord.four_weeks_after_dm])\n",
    "        \n",
    "for index, ord in xdock_order.iterrows():\n",
    "     ws.append([ord.store_code, ord.dept_code, ord.supplier_code, ord.item_code,\n",
    "            ord.sub_code, ord.total_order, ord.delivery_day, ord.order_qty,\n",
    "            ord.order_without_pcb, ord.dm_order_qty, ord.dm_order_qty_without_pcb,\n",
    "                ord.ppp, ord.npp, ord.four_weeks_after_dm])\n",
    "        \n",
    "wb.save(f'Store Order {run_date.strftime(\"%Y%m%d\")}.xlsx')"
   ]
  },
  {
   "cell_type": "code",
   "execution_count": null,
   "metadata": {
    "lines_to_next_cell": 2
   },
   "outputs": [],
   "source": [
    "dc_sql = \"\"\"\n",
    "SELECT ord.dept_code,\n",
    "\tord.supplier_code,\n",
    "\tord.item_code,\n",
    "\tord.sub_code,\n",
    "\tord.order_qty,\n",
    "\tord.delivery_day,\n",
    "\tcast(sl.service_level AS DOUBLE) service_level,\n",
    "\tcast(dc.qty_per_unit AS float) AS qty_per_unit,\n",
    "    dc.order_uint,\n",
    "    dc.item_name_english,\n",
    "    dc.item_name_local,\n",
    "    dc.current_warehouse\n",
    "FROM vartefact.forecast_dc_orders ord\n",
    "LEFT JOIN vartefact.monitor_service_level_item_dc sl ON ord.item_code = sl.item_code\n",
    "\tAND ord.sub_code = sl.sub_code\n",
    "\tAND ord.dept_code = sl.dept_code\n",
    "\tAND sl.date_key = '{0}'\n",
    "JOIN vartefact.forecast_dc_item_details dc ON ord.item_code = dc.item_code\n",
    "\tAND ord.sub_code = dc.sub_code\n",
    "\tAND ord.dept_code = dc.dept_code\n",
    "WHERE ord.order_day = '{0}'\n",
    "    \"\"\".replace(\"\\n\", \" \")"
   ]
  },
  {
   "cell_type": "code",
   "execution_count": null,
   "metadata": {},
   "outputs": [],
   "source": [
    "dc_df = sqlc.sql(dc_sql.format(run_date.strftime(\"%Y%m%d\")))"
   ]
  },
  {
   "cell_type": "code",
   "execution_count": null,
   "metadata": {
    "lines_to_next_cell": 2
   },
   "outputs": [],
   "source": [
    "dc_orders = dc_df.toPandas()"
   ]
  },
  {
   "cell_type": "code",
   "execution_count": null,
   "metadata": {},
   "outputs": [],
   "source": [
    "dc_orders['service_level'] = dc_orders['service_level'].fillna(1)"
   ]
  },
  {
   "cell_type": "code",
   "execution_count": null,
   "metadata": {},
   "outputs": [],
   "source": [
    "dc_orders['order_qty_with_sl'] = np.round(dc_orders['order_qty'] * (2 - dc_orders['service_level']), 2)"
   ]
  },
  {
   "cell_type": "code",
   "execution_count": null,
   "metadata": {
    "lines_to_next_cell": 2
   },
   "outputs": [],
   "source": [
    "dc_orders['order_qty_by_unit'] = np.ceil(dc_orders['order_qty_with_sl'] / dc_orders['qty_per_unit'])"
   ]
  },
  {
   "cell_type": "code",
   "execution_count": null,
   "metadata": {},
   "outputs": [],
   "source": [
    "wb = Workbook()\n",
    "ws = wb.active\n",
    "ws.append(['Supplier Code', 'Warehouse', 'Delivery Date', 'Item Code', 'Item Name', 'Item Name Local', 'POQ quantity',\n",
    "               'Purchase Quantity', 'Unit', 'Intend Purchase Qty', 'Qty without service level', 'Qty per Unit',\n",
    "           'Purchase Price', 'Purchase Amount', 'Unit DC Discount',\n",
    "          'Unit % discount', 'Additional free goods', 'NPP', 'Main barcode'])\n",
    "\n",
    "for index, ord in dc_orders.iterrows():\n",
    "     ws.append([ord.supplier_code, ord.current_warehouse, ord.delivery_day, \n",
    "                ord.dept_code + ord.item_code + ord.sub_code,\n",
    "                ord.item_name_english, ord.item_name_local, '', \n",
    "                ord.order_qty_by_unit, ord.order_uint, ord.order_qty_with_sl,\n",
    "                ord.order_qty, ord.qty_per_unit,\n",
    "                '', '', '', '', '', '', ''])\n",
    "        \n",
    "wb.save(f'DC Order {run_date.strftime(\"%Y%m%d\")}.xlsx')"
   ]
  },
  {
   "cell_type": "code",
   "execution_count": null,
   "metadata": {},
   "outputs": [],
   "source": [
    "sc.stop()"
   ]
  },
  {
   "cell_type": "code",
   "execution_count": null,
   "metadata": {},
   "outputs": [],
   "source": []
  }
 ],
 "metadata": {
  "jupytext": {
   "formats": "ipynb,py"
  },
  "kernelspec": {
   "display_name": "Python 3",
   "language": "python",
   "name": "python3"
  },
  "language_info": {
   "codemirror_mode": {
    "name": "ipython",
    "version": 3
   },
   "file_extension": ".py",
   "mimetype": "text/x-python",
   "name": "python",
   "nbconvert_exporter": "python",
   "pygments_lexer": "ipython3",
   "version": "3.6.6"
  }
 },
 "nbformat": 4,
 "nbformat_minor": 2
}
