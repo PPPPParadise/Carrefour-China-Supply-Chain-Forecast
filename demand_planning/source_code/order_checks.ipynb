{
 "cells": [
  {
   "cell_type": "code",
   "execution_count": 15,
   "metadata": {},
   "outputs": [],
   "source": [
    "import datetime\n",
    "import os\n",
    "from datetime import timedelta\n",
    "from os.path import abspath\n",
    "import pandas as pd\n",
    "from openpyxl import Workbook\n",
    "\n",
    "from pyspark.sql import SQLContext\n",
    "from pyspark.sql import SparkSession\n",
    "from pyspark.sql import functions as F\n",
    "\n",
    "warehouse_location = abspath('spark-warehouse')\n",
    "os.environ[\"PYSPARK_SUBMIT_ARGS\"] = '--jars /data/jupyter/kudu-spark2_2.11-1.8.0.jar pyspark-shell'\n",
    "\n",
    "spark = SparkSession.builder \\\n",
    "    .appName(\"Data completeness check\") \\\n",
    "    .config(\"spark.sql.warehouse.dir\", warehouse_location) \\\n",
    "    .config(\"spark.driver.memory\", '8g') \\\n",
    "    .config(\"spark.executor.memory\", '8g') \\\n",
    "    .config(\"spark.num.executors\", '4') \\\n",
    "    .config(\"hive.exec.compress.output\", 'false') \\\n",
    "    .enableHiveSupport() \\\n",
    "    .getOrCreate()\n",
    "\n",
    "sc = spark.sparkContext\n",
    "\n",
    "sqlc = SQLContext(sc)"
   ]
  },
  {
   "cell_type": "code",
   "execution_count": 2,
   "metadata": {},
   "outputs": [],
   "source": [
    "date_str = '20190826'\n",
    "\n",
    "check_date = datetime.datetime.strptime(date_str, '%Y%m%d').date()\n",
    "\n",
    "stock_date = check_date + timedelta(days=-1)"
   ]
  },
  {
   "cell_type": "code",
   "execution_count": 3,
   "metadata": {},
   "outputs": [],
   "source": [
    "onstock_order_check_sql = \\\n",
    "    \"\"\"\n",
    "    select\n",
    "        itm.*,\n",
    "        ords.order_qty,\n",
    "        CASE \n",
    "        when sto.balance_qty is null \n",
    "            then 'Missing stock in table fds.p4cm_daily_stock'\n",
    "        else 'Others'\n",
    "        END as reason\n",
    "    from\n",
    "        vartefact.v_forecast_daily_onstock_order_items itm\n",
    "        left join vartefact.forecast_onstock_orders ords on itm.dept_code = ords.dept_code\n",
    "        and itm.item_code = ords.item_code\n",
    "        and itm.sub_code = ords.sub_code\n",
    "        and itm.store_code = ords.store_code\n",
    "        and ords.order_day = '{0}'\n",
    "        left join fds.p4cm_daily_stock sto on itm.dept_code = sto.dept_code\n",
    "        and itm.item_code = sto.item_code\n",
    "        and itm.sub_code = sto.sub_code\n",
    "        and itm.store_code = sto.store_code\n",
    "        and sto.date_key = '{1}'\n",
    "    where\n",
    "        itm.order_day = '{0}'\n",
    "        and ords.order_qty is null\n",
    "    order by\n",
    "        itm.dept_code,\n",
    "        itm.item_code,\n",
    "        itm.sub_code,\n",
    "        itm.store_code\n",
    "    \"\"\".replace(\"\\n\", \" \")\n",
    "\n",
    "onstock_order_check_sql = onstock_order_check_sql.format(check_date.strftime(\"%Y%m%d\"), stock_date.strftime(\"%Y%m%d\"))"
   ]
  },
  {
   "cell_type": "code",
   "execution_count": 4,
   "metadata": {},
   "outputs": [],
   "source": [
    "missing_onstock_orders = sqlc.sql(onstock_order_check_sql)"
   ]
  },
  {
   "cell_type": "code",
   "execution_count": 5,
   "metadata": {},
   "outputs": [],
   "source": [
    "xdock_order_check_sql = \\\n",
    "    \"\"\"\n",
    "    select\n",
    "        itm.*,\n",
    "        ords.order_qty,\n",
    "        CASE \n",
    "        when sto.balance_qty is null \n",
    "            then 'Missing stock in table fds.p4cm_daily_stock'\n",
    "        else 'Others'\n",
    "        END as reason\n",
    "    from\n",
    "        vartefact.v_forecast_daily_xdock_order_items itm\n",
    "        left join vartefact.forecast_xdock_orders ords on itm.dept_code = ords.dept_code\n",
    "        and itm.item_code = ords.item_code\n",
    "        and itm.sub_code = ords.sub_code\n",
    "        and itm.store_code = ords.store_code\n",
    "        and ords.order_day = '{0}'\n",
    "        left join fds.p4cm_daily_stock sto on itm.dept_code = sto.dept_code\n",
    "        and itm.item_code = sto.item_code\n",
    "        and itm.sub_code = sto.sub_code\n",
    "        and itm.store_code = sto.store_code\n",
    "        and sto.date_key = '{1}'\n",
    "    where\n",
    "        itm.order_day = '{0}'\n",
    "        and ords.order_qty is null\n",
    "    order by\n",
    "        itm.dept_code,\n",
    "        itm.item_code,\n",
    "        itm.sub_code,\n",
    "        itm.store_code\n",
    "    \"\"\".replace(\"\\n\", \" \")\n",
    "\n",
    "xdock_order_check_sql = xdock_order_check_sql.format(check_date.strftime(\"%Y%m%d\"), stock_date.strftime(\"%Y%m%d\"))"
   ]
  },
  {
   "cell_type": "code",
   "execution_count": 6,
   "metadata": {},
   "outputs": [],
   "source": [
    "missing_xdock_orders = sqlc.sql(xdock_order_check_sql)"
   ]
  },
  {
   "cell_type": "code",
   "execution_count": 7,
   "metadata": {},
   "outputs": [],
   "source": [
    "missing_store_orders = missing_onstock_orders.union(missing_xdock_orders)"
   ]
  },
  {
   "cell_type": "code",
   "execution_count": 8,
   "metadata": {},
   "outputs": [],
   "source": [
    "missing_store_orders_df = missing_store_orders.toPandas()"
   ]
  },
  {
   "cell_type": "code",
   "execution_count": 25,
   "metadata": {},
   "outputs": [],
   "source": [
    "missing_orders = missing_store_orders_df[['rotation', 'dept_code', 'item_code', 'sub_code', 'cn_name', 'store_code', \n",
    "               'con_holding', 'ds_supplier_code', 'dc_supplier_code', 'reason']]\n",
    "\n",
    "if len(missing_store_orders_df) == 0:\n",
    "    missing_orders = pd.DataFrame([\"No missing orders found. All item stores have orders generated.\"])\n",
    "    missing_orders.to_csv(f'missing_store_orders_{date_str}.csv',mode='w',index=False, header=False)\n",
    "else:\n",
    "    missing_orders.columns=['Rotation', 'Dept_Code', 'Item_Code','CN_Name', 'Sub_code', 'Store_Code', \n",
    "           'Con_holding', 'DS_supplier', 'DC_supplier', 'Missing_reason']\n",
    "    missing_orders.to_csv(f'missing_store_orders_{date_str}.csv',mode='w',index=False, header=True)"
   ]
  },
  {
   "cell_type": "code",
   "execution_count": 26,
   "metadata": {},
   "outputs": [],
   "source": [
    "dc_order_check_sql = \\\n",
    "    \"\"\"\n",
    "    select\n",
    "        distinct\n",
    "        itm.*,\n",
    "        ords.order_qty,\n",
    "        CASE \n",
    "        when sto.balance_qty is null \n",
    "            then 'Missing stock in table fds.p4cm_daily_stock'\n",
    "        when ldd.stock_available_sku is null \n",
    "            then 'Missing stock in table lfms.daily_dcstock'\n",
    "        else 'Others'\n",
    "        END as reason\n",
    "    from\n",
    "        vartefact.forecast_dc_latest_sales fdls\n",
    "    JOIN vartefact.forecast_dc_order_delivery_mapping dodm \n",
    "        ON dodm.con_holding = fdls.con_holding\n",
    "        AND dodm.order_date = '{0}'\n",
    "    JOIN vartefact.v_forecast_inscope_dc_item_details itm ON fdls.item_code = itm.item_code\n",
    "        AND fdls.sub_code = itm.sub_code\n",
    "        AND fdls.dept_code = itm.dept_code\n",
    "        AND dodm.risk_item_unilever = itm.risk_item_unilever\n",
    "        AND itm.rotation != 'X'\n",
    "    JOIN vartefact.forecast_calendar ord\n",
    "        on ord.date_key = dodm.order_date\n",
    "    LEFT join vartefact.forecast_dc_orders ords on itm.dept_code = ords.dept_code\n",
    "        and itm.item_code = ords.item_code\n",
    "        and itm.sub_code = ords.sub_code\n",
    "        and itm.holding_code = ords.con_holding\n",
    "        and ords.order_day = '{0}'\n",
    "    LEFT join fds.p4cm_daily_stock sto on itm.dept_code = sto.dept_code\n",
    "        and itm.item_code = sto.item_code\n",
    "        and itm.sub_code = sto.sub_code\n",
    "        and sto.date_key = '{1}'\n",
    "    LEFT join vartefact.forecast_lfms_daily_dcstock ldd on sto.item_id = ldd.item_id\n",
    "        and sto.sub_id = ldd.sub_id\n",
    "        and ldd.date_key = '{1}'\n",
    "        and ldd.dc_site = 'DC1'\n",
    "    where\n",
    "        ords.order_qty is null\n",
    "    order by\n",
    "        itm.dept_code,\n",
    "        itm.item_code,\n",
    "        itm.sub_code\n",
    "    \"\"\".replace(\"\\n\", \" \")\n",
    "\n",
    "dc_order_check_sql = dc_order_check_sql.format(check_date.strftime(\"%Y%m%d\"), stock_date.strftime(\"%Y%m%d\"))"
   ]
  },
  {
   "cell_type": "code",
   "execution_count": 27,
   "metadata": {},
   "outputs": [],
   "source": [
    "missing_dc_order = sqlc.sql(dc_order_check_sql)"
   ]
  },
  {
   "cell_type": "code",
   "execution_count": 28,
   "metadata": {},
   "outputs": [],
   "source": [
    "missing_dc_order_df = missing_dc_order.toPandas()"
   ]
  },
  {
   "cell_type": "code",
   "execution_count": 29,
   "metadata": {},
   "outputs": [],
   "source": [
    "missing_orders = missing_dc_order_df[['rotation', 'dept_code', 'item_code', 'sub_code', 'item_name_local', \n",
    "                   'current_warehouse', 'holding_code', 'primary_ds_supplier', 'reason']]\n",
    "\n",
    "if len(missing_dc_order_df) == 0:\n",
    "    missing_orders = pd.DataFrame([\"No missing orders found. All item stores have orders generated.\"])\n",
    "    missing_orders.to_csv(f'missing_dc_orders_{date_str}.csv',mode='w',index=False, header=False)\n",
    "else:\n",
    "    missing_orders.columns=['Rotation', 'Dept_Code', 'Item_Code','CN_Name', 'Sub_code', 'Warehouse', \n",
    "               'Con_holding', 'DS_supplier', 'Missing_reason']\n",
    "    \n",
    "    missing_orders.to_csv(f'missing_dc_orders_{date_str}.csv',mode='w',index=False, header=True)"
   ]
  }
 ],
 "metadata": {
  "kernelspec": {
   "display_name": "Python 3",
   "language": "python",
   "name": "python3"
  },
  "language_info": {
   "codemirror_mode": {
    "name": "ipython",
    "version": 3
   },
   "file_extension": ".py",
   "mimetype": "text/x-python",
   "name": "python",
   "nbconvert_exporter": "python",
   "pygments_lexer": "ipython3",
   "version": "3.6.6"
  }
 },
 "nbformat": 4,
 "nbformat_minor": 2
}
