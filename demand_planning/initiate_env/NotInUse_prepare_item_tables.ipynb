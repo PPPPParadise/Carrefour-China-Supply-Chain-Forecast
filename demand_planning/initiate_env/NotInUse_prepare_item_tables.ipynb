{
 "cells": [
  {
   "cell_type": "code",
   "execution_count": 79,
   "metadata": {},
   "outputs": [],
   "source": [
    "import math\n",
    "import warnings\n",
    "import pandas as pd"
   ]
  },
  {
   "cell_type": "markdown",
   "metadata": {},
   "source": [
    "# Info"
   ]
  },
  {
   "cell_type": "markdown",
   "metadata": {
    "lines_to_next_cell": 2
   },
   "source": [
    "Use this file to load below content\n",
    "1. The list of all in scope items. Such as DS supplier and DC supplier\n",
    "2. Order and delivery schedule for cross docking items\n",
    "3. The list of all in scope DC items and their information. Such as order unit."
   ]
  },
  {
   "cell_type": "markdown",
   "metadata": {},
   "source": [
    "# Load config file"
   ]
  },
  {
   "cell_type": "code",
   "execution_count": 121,
   "metadata": {},
   "outputs": [],
   "source": [
    "def get_order_weekday(order_day):\n",
    "    if order_day == \"MON.\":\n",
    "        return 1\n",
    "    elif order_day == \"TUE.\":\n",
    "        return 2\n",
    "    elif order_day == \"WED.\":\n",
    "        return 3\n",
    "    elif order_day == \"THU.\":\n",
    "        return 4\n",
    "    elif order_day == \"FRI.\":\n",
    "        return 5\n",
    "    elif order_day == \"SAT.\":\n",
    "        return 6\n",
    "    elif order_day == \"SUN.\":\n",
    "        return 7\n",
    "\n",
    "def get_deliver_weekday(order_day, lead_time):\n",
    "    delivery_day = order_day + lead_time\n",
    "    \n",
    "    if delivery_day > 7:\n",
    "        return delivery_day % 7\n",
    "    return delivery_day\n",
    "\n",
    "\n",
    "def get_week_shift(order_day, lead_time):\n",
    "    if (order_day + lead_time) > 7:\n",
    "        return math.floor((order_day + lead_time) / 7)\n",
    "    return 0\n",
    "\n",
    "\n",
    "def get_qty_per_unit(row):\n",
    "\n",
    "    if row['order_uint'] == 'box':\n",
    "        return int(row['qty_per_pack']) * int(row['pack_per_box'])\n",
    "\n",
    "    if row['order_uint'] == 'layer':\n",
    "        return int(row['qty_per_pack']) * int(row['pack_per_box']) * int(row['box_per_layer_ti'])\n",
    "\n",
    "    if row['order_uint'] == 'pallet':\n",
    "        return int(row['qty_per_pack']) * int(row['pack_per_box']) \\\n",
    "               * int(row['box_per_layer_ti']) * int(row['layer_per_pallet_hi'])\n",
    "    \n",
    "    return int(row['qty_per_pack']) * int(row['pack_per_box'])                                            \n",
    "                                                                        \n",
    "    "
   ]
  },
  {
   "cell_type": "markdown",
   "metadata": {},
   "source": [
    "# Load 3 supplier items"
   ]
  },
  {
   "cell_type": "code",
   "execution_count": 95,
   "metadata": {},
   "outputs": [],
   "source": [
    "warnings.filterwarnings('ignore')\n",
    "\n",
    "store_item = pd.read_excel('store_item.xlsx', 'ordinary', header=0, dtype=str).fillna(\"\")\n",
    "\n",
    "store_item = store_item[store_item['CON_HOLDING'].isin(['002', '693', '700'])]"
   ]
  },
  {
   "cell_type": "code",
   "execution_count": 96,
   "metadata": {},
   "outputs": [],
   "source": [
    "item_details = store_item[['DEPT code', 'CON_HOLDING', 'HOLDING_NAME', 'HOLDING_CHN_NAME',\n",
    "       'ITEM_CODE', 'Sub Code', 'LOCAL_NAME', 'PCB', 'Flow type',\n",
    "       'ROTATION', 'DC Supplier', 'DS Supplier', 'Item status',\n",
    "       'Store need to stop when W stock=o', 'Cover Region']]\n",
    "\n",
    "item_details.columns = ['dept_code', 'con_holding', 'holding_name', 'holiding_chn_name',\n",
    "       'item_code', 'sub_code', 'local_name', 'pcb', 'flow_type',\n",
    "       'rotation', 'dc_supplier_code', 'ds_supplier_code', 'item_status',\n",
    "       'store_stop_when_stock_is_o', 'cover_region']\n",
    "\n",
    "item_details = item_details.drop_duplicates()"
   ]
  },
  {
   "cell_type": "markdown",
   "metadata": {},
   "source": [
    "# Extract cross docking ordering schedule"
   ]
  },
  {
   "cell_type": "code",
   "execution_count": 97,
   "metadata": {},
   "outputs": [],
   "source": [
    "x_rotation_mapping = store_item[store_item[\"ROTATION\"] == \"X\"]"
   ]
  },
  {
   "cell_type": "code",
   "execution_count": 98,
   "metadata": {
    "lines_to_next_cell": 2
   },
   "outputs": [],
   "source": [
    "new_mapping = x_rotation_mapping[[\"DEPT code\", \"ITEM_CODE\", \"Sub Code\",  \"Flow type\",\n",
    "                                  \"ROTATION\", \"X rotation orderday\", \"X rotation LT\"]].drop_duplicates()\n",
    "\n",
    "new_mapping = new_mapping.set_index([\"DEPT code\", \"ITEM_CODE\", \"Sub Code\", \"Flow type\",\n",
    "                                     \"ROTATION\", \"X rotation LT\"])\n",
    "\n",
    "new_mapping = new_mapping.stack().str.split('/', expand=True) \\\n",
    "    .stack().apply(pd.Series).stack() \\\n",
    "    .unstack(level=8).reset_index(-1, drop=True).reset_index()"
   ]
  },
  {
   "cell_type": "code",
   "execution_count": 99,
   "metadata": {
    "lines_to_next_cell": 2
   },
   "outputs": [],
   "source": [
    "new_mapping.columns = [\"dept_code\", 'item_code', 'sub_code', 'flow_type', 'rotation',\n",
    "                       'lead_time', 'dummy1', 'order_day']\n",
    "\n",
    "new_mapping = new_mapping[['dept_code','item_code', 'sub_code', 'flow_type', 'rotation', 'lead_time', 'order_day']]\n",
    "\n",
    "new_mapping.lead_time = new_mapping.lead_time.str.split(' ', 1, expand=True)\n",
    "\n",
    "new_mapping[\"order_weekday\"] = new_mapping.apply(lambda r: get_order_weekday(r.order_day), axis=1)\n",
    "\n",
    "new_mapping[\"delivery_weekday\"] = new_mapping.apply(\n",
    "    lambda r: get_deliver_weekday(r.order_weekday, int(r.lead_time)), axis=1)\n",
    "\n",
    "new_mapping[\"week_shift\"] = new_mapping.apply(lambda r: get_week_shift(r.order_weekday, int(r.lead_time)), axis=1)"
   ]
  },
  {
   "cell_type": "markdown",
   "metadata": {},
   "source": [
    "# DC file"
   ]
  },
  {
   "cell_type": "code",
   "execution_count": 105,
   "metadata": {},
   "outputs": [],
   "source": [
    "dc_items = pd.read_excel('East_3Supps_DC_Item_list_20190805.xlsx', 'Item Detail', header=0, dtype=str).fillna('')"
   ]
  },
  {
   "cell_type": "code",
   "execution_count": 106,
   "metadata": {},
   "outputs": [],
   "source": [
    "dc_items = dc_items[dc_items['Holding Code'].isin(['002', '693', '700'])]"
   ]
  },
  {
   "cell_type": "code",
   "execution_count": 107,
   "metadata": {},
   "outputs": [],
   "source": [
    "dc_items.rename(columns={'Item code':'Full item code'}, inplace=True)"
   ]
  },
  {
   "cell_type": "code",
   "execution_count": 108,
   "metadata": {},
   "outputs": [],
   "source": [
    "dc_items[\"Dept code\"] = dc_items[\"Full item code\"].str.slice(0, 2)\n",
    "dc_items[\"Item code\"] = dc_items[\"Full item code\"].str.slice(2, 8)\n",
    "dc_items[\"Sub code\"] = dc_items[\"Full item code\"].str.slice(8)"
   ]
  },
  {
   "cell_type": "code",
   "execution_count": 109,
   "metadata": {},
   "outputs": [],
   "source": [
    "dc_items.columns = ['dc', 'dc_site', 'full_item_code', 'dc_status', 'item_name_english',\n",
    "'item_name_local', 'current_warehouse', 'primary_ds_supplier',\n",
    "'primary_ds_supplier_name', 'qty_per_box', 'primary_barcode',\n",
    "'rotation', 'box_per_layer_ti', 'layer_per_pallet_hi',\n",
    "'stop_start_date', 'stop_reason', 'qty_per_pack', 'pack_per_box',\n",
    "'holding_supplier_code', 'holding_code', 'risk_item_unilever',\n",
    "'order_uint', 'dept_code', 'item_code', 'sub_code']"
   ]
  },
  {
   "cell_type": "code",
   "execution_count": 122,
   "metadata": {},
   "outputs": [],
   "source": [
    "dc_items['qty_per_unit'] = dc_items.apply(get_qty_per_unit, axis = 1)"
   ]
  },
  {
   "cell_type": "markdown",
   "metadata": {},
   "source": [
    "# Write to datalake"
   ]
  },
  {
   "cell_type": "code",
   "execution_count": 100,
   "metadata": {},
   "outputs": [],
   "source": [
    "from load_spark import load_spark\n",
    "from pyspark.sql import HiveContext\n",
    "\n",
    "sc = load_spark(\"prepare_item_tables\")\n",
    "\n",
    "sqlc = HiveContext(sc)"
   ]
  },
  {
   "cell_type": "code",
   "execution_count": 102,
   "metadata": {},
   "outputs": [],
   "source": [
    "mapping_df = sqlc.createDataFrame(new_mapping)\n",
    "mapping_df.write.mode(\"overwrite\").saveAsTable(\"vartefact.xdock_order_delivery_mapping\")"
   ]
  },
  {
   "cell_type": "code",
   "execution_count": 11,
   "metadata": {},
   "outputs": [],
   "source": [
    "item_details_df = sqlc.createDataFrame(item_details)\n",
    "item_details_df.write.mode(\"overwrite\").saveAsTable(\"vartefact.forecast_item_details\")"
   ]
  },
  {
   "cell_type": "code",
   "execution_count": 124,
   "metadata": {},
   "outputs": [],
   "source": [
    "dc_items_df = sqlc.createDataFrame(dc_items)\n",
    "dc_items_df.write.mode(\"overwrite\").saveAsTable(\"vartefact.forecast_dc_item_details\")"
   ]
  },
  {
   "cell_type": "code",
   "execution_count": 13,
   "metadata": {},
   "outputs": [],
   "source": [
    "sc.stop()"
   ]
  }
 ],
 "metadata": {
  "jupytext": {
   "formats": "ipynb,py"
  },
  "kernelspec": {
   "display_name": "Python 3",
   "language": "python",
   "name": "python3"
  },
  "language_info": {
   "codemirror_mode": {
    "name": "ipython",
    "version": 3
   },
   "file_extension": ".py",
   "mimetype": "text/x-python",
   "name": "python",
   "nbconvert_exporter": "python",
   "pygments_lexer": "ipython3",
   "version": "3.6.6"
  }
 },
 "nbformat": 4,
 "nbformat_minor": 2
}
