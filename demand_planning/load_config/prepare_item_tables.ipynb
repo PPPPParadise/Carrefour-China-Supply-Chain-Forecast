{
 "cells": [
  {
   "cell_type": "code",
   "execution_count": 1,
   "metadata": {},
   "outputs": [],
   "source": [
    "import math\n",
    "import warnings\n",
    "import pandas as pd"
   ]
  },
  {
   "cell_type": "code",
   "execution_count": 2,
   "metadata": {},
   "outputs": [],
   "source": [
    "warnings.filterwarnings('ignore')\n",
    "\n",
    "store_item = pd.read_excel('store_item.xlsx', 'ordinary', header=0, dtype=str).fillna(\"\")\n",
    "\n",
    "store_item = store_item[store_item['CON_HOLDING'].isin(['002', '693', '700'])]\n",
    "\n",
    "x_rotation_mapping = store_item[store_item[\"ROTATION\"] == \"X\"]"
   ]
  },
  {
   "cell_type": "code",
   "execution_count": 3,
   "metadata": {},
   "outputs": [],
   "source": [
    "def get_order_weekday(order_day):\n",
    "    if order_day == \"MON.\":\n",
    "        return 1\n",
    "    elif order_day == \"TUE.\":\n",
    "        return 2\n",
    "    elif order_day == \"WED.\":\n",
    "        return 3\n",
    "    elif order_day == \"THU.\":\n",
    "        return 4\n",
    "    elif order_day == \"FRI.\":\n",
    "        return 5\n",
    "    elif order_day == \"SAT.\":\n",
    "        return 6\n",
    "    elif order_day == \"SUN.\":\n",
    "        return 7\n",
    "\n",
    "def get_deliver_weekday(order_day, lead_time):\n",
    "    delivery_day = order_day + lead_time\n",
    "    \n",
    "    if delivery_day > 7:\n",
    "        return delivery_day % 7\n",
    "    return delivery_day\n",
    "\n",
    "\n",
    "def get_week_shift(order_day, lead_time):\n",
    "    if (order_day + lead_time) > 7:\n",
    "        return math.floor((order_day + lead_time) / 7)\n",
    "    return 0"
   ]
  },
  {
   "cell_type": "code",
   "execution_count": 4,
   "metadata": {
    "lines_to_next_cell": 2
   },
   "outputs": [],
   "source": [
    "new_mapping = x_rotation_mapping[[\"DEPT code\", \"ITEM_CODE\", \"Sub Code\",  \"Flow type\",\n",
    "                                  \"ROTATION\", \"X rotation orderday\", \"X rotation LT\"]].drop_duplicates()\n",
    "\n",
    "new_mapping = new_mapping.set_index([\"DEPT code\", \"ITEM_CODE\", \"Sub Code\", \"Flow type\",\n",
    "                                     \"ROTATION\", \"X rotation LT\"])\n",
    "\n",
    "new_mapping = new_mapping.stack().str.split('/', expand=True) \\\n",
    "    .stack().apply(pd.Series).stack() \\\n",
    "    .unstack(level=8).reset_index(-1, drop=True).reset_index()"
   ]
  },
  {
   "cell_type": "code",
   "execution_count": 5,
   "metadata": {
    "lines_to_next_cell": 2
   },
   "outputs": [],
   "source": [
    "new_mapping.columns = [\"dept_code\", 'item_code', 'sub_code', 'flow_type', 'rotation',\n",
    "                       'lead_time', 'dummy1', 'order_day']\n",
    "\n",
    "new_mapping = new_mapping[['dept_code','item_code', 'sub_code', 'flow_type', 'rotation', 'lead_time', 'order_day']]\n",
    "\n",
    "new_mapping.lead_time = new_mapping.lead_time.str.split(' ', 1, expand=True)\n",
    "\n",
    "new_mapping[\"order_weekday\"] = new_mapping.apply(lambda r: get_order_weekday(r.order_day), axis=1)\n",
    "\n",
    "new_mapping[\"delivery_weekday\"] = new_mapping.apply(\n",
    "    lambda r: get_deliver_weekday(r.order_weekday, int(r.lead_time)), axis=1)\n",
    "\n",
    "new_mapping[\"week_shift\"] = new_mapping.apply(lambda r: get_week_shift(r.order_weekday, int(r.lead_time)), axis=1)"
   ]
  },
  {
   "cell_type": "code",
   "execution_count": 6,
   "metadata": {},
   "outputs": [],
   "source": [
    "from load_spark import load_spark\n",
    "from pyspark.sql import HiveContext\n",
    "\n",
    "sc = load_spark(\"prepare_item_tables\")\n",
    "\n",
    "sqlc = HiveContext(sc)"
   ]
  },
  {
   "cell_type": "code",
   "execution_count": 7,
   "metadata": {},
   "outputs": [],
   "source": [
    "mapping_df = sqlc.createDataFrame(new_mapping)"
   ]
  },
  {
   "cell_type": "code",
   "execution_count": 8,
   "metadata": {},
   "outputs": [],
   "source": [
    "mapping_df.write.mode(\"overwrite\").saveAsTable(\"vartefact.ordinary_xrotation_order_delivery_mapping\")"
   ]
  },
  {
   "cell_type": "code",
   "execution_count": 9,
   "metadata": {},
   "outputs": [],
   "source": [
    "mapping_df.write.mode(\"overwrite\").saveAsTable(\"vartefact.xdock_order_delivery_mapping\")"
   ]
  },
  {
   "cell_type": "code",
   "execution_count": 10,
   "metadata": {},
   "outputs": [],
   "source": [
    "item_details = store_item[['DEPT code', 'CON_HOLDING', 'HOLDING_NAME', 'HOLDING_CHN_NAME',\n",
    "       'ITEM_CODE', 'Sub Code', 'LOCAL_NAME', 'PCB', 'Flow type',\n",
    "       'ROTATION', 'DC Supplier', 'DS Supplier', 'Item status',\n",
    "       'Store need to stop when W stock=o', 'Cover Region']]"
   ]
  },
  {
   "cell_type": "code",
   "execution_count": 11,
   "metadata": {},
   "outputs": [],
   "source": [
    "item_details.columns = ['dept_code', 'con_holding', 'holding_name', 'holiding_chn_name',\n",
    "       'item_code', 'sub_code', 'local_name', 'pcb', 'flow_type',\n",
    "       'rotation', 'dc_supplier_code', 'ds_supplier_code', 'item_status',\n",
    "       'store_stop_when_stock_is_o', 'cover_region']\n",
    "\n",
    "item_details = item_details.drop_duplicates()\n",
    "\n",
    "item_details_df = sqlc.createDataFrame(item_details)"
   ]
  },
  {
   "cell_type": "code",
   "execution_count": 12,
   "metadata": {},
   "outputs": [],
   "source": [
    "item_details_df.write.mode(\"overwrite\").saveAsTable(\"vartefact.forecast_item_details\")"
   ]
  },
  {
   "cell_type": "code",
   "execution_count": 13,
   "metadata": {},
   "outputs": [],
   "source": [
    "sc.stop()"
   ]
  },
  {
   "cell_type": "code",
   "execution_count": null,
   "metadata": {},
   "outputs": [],
   "source": []
  }
 ],
 "metadata": {
  "jupytext": {
   "formats": "ipynb,py"
  },
  "kernelspec": {
   "display_name": "Python 3",
   "language": "python",
   "name": "python3"
  },
  "language_info": {
   "codemirror_mode": {
    "name": "ipython",
    "version": 3
   },
   "file_extension": ".py",
   "mimetype": "text/x-python",
   "name": "python",
   "nbconvert_exporter": "python",
   "pygments_lexer": "ipython3",
   "version": "3.6.6"
  }
 },
 "nbformat": 4,
 "nbformat_minor": 2
}
