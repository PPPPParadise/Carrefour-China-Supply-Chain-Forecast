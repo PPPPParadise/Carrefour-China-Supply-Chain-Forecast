{
 "cells": [
  {
   "cell_type": "code",
   "execution_count": 1,
   "metadata": {},
   "outputs": [],
   "source": [
    "import warnings"
   ]
  },
  {
   "cell_type": "code",
   "execution_count": 2,
   "metadata": {},
   "outputs": [],
   "source": [
    "import pandas as pd"
   ]
  },
  {
   "cell_type": "code",
   "execution_count": 3,
   "metadata": {},
   "outputs": [],
   "source": [
    "warnings.filterwarnings('ignore')"
   ]
  },
  {
   "cell_type": "code",
   "execution_count": 4,
   "metadata": {},
   "outputs": [],
   "source": [
    "data_or = pd.read_excel('store.xlsx', 'ordinary', header=0, dtype=str).fillna(\"\")\n",
    "data_or.columns = ['store_code', 'store_cn_name', 'store_en_name',\n",
    "                   'dept', 'A-order_day', 'A-delivery_day', 'B-order_day', 'B-delivery_day', 'remarks']\n",
    "\n",
    "data_or_A = data_or[['store_code', 'store_cn_name', 'store_en_name',\n",
    "                     'dept', 'A-order_day', 'A-delivery_day', 'remarks']]\n",
    "\n",
    "data_or_A.columns = ['store_code', 'store_cn_name', 'store_en_name',\n",
    "                     'dept', 'order_type', 'delivery_type', 'remarks']\n",
    "data_or_A['class'] = 'A'\n",
    "\n",
    "data_or_B = data_or[['store_code', 'store_cn_name', 'store_en_name',\n",
    "                     'dept', 'B-order_day', 'B-delivery_day', 'remarks']]\n",
    "\n",
    "data_or_B.columns = ['store_code', 'store_cn_name', 'store_en_name',\n",
    "                     'dept', 'order_type', 'delivery_type', 'remarks']\n",
    "\n",
    "data_or_B['class'] = 'B'\n",
    "\n",
    "data_or_f = pd.concat([data_or_A, data_or_B], ignore_index=True)\n",
    "\n",
    "mapping_or = pd.read_excel('order_delivery_mapping.xlsx', 'ordinary', header=0, dtype=str)\n",
    "\n",
    "res_or = data_or_f.merge(mapping_or, left_on=['class', 'order_type', 'delivery_type'], \\\n",
    "                         right_on=['class', 'order_type', 'delivery_type'])\n",
    "\n",
    "res_or[\"week_shift\"] = res_or[\"week_shift\"].astype(int)"
   ]
  },
  {
   "cell_type": "code",
   "execution_count": 5,
   "metadata": {},
   "outputs": [],
   "source": [
    "store_dp = res_or[['store_code','dept']].drop_duplicates()\n",
    "\n",
    "store_dp[\"dept1\"] = store_dp[\"dept\"]\n",
    "\n",
    "store_dp = store_dp.set_index(['store_code','dept'])\n",
    "\n",
    "store_dp = store_dp.stack().str.split(',', expand=True) \\\n",
    "    .stack().apply(pd.Series).stack() \\\n",
    "    .unstack(level=2).reset_index(-1, drop=True).reset_index()\n",
    "\n",
    "store_dp.columns =['store_code', 'dept', 'dummy', 'dept_code']\n",
    "\n",
    "store_dp.dept_code = store_dp.dept_code.str.split(' ', 1, expand=True)\n",
    "\n",
    "store_dp = store_dp[['store_code', 'dept', 'dept_code']].drop_duplicates()"
   ]
  },
  {
   "cell_type": "code",
   "execution_count": 6,
   "metadata": {},
   "outputs": [],
   "source": [
    "final_mapping = res_or.merge(store_dp, left_on=['store_code', 'dept'], \\\n",
    "                         right_on=['store_code', 'dept'])"
   ]
  },
  {
   "cell_type": "code",
   "execution_count": 7,
   "metadata": {},
   "outputs": [
    {
     "data": {
      "text/plain": [
       "Index(['store_code', 'store_cn_name', 'store_en_name', 'dept', 'order_type',\n",
       "       'delivery_type', 'remarks', 'class', 'order_weekday',\n",
       "       'delivery_weekday', 'week_shift', 'dept_code'],\n",
       "      dtype='object')"
      ]
     },
     "execution_count": 7,
     "metadata": {},
     "output_type": "execute_result"
    }
   ],
   "source": [
    "final_mapping.columns"
   ]
  },
  {
   "cell_type": "code",
   "execution_count": 8,
   "metadata": {},
   "outputs": [],
   "source": [
    "stores_dept = final_mapping[['store_code', 'store_cn_name', 'store_en_name', \"remarks\", 'dept', 'dept_code']].drop_duplicates()"
   ]
  },
  {
   "cell_type": "code",
   "execution_count": 9,
   "metadata": {},
   "outputs": [],
   "source": [
    "delivery_time = pd.read_excel('store_delivery_time.xlsx', header=0, dtype=str).fillna(\"\")\n",
    "\n",
    "delivery_time = delivery_time[[\"store_code\",\"delivery_time\"]]"
   ]
  },
  {
   "cell_type": "code",
   "execution_count": 10,
   "metadata": {},
   "outputs": [
    {
     "data": {
      "text/html": [
       "<div>\n",
       "<style scoped>\n",
       "    .dataframe tbody tr th:only-of-type {\n",
       "        vertical-align: middle;\n",
       "    }\n",
       "\n",
       "    .dataframe tbody tr th {\n",
       "        vertical-align: top;\n",
       "    }\n",
       "\n",
       "    .dataframe thead th {\n",
       "        text-align: right;\n",
       "    }\n",
       "</style>\n",
       "<table border=\"1\" class=\"dataframe\">\n",
       "  <thead>\n",
       "    <tr style=\"text-align: right;\">\n",
       "      <th></th>\n",
       "      <th>store_code</th>\n",
       "      <th>delivery_time</th>\n",
       "    </tr>\n",
       "  </thead>\n",
       "  <tbody>\n",
       "    <tr>\n",
       "      <th>0</th>\n",
       "      <td>101</td>\n",
       "      <td>AfterStoreOpen</td>\n",
       "    </tr>\n",
       "    <tr>\n",
       "      <th>1</th>\n",
       "      <td>103</td>\n",
       "      <td>AfterStoreOpen</td>\n",
       "    </tr>\n",
       "    <tr>\n",
       "      <th>2</th>\n",
       "      <td>106</td>\n",
       "      <td>AfterStoreOpen</td>\n",
       "    </tr>\n",
       "    <tr>\n",
       "      <th>3</th>\n",
       "      <td>107</td>\n",
       "      <td>AfterStoreOpen</td>\n",
       "    </tr>\n",
       "    <tr>\n",
       "      <th>4</th>\n",
       "      <td>111</td>\n",
       "      <td>AfterStoreOpen</td>\n",
       "    </tr>\n",
       "  </tbody>\n",
       "</table>\n",
       "</div>"
      ],
      "text/plain": [
       "  store_code   delivery_time\n",
       "0        101  AfterStoreOpen\n",
       "1        103  AfterStoreOpen\n",
       "2        106  AfterStoreOpen\n",
       "3        107  AfterStoreOpen\n",
       "4        111  AfterStoreOpen"
      ]
     },
     "execution_count": 10,
     "metadata": {},
     "output_type": "execute_result"
    }
   ],
   "source": [
    "delivery_time.head()"
   ]
  },
  {
   "cell_type": "code",
   "execution_count": 11,
   "metadata": {},
   "outputs": [],
   "source": [
    "from load_spark import load_spark\n",
    "from pyspark.sql import HiveContext\n",
    "sc = load_spark(\"prepare_store_tables\")\n",
    "\n",
    "sqlc = HiveContext(sc)"
   ]
  },
  {
   "cell_type": "code",
   "execution_count": 12,
   "metadata": {},
   "outputs": [],
   "source": [
    "onstock_df = sqlc.createDataFrame(final_mapping)\n",
    "onstock_df.write.mode(\"overwrite\").saveAsTable(\"vartefact.onstock_order_delivery_mapping\")"
   ]
  },
  {
   "cell_type": "code",
   "execution_count": 13,
   "metadata": {},
   "outputs": [],
   "source": [
    "stores_dept_df = sqlc.createDataFrame(stores_dept)\n",
    "stores_dept_df.write.mode(\"overwrite\").saveAsTable(\"vartefact.forecast_stores_dept\")"
   ]
  },
  {
   "cell_type": "code",
   "execution_count": 14,
   "metadata": {},
   "outputs": [],
   "source": [
    "deliver_time_df = sqlc.createDataFrame(delivery_time)\n",
    "deliver_time_df.write.mode(\"overwrite\").saveAsTable(\"vartefact.forecast_stores_delv_time\")"
   ]
  },
  {
   "cell_type": "code",
   "execution_count": 15,
   "metadata": {},
   "outputs": [],
   "source": [
    "sc.stop()"
   ]
  },
  {
   "cell_type": "code",
   "execution_count": null,
   "metadata": {},
   "outputs": [],
   "source": []
  }
 ],
 "metadata": {
  "jupytext": {
   "formats": "ipynb,py"
  },
  "kernelspec": {
   "display_name": "Python 3",
   "language": "python",
   "name": "python3"
  },
  "language_info": {
   "codemirror_mode": {
    "name": "ipython",
    "version": 3
   },
   "file_extension": ".py",
   "mimetype": "text/x-python",
   "name": "python",
   "nbconvert_exporter": "python",
   "pygments_lexer": "ipython3",
   "version": "3.6.6"
  }
 },
 "nbformat": 4,
 "nbformat_minor": 2
}
